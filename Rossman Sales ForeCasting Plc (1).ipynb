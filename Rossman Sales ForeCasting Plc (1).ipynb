{
 "cells": [
  {
   "cell_type": "code",
   "execution_count": 1,
   "metadata": {},
   "outputs": [],
   "source": [
    "import os \n",
    "import pandas as pd\n",
    "import numpy as np\n",
    "import matplotlib.pyplot as plt\n",
    "import scipy.stats as stats\n",
    "import seaborn as sns"
   ]
  },
  {
   "cell_type": "code",
   "execution_count": 2,
   "metadata": {},
   "outputs": [],
   "source": [
    "#os.chdir(\"B:\\\\Placement Hackathon\\\\Rossman\")"
   ]
  },
  {
   "cell_type": "code",
   "execution_count": 3,
   "metadata": {},
   "outputs": [
    {
     "data": {
      "text/plain": [
       "'C:\\\\Users\\\\ashok\\\\Documents\\\\Placement Hackathon\\\\Rossman'"
      ]
     },
     "execution_count": 3,
     "metadata": {},
     "output_type": "execute_result"
    }
   ],
   "source": [
    "os.getcwd()"
   ]
  },
  {
   "cell_type": "code",
   "execution_count": 211,
   "metadata": {},
   "outputs": [],
   "source": [
    "#Objective:\n",
    "\n",
    "#Data Wrangling and Exploration (treat outliers, handle missing values etc.).\n",
    "#Correlation analysis with Store dataset joined.\n",
    "#Training Model with RF\n",
    "#Visualize and evaluate model\n",
    "#Choose the best performing one and predict the next 6 weeks of sales\n",
    "#The following dataset created by Rossman on its Store Sales and Information of its different drug stores:"
   ]
  },
  {
   "cell_type": "code",
   "execution_count": 212,
   "metadata": {},
   "outputs": [],
   "source": [
    "#Columns       Descriptions\n",
    "#Id             An Id that represents a (Store, Date) duple within the test set\n",
    "#Store          A unique Id for each store\n",
    "#Sales          The turnover on a given day (our target variable)\n",
    "#Customers      The number of customers on a given day\n",
    "#Open           open: 0 = the store is closed , 1 = the store is open\n",
    "#StateHoliday   Indicates a state holiday. a = public holiday, b = Easter holiday, c = Christmas, 0 = None\n",
    "#SchoolHoliday  Store on this Date was affected or not by the closure of public schools\n",
    "#StoreType      4 different stores:a,b,c,d\n",
    "#Assortment      Assortment level: a = basic, b = extra, c = extended\n",
    "#CompetitionDistance   Distance in meters to the nearest competitor store"
   ]
  },
  {
   "cell_type": "code",
   "execution_count": 213,
   "metadata": {},
   "outputs": [],
   "source": [
    "#Having strong interest for Tree-Based models; this notebook is meant to show the performance of a robust ensemble methods ; Random Forest (parallel tree creation) and evaluate the best performing one for this case.\n",
    "\n",
    "#first We need to  do the habitual data treatment and cleansing.\n",
    "\n",
    "#In order to understand better the patterns of the data, i will make use of libraries like matplotlib and seaborn to deep dive cases in the dataset and give better visibility on what is happening with the different types of Rossman drug stores.\n",
    "\n",
    "#This Exploratory analysis will help me move forward with the correlation analysis and feature engineering part of the project.\n",
    "\n",
    "#Then i train my model using scikit-learn with Random Forest Regressor and evaluate it on a validation set in order to analyse and understand which model works best for this scenario."
   ]
  },
  {
   "cell_type": "code",
   "execution_count": 4,
   "metadata": {},
   "outputs": [],
   "source": [
    "# Reading the data"
   ]
  },
  {
   "cell_type": "code",
   "execution_count": 5,
   "metadata": {},
   "outputs": [],
   "source": [
    "train = pd.read_csv(\"C://Users//ashok//Documents//Placement Hackathon//Rossman//train.csv\", sep=',', parse_dates=['Date'],dtype={'StateHoliday': str, 'SchoolHoliday':str})\n",
    "\n",
    "test = pd.read_csv(\"C://Users//ashok//Documents//Placement Hackathon//Rossman//test.csv\", sep=\",\", index_col = 'Id', parse_dates=['Date'], dtype={'StateHoliday': str, 'SchoolHoliday':str})\n",
    "\n",
    "\n",
    "#test = pd.read_csv(\"data/test.csv\", sep=\",\", index_col = 'Id', parse_dates=['Date'], dtype={'StateHoliday': str, 'SchoolHoliday':str})\n",
    "\n",
    "store = pd.read_csv(\"C://Users//ashok//Documents//Placement Hackathon//Rossman//store.csv\", sep=\",\", dtype={'StoreType': str,'Assortment': str,'PromoInterval': str})         "
   ]
  },
  {
   "cell_type": "markdown",
   "metadata": {},
   "source": [
    "# Data Preprocessing and EDA"
   ]
  },
  {
   "cell_type": "code",
   "execution_count": 6,
   "metadata": {},
   "outputs": [
    {
     "data": {
      "text/plain": [
       "(1017209, 9)"
      ]
     },
     "execution_count": 6,
     "metadata": {},
     "output_type": "execute_result"
    }
   ],
   "source": [
    "train.shape"
   ]
  },
  {
   "cell_type": "code",
   "execution_count": 7,
   "metadata": {},
   "outputs": [
    {
     "data": {
      "text/html": [
       "<div>\n",
       "<style scoped>\n",
       "    .dataframe tbody tr th:only-of-type {\n",
       "        vertical-align: middle;\n",
       "    }\n",
       "\n",
       "    .dataframe tbody tr th {\n",
       "        vertical-align: top;\n",
       "    }\n",
       "\n",
       "    .dataframe thead th {\n",
       "        text-align: right;\n",
       "    }\n",
       "</style>\n",
       "<table border=\"1\" class=\"dataframe\">\n",
       "  <thead>\n",
       "    <tr style=\"text-align: right;\">\n",
       "      <th></th>\n",
       "      <th>Store</th>\n",
       "      <th>DayOfWeek</th>\n",
       "      <th>Sales</th>\n",
       "      <th>Customers</th>\n",
       "      <th>Open</th>\n",
       "      <th>Promo</th>\n",
       "    </tr>\n",
       "  </thead>\n",
       "  <tbody>\n",
       "    <tr>\n",
       "      <td>count</td>\n",
       "      <td>1.017209e+06</td>\n",
       "      <td>1.017209e+06</td>\n",
       "      <td>1.017209e+06</td>\n",
       "      <td>1.017209e+06</td>\n",
       "      <td>1.017209e+06</td>\n",
       "      <td>1.017209e+06</td>\n",
       "    </tr>\n",
       "    <tr>\n",
       "      <td>mean</td>\n",
       "      <td>5.584297e+02</td>\n",
       "      <td>3.998341e+00</td>\n",
       "      <td>5.773819e+03</td>\n",
       "      <td>6.331459e+02</td>\n",
       "      <td>8.301067e-01</td>\n",
       "      <td>3.815145e-01</td>\n",
       "    </tr>\n",
       "    <tr>\n",
       "      <td>std</td>\n",
       "      <td>3.219087e+02</td>\n",
       "      <td>1.997391e+00</td>\n",
       "      <td>3.849926e+03</td>\n",
       "      <td>4.644117e+02</td>\n",
       "      <td>3.755392e-01</td>\n",
       "      <td>4.857586e-01</td>\n",
       "    </tr>\n",
       "    <tr>\n",
       "      <td>min</td>\n",
       "      <td>1.000000e+00</td>\n",
       "      <td>1.000000e+00</td>\n",
       "      <td>0.000000e+00</td>\n",
       "      <td>0.000000e+00</td>\n",
       "      <td>0.000000e+00</td>\n",
       "      <td>0.000000e+00</td>\n",
       "    </tr>\n",
       "    <tr>\n",
       "      <td>25%</td>\n",
       "      <td>2.800000e+02</td>\n",
       "      <td>2.000000e+00</td>\n",
       "      <td>3.727000e+03</td>\n",
       "      <td>4.050000e+02</td>\n",
       "      <td>1.000000e+00</td>\n",
       "      <td>0.000000e+00</td>\n",
       "    </tr>\n",
       "    <tr>\n",
       "      <td>50%</td>\n",
       "      <td>5.580000e+02</td>\n",
       "      <td>4.000000e+00</td>\n",
       "      <td>5.744000e+03</td>\n",
       "      <td>6.090000e+02</td>\n",
       "      <td>1.000000e+00</td>\n",
       "      <td>0.000000e+00</td>\n",
       "    </tr>\n",
       "    <tr>\n",
       "      <td>75%</td>\n",
       "      <td>8.380000e+02</td>\n",
       "      <td>6.000000e+00</td>\n",
       "      <td>7.856000e+03</td>\n",
       "      <td>8.370000e+02</td>\n",
       "      <td>1.000000e+00</td>\n",
       "      <td>1.000000e+00</td>\n",
       "    </tr>\n",
       "    <tr>\n",
       "      <td>max</td>\n",
       "      <td>1.115000e+03</td>\n",
       "      <td>7.000000e+00</td>\n",
       "      <td>4.155100e+04</td>\n",
       "      <td>7.388000e+03</td>\n",
       "      <td>1.000000e+00</td>\n",
       "      <td>1.000000e+00</td>\n",
       "    </tr>\n",
       "  </tbody>\n",
       "</table>\n",
       "</div>"
      ],
      "text/plain": [
       "              Store     DayOfWeek         Sales     Customers          Open  \\\n",
       "count  1.017209e+06  1.017209e+06  1.017209e+06  1.017209e+06  1.017209e+06   \n",
       "mean   5.584297e+02  3.998341e+00  5.773819e+03  6.331459e+02  8.301067e-01   \n",
       "std    3.219087e+02  1.997391e+00  3.849926e+03  4.644117e+02  3.755392e-01   \n",
       "min    1.000000e+00  1.000000e+00  0.000000e+00  0.000000e+00  0.000000e+00   \n",
       "25%    2.800000e+02  2.000000e+00  3.727000e+03  4.050000e+02  1.000000e+00   \n",
       "50%    5.580000e+02  4.000000e+00  5.744000e+03  6.090000e+02  1.000000e+00   \n",
       "75%    8.380000e+02  6.000000e+00  7.856000e+03  8.370000e+02  1.000000e+00   \n",
       "max    1.115000e+03  7.000000e+00  4.155100e+04  7.388000e+03  1.000000e+00   \n",
       "\n",
       "              Promo  \n",
       "count  1.017209e+06  \n",
       "mean   3.815145e-01  \n",
       "std    4.857586e-01  \n",
       "min    0.000000e+00  \n",
       "25%    0.000000e+00  \n",
       "50%    0.000000e+00  \n",
       "75%    1.000000e+00  \n",
       "max    1.000000e+00  "
      ]
     },
     "execution_count": 7,
     "metadata": {},
     "output_type": "execute_result"
    }
   ],
   "source": [
    "train.describe()"
   ]
  },
  {
   "cell_type": "code",
   "execution_count": 8,
   "metadata": {},
   "outputs": [
    {
     "name": "stdout",
     "output_type": "stream",
     "text": [
      "<class 'pandas.core.frame.DataFrame'>\n",
      "RangeIndex: 1017209 entries, 0 to 1017208\n",
      "Data columns (total 9 columns):\n",
      "Store            1017209 non-null int64\n",
      "DayOfWeek        1017209 non-null int64\n",
      "Date             1017209 non-null datetime64[ns]\n",
      "Sales            1017209 non-null int64\n",
      "Customers        1017209 non-null int64\n",
      "Open             1017209 non-null int64\n",
      "Promo            1017209 non-null int64\n",
      "StateHoliday     1017209 non-null object\n",
      "SchoolHoliday    1017209 non-null object\n",
      "dtypes: datetime64[ns](1), int64(6), object(2)\n",
      "memory usage: 69.8+ MB\n"
     ]
    }
   ],
   "source": [
    "train.info()"
   ]
  },
  {
   "cell_type": "code",
   "execution_count": 9,
   "metadata": {},
   "outputs": [
    {
     "data": {
      "text/plain": [
       "(41088, 7)"
      ]
     },
     "execution_count": 9,
     "metadata": {},
     "output_type": "execute_result"
    }
   ],
   "source": [
    "\n",
    "test.shape "
   ]
  },
  {
   "cell_type": "code",
   "execution_count": 10,
   "metadata": {},
   "outputs": [
    {
     "data": {
      "text/html": [
       "<div>\n",
       "<style scoped>\n",
       "    .dataframe tbody tr th:only-of-type {\n",
       "        vertical-align: middle;\n",
       "    }\n",
       "\n",
       "    .dataframe tbody tr th {\n",
       "        vertical-align: top;\n",
       "    }\n",
       "\n",
       "    .dataframe thead th {\n",
       "        text-align: right;\n",
       "    }\n",
       "</style>\n",
       "<table border=\"1\" class=\"dataframe\">\n",
       "  <thead>\n",
       "    <tr style=\"text-align: right;\">\n",
       "      <th></th>\n",
       "      <th>Store</th>\n",
       "      <th>DayOfWeek</th>\n",
       "      <th>Open</th>\n",
       "      <th>Promo</th>\n",
       "    </tr>\n",
       "  </thead>\n",
       "  <tbody>\n",
       "    <tr>\n",
       "      <td>count</td>\n",
       "      <td>41088.000000</td>\n",
       "      <td>41088.000000</td>\n",
       "      <td>41077.000000</td>\n",
       "      <td>41088.000000</td>\n",
       "    </tr>\n",
       "    <tr>\n",
       "      <td>mean</td>\n",
       "      <td>555.899533</td>\n",
       "      <td>3.979167</td>\n",
       "      <td>0.854322</td>\n",
       "      <td>0.395833</td>\n",
       "    </tr>\n",
       "    <tr>\n",
       "      <td>std</td>\n",
       "      <td>320.274496</td>\n",
       "      <td>2.015481</td>\n",
       "      <td>0.352787</td>\n",
       "      <td>0.489035</td>\n",
       "    </tr>\n",
       "    <tr>\n",
       "      <td>min</td>\n",
       "      <td>1.000000</td>\n",
       "      <td>1.000000</td>\n",
       "      <td>0.000000</td>\n",
       "      <td>0.000000</td>\n",
       "    </tr>\n",
       "    <tr>\n",
       "      <td>25%</td>\n",
       "      <td>279.750000</td>\n",
       "      <td>2.000000</td>\n",
       "      <td>1.000000</td>\n",
       "      <td>0.000000</td>\n",
       "    </tr>\n",
       "    <tr>\n",
       "      <td>50%</td>\n",
       "      <td>553.500000</td>\n",
       "      <td>4.000000</td>\n",
       "      <td>1.000000</td>\n",
       "      <td>0.000000</td>\n",
       "    </tr>\n",
       "    <tr>\n",
       "      <td>75%</td>\n",
       "      <td>832.250000</td>\n",
       "      <td>6.000000</td>\n",
       "      <td>1.000000</td>\n",
       "      <td>1.000000</td>\n",
       "    </tr>\n",
       "    <tr>\n",
       "      <td>max</td>\n",
       "      <td>1115.000000</td>\n",
       "      <td>7.000000</td>\n",
       "      <td>1.000000</td>\n",
       "      <td>1.000000</td>\n",
       "    </tr>\n",
       "  </tbody>\n",
       "</table>\n",
       "</div>"
      ],
      "text/plain": [
       "              Store     DayOfWeek          Open         Promo\n",
       "count  41088.000000  41088.000000  41077.000000  41088.000000\n",
       "mean     555.899533      3.979167      0.854322      0.395833\n",
       "std      320.274496      2.015481      0.352787      0.489035\n",
       "min        1.000000      1.000000      0.000000      0.000000\n",
       "25%      279.750000      2.000000      1.000000      0.000000\n",
       "50%      553.500000      4.000000      1.000000      0.000000\n",
       "75%      832.250000      6.000000      1.000000      1.000000\n",
       "max     1115.000000      7.000000      1.000000      1.000000"
      ]
     },
     "execution_count": 10,
     "metadata": {},
     "output_type": "execute_result"
    }
   ],
   "source": [
    "test.describe()"
   ]
  },
  {
   "cell_type": "code",
   "execution_count": 11,
   "metadata": {},
   "outputs": [
    {
     "name": "stdout",
     "output_type": "stream",
     "text": [
      "<class 'pandas.core.frame.DataFrame'>\n",
      "Int64Index: 41088 entries, 1 to 41088\n",
      "Data columns (total 7 columns):\n",
      "Store            41088 non-null int64\n",
      "DayOfWeek        41088 non-null int64\n",
      "Date             41088 non-null datetime64[ns]\n",
      "Open             41077 non-null float64\n",
      "Promo            41088 non-null int64\n",
      "StateHoliday     41088 non-null object\n",
      "SchoolHoliday    41088 non-null object\n",
      "dtypes: datetime64[ns](1), float64(1), int64(3), object(2)\n",
      "memory usage: 2.5+ MB\n"
     ]
    }
   ],
   "source": [
    "test.info()"
   ]
  },
  {
   "cell_type": "code",
   "execution_count": 12,
   "metadata": {},
   "outputs": [
    {
     "data": {
      "text/plain": [
       "(1115, 10)"
      ]
     },
     "execution_count": 12,
     "metadata": {},
     "output_type": "execute_result"
    }
   ],
   "source": [
    "store.shape "
   ]
  },
  {
   "cell_type": "code",
   "execution_count": 13,
   "metadata": {},
   "outputs": [
    {
     "data": {
      "text/html": [
       "<div>\n",
       "<style scoped>\n",
       "    .dataframe tbody tr th:only-of-type {\n",
       "        vertical-align: middle;\n",
       "    }\n",
       "\n",
       "    .dataframe tbody tr th {\n",
       "        vertical-align: top;\n",
       "    }\n",
       "\n",
       "    .dataframe thead th {\n",
       "        text-align: right;\n",
       "    }\n",
       "</style>\n",
       "<table border=\"1\" class=\"dataframe\">\n",
       "  <thead>\n",
       "    <tr style=\"text-align: right;\">\n",
       "      <th></th>\n",
       "      <th>Store</th>\n",
       "      <th>CompetitionDistance</th>\n",
       "      <th>CompetitionOpenSinceMonth</th>\n",
       "      <th>CompetitionOpenSinceYear</th>\n",
       "      <th>Promo2</th>\n",
       "      <th>Promo2SinceWeek</th>\n",
       "      <th>Promo2SinceYear</th>\n",
       "    </tr>\n",
       "  </thead>\n",
       "  <tbody>\n",
       "    <tr>\n",
       "      <td>count</td>\n",
       "      <td>1115.00000</td>\n",
       "      <td>1112.000000</td>\n",
       "      <td>761.000000</td>\n",
       "      <td>761.000000</td>\n",
       "      <td>1115.000000</td>\n",
       "      <td>571.000000</td>\n",
       "      <td>571.000000</td>\n",
       "    </tr>\n",
       "    <tr>\n",
       "      <td>mean</td>\n",
       "      <td>558.00000</td>\n",
       "      <td>5404.901079</td>\n",
       "      <td>7.224704</td>\n",
       "      <td>2008.668857</td>\n",
       "      <td>0.512108</td>\n",
       "      <td>23.595447</td>\n",
       "      <td>2011.763573</td>\n",
       "    </tr>\n",
       "    <tr>\n",
       "      <td>std</td>\n",
       "      <td>322.01708</td>\n",
       "      <td>7663.174720</td>\n",
       "      <td>3.212348</td>\n",
       "      <td>6.195983</td>\n",
       "      <td>0.500078</td>\n",
       "      <td>14.141984</td>\n",
       "      <td>1.674935</td>\n",
       "    </tr>\n",
       "    <tr>\n",
       "      <td>min</td>\n",
       "      <td>1.00000</td>\n",
       "      <td>20.000000</td>\n",
       "      <td>1.000000</td>\n",
       "      <td>1900.000000</td>\n",
       "      <td>0.000000</td>\n",
       "      <td>1.000000</td>\n",
       "      <td>2009.000000</td>\n",
       "    </tr>\n",
       "    <tr>\n",
       "      <td>25%</td>\n",
       "      <td>279.50000</td>\n",
       "      <td>717.500000</td>\n",
       "      <td>4.000000</td>\n",
       "      <td>2006.000000</td>\n",
       "      <td>0.000000</td>\n",
       "      <td>13.000000</td>\n",
       "      <td>2011.000000</td>\n",
       "    </tr>\n",
       "    <tr>\n",
       "      <td>50%</td>\n",
       "      <td>558.00000</td>\n",
       "      <td>2325.000000</td>\n",
       "      <td>8.000000</td>\n",
       "      <td>2010.000000</td>\n",
       "      <td>1.000000</td>\n",
       "      <td>22.000000</td>\n",
       "      <td>2012.000000</td>\n",
       "    </tr>\n",
       "    <tr>\n",
       "      <td>75%</td>\n",
       "      <td>836.50000</td>\n",
       "      <td>6882.500000</td>\n",
       "      <td>10.000000</td>\n",
       "      <td>2013.000000</td>\n",
       "      <td>1.000000</td>\n",
       "      <td>37.000000</td>\n",
       "      <td>2013.000000</td>\n",
       "    </tr>\n",
       "    <tr>\n",
       "      <td>max</td>\n",
       "      <td>1115.00000</td>\n",
       "      <td>75860.000000</td>\n",
       "      <td>12.000000</td>\n",
       "      <td>2015.000000</td>\n",
       "      <td>1.000000</td>\n",
       "      <td>50.000000</td>\n",
       "      <td>2015.000000</td>\n",
       "    </tr>\n",
       "  </tbody>\n",
       "</table>\n",
       "</div>"
      ],
      "text/plain": [
       "            Store  CompetitionDistance  CompetitionOpenSinceMonth  \\\n",
       "count  1115.00000          1112.000000                 761.000000   \n",
       "mean    558.00000          5404.901079                   7.224704   \n",
       "std     322.01708          7663.174720                   3.212348   \n",
       "min       1.00000            20.000000                   1.000000   \n",
       "25%     279.50000           717.500000                   4.000000   \n",
       "50%     558.00000          2325.000000                   8.000000   \n",
       "75%     836.50000          6882.500000                  10.000000   \n",
       "max    1115.00000         75860.000000                  12.000000   \n",
       "\n",
       "       CompetitionOpenSinceYear       Promo2  Promo2SinceWeek  Promo2SinceYear  \n",
       "count                761.000000  1115.000000       571.000000       571.000000  \n",
       "mean                2008.668857     0.512108        23.595447      2011.763573  \n",
       "std                    6.195983     0.500078        14.141984         1.674935  \n",
       "min                 1900.000000     0.000000         1.000000      2009.000000  \n",
       "25%                 2006.000000     0.000000        13.000000      2011.000000  \n",
       "50%                 2010.000000     1.000000        22.000000      2012.000000  \n",
       "75%                 2013.000000     1.000000        37.000000      2013.000000  \n",
       "max                 2015.000000     1.000000        50.000000      2015.000000  "
      ]
     },
     "execution_count": 13,
     "metadata": {},
     "output_type": "execute_result"
    }
   ],
   "source": [
    "store.describe()"
   ]
  },
  {
   "cell_type": "code",
   "execution_count": 14,
   "metadata": {},
   "outputs": [
    {
     "name": "stdout",
     "output_type": "stream",
     "text": [
      "<class 'pandas.core.frame.DataFrame'>\n",
      "RangeIndex: 1115 entries, 0 to 1114\n",
      "Data columns (total 10 columns):\n",
      "Store                        1115 non-null int64\n",
      "StoreType                    1115 non-null object\n",
      "Assortment                   1115 non-null object\n",
      "CompetitionDistance          1112 non-null float64\n",
      "CompetitionOpenSinceMonth    761 non-null float64\n",
      "CompetitionOpenSinceYear     761 non-null float64\n",
      "Promo2                       1115 non-null int64\n",
      "Promo2SinceWeek              571 non-null float64\n",
      "Promo2SinceYear              571 non-null float64\n",
      "PromoInterval                571 non-null object\n",
      "dtypes: float64(5), int64(2), object(3)\n",
      "memory usage: 87.2+ KB\n"
     ]
    }
   ],
   "source": [
    "store.info()"
   ]
  },
  {
   "cell_type": "code",
   "execution_count": 15,
   "metadata": {},
   "outputs": [],
   "source": [
    "#Train data inspect "
   ]
  },
  {
   "cell_type": "code",
   "execution_count": 16,
   "metadata": {},
   "outputs": [
    {
     "name": "stdout",
     "output_type": "stream",
     "text": [
      "   Store  DayOfWeek       Date  Sales  Customers  Open  Promo StateHoliday  \\\n",
      "0      1          5 2015-07-31   5263        555     1      1            0   \n",
      "1      2          5 2015-07-31   6064        625     1      1            0   \n",
      "2      3          5 2015-07-31   8314        821     1      1            0   \n",
      "3      4          5 2015-07-31  13995       1498     1      1            0   \n",
      "4      5          5 2015-07-31   4822        559     1      1            0   \n",
      "\n",
      "  SchoolHoliday  \n",
      "0             1  \n",
      "1             1  \n",
      "2             1  \n",
      "3             1  \n",
      "4             1  \n"
     ]
    }
   ],
   "source": [
    "print(train.head())"
   ]
  },
  {
   "cell_type": "code",
   "execution_count": 17,
   "metadata": {},
   "outputs": [],
   "source": [
    "#From the above train data set we can see that , sales will be out target and prediction, \n",
    "#open == storem open on particual day or not \n",
    "#state holiday on particual day on that store  or not \n",
    "#school holiday on particual day on that store or not \n",
    "#promo has be done for that store or not"
   ]
  },
  {
   "cell_type": "code",
   "execution_count": 18,
   "metadata": {},
   "outputs": [
    {
     "name": "stdout",
     "output_type": "stream",
     "text": [
      "         Store  DayOfWeek       Date  Sales  Customers  Open  Promo  \\\n",
      "1017204   1111          2 2013-01-01      0          0     0      0   \n",
      "1017205   1112          2 2013-01-01      0          0     0      0   \n",
      "1017206   1113          2 2013-01-01      0          0     0      0   \n",
      "1017207   1114          2 2013-01-01      0          0     0      0   \n",
      "1017208   1115          2 2013-01-01      0          0     0      0   \n",
      "\n",
      "        StateHoliday SchoolHoliday  \n",
      "1017204            a             1  \n",
      "1017205            a             1  \n",
      "1017206            a             1  \n",
      "1017207            a             1  \n",
      "1017208            a             1  \n"
     ]
    }
   ],
   "source": [
    "print(train.tail())"
   ]
  },
  {
   "cell_type": "code",
   "execution_count": 19,
   "metadata": {},
   "outputs": [],
   "source": [
    "# Seems the there won't be any average sales on the closed day of store "
   ]
  },
  {
   "cell_type": "code",
   "execution_count": 20,
   "metadata": {},
   "outputs": [
    {
     "data": {
      "text/plain": [
       "0.0"
      ]
     },
     "execution_count": 20,
     "metadata": {},
     "output_type": "execute_result"
    }
   ],
   "source": [
    "train.loc[train['Open'] == 0, 'Sales'].mean()"
   ]
  },
  {
   "cell_type": "code",
   "execution_count": 21,
   "metadata": {},
   "outputs": [],
   "source": [
    "# Lets observe the seasoal sales as per year ans month \n",
    "# Creating two new colums of year and month using datetime function"
   ]
  },
  {
   "cell_type": "code",
   "execution_count": 22,
   "metadata": {},
   "outputs": [],
   "source": [
    "train['Year'] = pd.DatetimeIndex(train['Date']).year\n",
    "train['Month'] = pd.DatetimeIndex(train['Date']).month"
   ]
  },
  {
   "cell_type": "code",
   "execution_count": 23,
   "metadata": {},
   "outputs": [],
   "source": [
    "# organising the train data in with newly created columns\n",
    "train = train[['Store', 'DayOfWeek', 'Date', 'Year', 'Month', 'Customers', 'Open','Promo', 'StateHoliday', 'SchoolHoliday', 'Sales']]"
   ]
  },
  {
   "cell_type": "code",
   "execution_count": 24,
   "metadata": {},
   "outputs": [
    {
     "data": {
      "text/plain": [
       "['Store',\n",
       " 'DayOfWeek',\n",
       " 'Date',\n",
       " 'Year',\n",
       " 'Month',\n",
       " 'Customers',\n",
       " 'Open',\n",
       " 'Promo',\n",
       " 'StateHoliday',\n",
       " 'SchoolHoliday',\n",
       " 'Sales']"
      ]
     },
     "execution_count": 24,
     "metadata": {},
     "output_type": "execute_result"
    }
   ],
   "source": [
    "list(train.columns.values) # verifying "
   ]
  },
  {
   "cell_type": "code",
   "execution_count": 25,
   "metadata": {},
   "outputs": [
    {
     "name": "stdout",
     "output_type": "stream",
     "text": [
      "         Store  DayOfWeek       Date  Year  Month  Customers  Open  Promo  \\\n",
      "0            1          5 2015-07-31  2015      7        555     1      1   \n",
      "1            2          5 2015-07-31  2015      7        625     1      1   \n",
      "2            3          5 2015-07-31  2015      7        821     1      1   \n",
      "3            4          5 2015-07-31  2015      7       1498     1      1   \n",
      "4            5          5 2015-07-31  2015      7        559     1      1   \n",
      "...        ...        ...        ...   ...    ...        ...   ...    ...   \n",
      "1017204   1111          2 2013-01-01  2013      1          0     0      0   \n",
      "1017205   1112          2 2013-01-01  2013      1          0     0      0   \n",
      "1017206   1113          2 2013-01-01  2013      1          0     0      0   \n",
      "1017207   1114          2 2013-01-01  2013      1          0     0      0   \n",
      "1017208   1115          2 2013-01-01  2013      1          0     0      0   \n",
      "\n",
      "        StateHoliday SchoolHoliday  Sales  \n",
      "0                  0             1   5263  \n",
      "1                  0             1   6064  \n",
      "2                  0             1   8314  \n",
      "3                  0             1  13995  \n",
      "4                  0             1   4822  \n",
      "...              ...           ...    ...  \n",
      "1017204            a             1      0  \n",
      "1017205            a             1      0  \n",
      "1017206            a             1      0  \n",
      "1017207            a             1      0  \n",
      "1017208            a             1      0  \n",
      "\n",
      "[1017209 rows x 11 columns]\n"
     ]
    }
   ],
   "source": [
    "print(train)"
   ]
  },
  {
   "cell_type": "code",
   "execution_count": 26,
   "metadata": {},
   "outputs": [
    {
     "data": {
      "text/plain": [
       "Store                     int64\n",
       "DayOfWeek                 int64\n",
       "Date             datetime64[ns]\n",
       "Year                      int64\n",
       "Month                     int64\n",
       "Customers                 int64\n",
       "Open                      int64\n",
       "Promo                     int64\n",
       "StateHoliday             object\n",
       "SchoolHoliday            object\n",
       "Sales                     int64\n",
       "dtype: object"
      ]
     },
     "execution_count": 26,
     "metadata": {},
     "output_type": "execute_result"
    }
   ],
   "source": [
    "train.dtypes"
   ]
  },
  {
   "cell_type": "code",
   "execution_count": 27,
   "metadata": {},
   "outputs": [
    {
     "data": {
      "text/plain": [
       "array(['0', 'a', 'b', 'c'], dtype=object)"
      ]
     },
     "execution_count": 27,
     "metadata": {},
     "output_type": "execute_result"
    }
   ],
   "source": [
    "train['StateHoliday'].unique()"
   ]
  },
  {
   "cell_type": "code",
   "execution_count": 28,
   "metadata": {},
   "outputs": [
    {
     "data": {
      "text/plain": [
       "0          0\n",
       "1          0\n",
       "2          0\n",
       "3          0\n",
       "4          0\n",
       "          ..\n",
       "1017204    a\n",
       "1017205    a\n",
       "1017206    a\n",
       "1017207    a\n",
       "1017208    a\n",
       "Name: StateHoliday, Length: 1017209, dtype: object"
      ]
     },
     "execution_count": 28,
     "metadata": {},
     "output_type": "execute_result"
    }
   ],
   "source": [
    "train.iloc[:,8]"
   ]
  },
  {
   "cell_type": "code",
   "execution_count": 29,
   "metadata": {},
   "outputs": [],
   "source": [
    "# Dummification of Stateholiday "
   ]
  },
  {
   "cell_type": "code",
   "execution_count": 30,
   "metadata": {},
   "outputs": [],
   "source": [
    "#from sklearn.preprocessing import OneHotEncoder\n",
    "#onehotencoder = OneHotEncoder(categorical_features=[8])\n",
    "#train = onehotencoder.fit_transform(train.loc[8]).toarray()"
   ]
  },
  {
   "cell_type": "code",
   "execution_count": 31,
   "metadata": {},
   "outputs": [],
   "source": [
    "from sklearn.preprocessing import LabelEncoder \n",
    "labencdr_t = LabelEncoder()\n",
    "train.iloc[:,8] = labencdr_t.fit_transform(train.iloc[:,8])"
   ]
  },
  {
   "cell_type": "code",
   "execution_count": 32,
   "metadata": {},
   "outputs": [
    {
     "data": {
      "text/html": [
       "<div>\n",
       "<style scoped>\n",
       "    .dataframe tbody tr th:only-of-type {\n",
       "        vertical-align: middle;\n",
       "    }\n",
       "\n",
       "    .dataframe tbody tr th {\n",
       "        vertical-align: top;\n",
       "    }\n",
       "\n",
       "    .dataframe thead th {\n",
       "        text-align: right;\n",
       "    }\n",
       "</style>\n",
       "<table border=\"1\" class=\"dataframe\">\n",
       "  <thead>\n",
       "    <tr style=\"text-align: right;\">\n",
       "      <th></th>\n",
       "      <th>Store</th>\n",
       "      <th>DayOfWeek</th>\n",
       "      <th>Date</th>\n",
       "      <th>Year</th>\n",
       "      <th>Month</th>\n",
       "      <th>Customers</th>\n",
       "      <th>Open</th>\n",
       "      <th>Promo</th>\n",
       "      <th>StateHoliday</th>\n",
       "      <th>SchoolHoliday</th>\n",
       "      <th>Sales</th>\n",
       "    </tr>\n",
       "  </thead>\n",
       "  <tbody>\n",
       "    <tr>\n",
       "      <td>0</td>\n",
       "      <td>1</td>\n",
       "      <td>5</td>\n",
       "      <td>2015-07-31</td>\n",
       "      <td>2015</td>\n",
       "      <td>7</td>\n",
       "      <td>555</td>\n",
       "      <td>1</td>\n",
       "      <td>1</td>\n",
       "      <td>0</td>\n",
       "      <td>1</td>\n",
       "      <td>5263</td>\n",
       "    </tr>\n",
       "    <tr>\n",
       "      <td>1</td>\n",
       "      <td>2</td>\n",
       "      <td>5</td>\n",
       "      <td>2015-07-31</td>\n",
       "      <td>2015</td>\n",
       "      <td>7</td>\n",
       "      <td>625</td>\n",
       "      <td>1</td>\n",
       "      <td>1</td>\n",
       "      <td>0</td>\n",
       "      <td>1</td>\n",
       "      <td>6064</td>\n",
       "    </tr>\n",
       "    <tr>\n",
       "      <td>2</td>\n",
       "      <td>3</td>\n",
       "      <td>5</td>\n",
       "      <td>2015-07-31</td>\n",
       "      <td>2015</td>\n",
       "      <td>7</td>\n",
       "      <td>821</td>\n",
       "      <td>1</td>\n",
       "      <td>1</td>\n",
       "      <td>0</td>\n",
       "      <td>1</td>\n",
       "      <td>8314</td>\n",
       "    </tr>\n",
       "    <tr>\n",
       "      <td>3</td>\n",
       "      <td>4</td>\n",
       "      <td>5</td>\n",
       "      <td>2015-07-31</td>\n",
       "      <td>2015</td>\n",
       "      <td>7</td>\n",
       "      <td>1498</td>\n",
       "      <td>1</td>\n",
       "      <td>1</td>\n",
       "      <td>0</td>\n",
       "      <td>1</td>\n",
       "      <td>13995</td>\n",
       "    </tr>\n",
       "    <tr>\n",
       "      <td>4</td>\n",
       "      <td>5</td>\n",
       "      <td>5</td>\n",
       "      <td>2015-07-31</td>\n",
       "      <td>2015</td>\n",
       "      <td>7</td>\n",
       "      <td>559</td>\n",
       "      <td>1</td>\n",
       "      <td>1</td>\n",
       "      <td>0</td>\n",
       "      <td>1</td>\n",
       "      <td>4822</td>\n",
       "    </tr>\n",
       "    <tr>\n",
       "      <td>...</td>\n",
       "      <td>...</td>\n",
       "      <td>...</td>\n",
       "      <td>...</td>\n",
       "      <td>...</td>\n",
       "      <td>...</td>\n",
       "      <td>...</td>\n",
       "      <td>...</td>\n",
       "      <td>...</td>\n",
       "      <td>...</td>\n",
       "      <td>...</td>\n",
       "      <td>...</td>\n",
       "    </tr>\n",
       "    <tr>\n",
       "      <td>1017204</td>\n",
       "      <td>1111</td>\n",
       "      <td>2</td>\n",
       "      <td>2013-01-01</td>\n",
       "      <td>2013</td>\n",
       "      <td>1</td>\n",
       "      <td>0</td>\n",
       "      <td>0</td>\n",
       "      <td>0</td>\n",
       "      <td>1</td>\n",
       "      <td>1</td>\n",
       "      <td>0</td>\n",
       "    </tr>\n",
       "    <tr>\n",
       "      <td>1017205</td>\n",
       "      <td>1112</td>\n",
       "      <td>2</td>\n",
       "      <td>2013-01-01</td>\n",
       "      <td>2013</td>\n",
       "      <td>1</td>\n",
       "      <td>0</td>\n",
       "      <td>0</td>\n",
       "      <td>0</td>\n",
       "      <td>1</td>\n",
       "      <td>1</td>\n",
       "      <td>0</td>\n",
       "    </tr>\n",
       "    <tr>\n",
       "      <td>1017206</td>\n",
       "      <td>1113</td>\n",
       "      <td>2</td>\n",
       "      <td>2013-01-01</td>\n",
       "      <td>2013</td>\n",
       "      <td>1</td>\n",
       "      <td>0</td>\n",
       "      <td>0</td>\n",
       "      <td>0</td>\n",
       "      <td>1</td>\n",
       "      <td>1</td>\n",
       "      <td>0</td>\n",
       "    </tr>\n",
       "    <tr>\n",
       "      <td>1017207</td>\n",
       "      <td>1114</td>\n",
       "      <td>2</td>\n",
       "      <td>2013-01-01</td>\n",
       "      <td>2013</td>\n",
       "      <td>1</td>\n",
       "      <td>0</td>\n",
       "      <td>0</td>\n",
       "      <td>0</td>\n",
       "      <td>1</td>\n",
       "      <td>1</td>\n",
       "      <td>0</td>\n",
       "    </tr>\n",
       "    <tr>\n",
       "      <td>1017208</td>\n",
       "      <td>1115</td>\n",
       "      <td>2</td>\n",
       "      <td>2013-01-01</td>\n",
       "      <td>2013</td>\n",
       "      <td>1</td>\n",
       "      <td>0</td>\n",
       "      <td>0</td>\n",
       "      <td>0</td>\n",
       "      <td>1</td>\n",
       "      <td>1</td>\n",
       "      <td>0</td>\n",
       "    </tr>\n",
       "  </tbody>\n",
       "</table>\n",
       "<p>1017209 rows × 11 columns</p>\n",
       "</div>"
      ],
      "text/plain": [
       "         Store  DayOfWeek       Date  Year  Month  Customers  Open  Promo  \\\n",
       "0            1          5 2015-07-31  2015      7        555     1      1   \n",
       "1            2          5 2015-07-31  2015      7        625     1      1   \n",
       "2            3          5 2015-07-31  2015      7        821     1      1   \n",
       "3            4          5 2015-07-31  2015      7       1498     1      1   \n",
       "4            5          5 2015-07-31  2015      7        559     1      1   \n",
       "...        ...        ...        ...   ...    ...        ...   ...    ...   \n",
       "1017204   1111          2 2013-01-01  2013      1          0     0      0   \n",
       "1017205   1112          2 2013-01-01  2013      1          0     0      0   \n",
       "1017206   1113          2 2013-01-01  2013      1          0     0      0   \n",
       "1017207   1114          2 2013-01-01  2013      1          0     0      0   \n",
       "1017208   1115          2 2013-01-01  2013      1          0     0      0   \n",
       "\n",
       "         StateHoliday SchoolHoliday  Sales  \n",
       "0                   0             1   5263  \n",
       "1                   0             1   6064  \n",
       "2                   0             1   8314  \n",
       "3                   0             1  13995  \n",
       "4                   0             1   4822  \n",
       "...               ...           ...    ...  \n",
       "1017204             1             1      0  \n",
       "1017205             1             1      0  \n",
       "1017206             1             1      0  \n",
       "1017207             1             1      0  \n",
       "1017208             1             1      0  \n",
       "\n",
       "[1017209 rows x 11 columns]"
      ]
     },
     "execution_count": 32,
     "metadata": {},
     "output_type": "execute_result"
    }
   ],
   "source": [
    "train"
   ]
  },
  {
   "cell_type": "code",
   "execution_count": null,
   "metadata": {},
   "outputs": [],
   "source": []
  },
  {
   "cell_type": "code",
   "execution_count": 33,
   "metadata": {},
   "outputs": [],
   "source": [
    "# Checking values of school holiday "
   ]
  },
  {
   "cell_type": "code",
   "execution_count": 34,
   "metadata": {},
   "outputs": [
    {
     "data": {
      "text/plain": [
       "array(['1', '0'], dtype=object)"
      ]
     },
     "execution_count": 34,
     "metadata": {},
     "output_type": "execute_result"
    }
   ],
   "source": [
    "train['SchoolHoliday'].unique()"
   ]
  },
  {
   "cell_type": "code",
   "execution_count": 35,
   "metadata": {},
   "outputs": [],
   "source": [
    "#object to integer conversion"
   ]
  },
  {
   "cell_type": "code",
   "execution_count": 36,
   "metadata": {},
   "outputs": [],
   "source": [
    "train['SchoolHoliday'] = train['SchoolHoliday'].astype(int)"
   ]
  },
  {
   "cell_type": "code",
   "execution_count": 37,
   "metadata": {},
   "outputs": [],
   "source": [
    "# recheck the data frame "
   ]
  },
  {
   "cell_type": "code",
   "execution_count": 38,
   "metadata": {},
   "outputs": [
    {
     "data": {
      "text/plain": [
       "Store                     int64\n",
       "DayOfWeek                 int64\n",
       "Date             datetime64[ns]\n",
       "Year                      int64\n",
       "Month                     int64\n",
       "Customers                 int64\n",
       "Open                      int64\n",
       "Promo                     int64\n",
       "StateHoliday              int32\n",
       "SchoolHoliday             int32\n",
       "Sales                     int64\n",
       "dtype: object"
      ]
     },
     "execution_count": 38,
     "metadata": {},
     "output_type": "execute_result"
    }
   ],
   "source": [
    "train.dtypes"
   ]
  },
  {
   "cell_type": "code",
   "execution_count": 39,
   "metadata": {},
   "outputs": [
    {
     "name": "stdout",
     "output_type": "stream",
     "text": [
      "              Store     DayOfWeek          Year         Month     Customers  \\\n",
      "count  1.017209e+06  1.017209e+06  1.017209e+06  1.017209e+06  1.017209e+06   \n",
      "mean   5.584297e+02  3.998341e+00  2.013832e+03  5.846762e+00  6.331459e+02   \n",
      "std    3.219087e+02  1.997391e+00  7.773960e-01  3.326097e+00  4.644117e+02   \n",
      "min    1.000000e+00  1.000000e+00  2.013000e+03  1.000000e+00  0.000000e+00   \n",
      "25%    2.800000e+02  2.000000e+00  2.013000e+03  3.000000e+00  4.050000e+02   \n",
      "50%    5.580000e+02  4.000000e+00  2.014000e+03  6.000000e+00  6.090000e+02   \n",
      "75%    8.380000e+02  6.000000e+00  2.014000e+03  8.000000e+00  8.370000e+02   \n",
      "max    1.115000e+03  7.000000e+00  2.015000e+03  1.200000e+01  7.388000e+03   \n",
      "\n",
      "               Open         Promo  StateHoliday  SchoolHoliday         Sales  \n",
      "count  1.017209e+06  1.017209e+06  1.017209e+06   1.017209e+06  1.017209e+06  \n",
      "mean   8.301067e-01  3.815145e-01  4.516279e-02   1.786467e-01  5.773819e+03  \n",
      "std    3.755392e-01  4.857586e-01  2.836559e-01   3.830564e-01  3.849926e+03  \n",
      "min    0.000000e+00  0.000000e+00  0.000000e+00   0.000000e+00  0.000000e+00  \n",
      "25%    1.000000e+00  0.000000e+00  0.000000e+00   0.000000e+00  3.727000e+03  \n",
      "50%    1.000000e+00  0.000000e+00  0.000000e+00   0.000000e+00  5.744000e+03  \n",
      "75%    1.000000e+00  1.000000e+00  0.000000e+00   0.000000e+00  7.856000e+03  \n",
      "max    1.000000e+00  1.000000e+00  3.000000e+00   1.000000e+00  4.155100e+04  \n"
     ]
    }
   ],
   "source": [
    "print(train.describe())"
   ]
  },
  {
   "cell_type": "code",
   "execution_count": 40,
   "metadata": {},
   "outputs": [],
   "source": [
    "# checking values of open attribute "
   ]
  },
  {
   "cell_type": "code",
   "execution_count": 41,
   "metadata": {},
   "outputs": [
    {
     "data": {
      "text/plain": [
       "array([1, 0], dtype=int64)"
      ]
     },
     "execution_count": 41,
     "metadata": {},
     "output_type": "execute_result"
    }
   ],
   "source": [
    "train[\"Open\"].unique()"
   ]
  },
  {
   "cell_type": "code",
   "execution_count": 42,
   "metadata": {},
   "outputs": [],
   "source": [
    "#Filtering the columns for training data"
   ]
  },
  {
   "cell_type": "code",
   "execution_count": 43,
   "metadata": {},
   "outputs": [
    {
     "data": {
      "text/plain": [
       "['Store',\n",
       " 'DayOfWeek',\n",
       " 'Date',\n",
       " 'Year',\n",
       " 'Month',\n",
       " 'Customers',\n",
       " 'Open',\n",
       " 'Promo',\n",
       " 'StateHoliday',\n",
       " 'SchoolHoliday',\n",
       " 'Sales']"
      ]
     },
     "execution_count": 43,
     "metadata": {},
     "output_type": "execute_result"
    }
   ],
   "source": [
    "train = train[['Store', 'DayOfWeek', 'Date', 'Year', 'Month', 'Customers', 'Open','Promo', 'StateHoliday', 'SchoolHoliday', 'Sales']]\n",
    "list(train.columns.values)"
   ]
  },
  {
   "cell_type": "code",
   "execution_count": 44,
   "metadata": {},
   "outputs": [],
   "source": [
    "#Checking missing values or Nan values "
   ]
  },
  {
   "cell_type": "code",
   "execution_count": 45,
   "metadata": {},
   "outputs": [
    {
     "name": "stdout",
     "output_type": "stream",
     "text": [
      "NaNs for individual columns\n",
      "---------------------------\n"
     ]
    },
    {
     "data": {
      "text/plain": [
       "[('Store', 0),\n",
       " ('DayOfWeek', 0),\n",
       " ('Date', 0),\n",
       " ('Year', 0),\n",
       " ('Month', 0),\n",
       " ('Customers', 0),\n",
       " ('Open', 0),\n",
       " ('Promo', 0),\n",
       " ('StateHoliday', 0),\n",
       " ('SchoolHoliday', 0),\n",
       " ('Sales', 0)]"
      ]
     },
     "execution_count": 45,
     "metadata": {},
     "output_type": "execute_result"
    }
   ],
   "source": [
    "print(\"NaNs for individual columns\")\n",
    "print(\"---------------------------\")\n",
    "#using lambda function\n",
    "from collections import Counter\n",
    "nan = {colname : train[colname].isnull().sum() for colname in train.columns}\n",
    "Counter(nan).most_common()"
   ]
  },
  {
   "cell_type": "code",
   "execution_count": 46,
   "metadata": {},
   "outputs": [
    {
     "name": "stdout",
     "output_type": "stream",
     "text": [
      "               DayOfWeek     Sales     Month      Year  Customers     Promo  \\\n",
      "DayOfWeek       1.000000 -0.462125 -0.005362  0.001937  -0.386445 -0.392925   \n",
      "Sales          -0.462125  1.000000  0.048768  0.023519   0.894711  0.452345   \n",
      "Month          -0.005362  0.048768  1.000000 -0.269382   0.038179 -0.011747   \n",
      "Year            0.001937  0.023519 -0.269382  1.000000  -0.001212  0.024300   \n",
      "Customers      -0.386445  0.894711  0.038179 -0.001212   1.000000  0.316169   \n",
      "Promo          -0.392925  0.452345 -0.011747  0.024300   0.316169  1.000000   \n",
      "StateHoliday   -0.044265 -0.229029  0.038058 -0.005067  -0.204295 -0.024157   \n",
      "SchoolHoliday  -0.205388  0.085124  0.103282 -0.036535   0.071568  0.067483   \n",
      "\n",
      "               StateHoliday  SchoolHoliday  \n",
      "DayOfWeek         -0.044265      -0.205388  \n",
      "Sales             -0.229029       0.085124  \n",
      "Month              0.038058       0.103282  \n",
      "Year              -0.005067      -0.036535  \n",
      "Customers         -0.204295       0.071568  \n",
      "Promo             -0.024157       0.067483  \n",
      "StateHoliday       1.000000       0.196424  \n",
      "SchoolHoliday      0.196424       1.000000  \n"
     ]
    }
   ],
   "source": [
    "# correlation check for visuvalize \n",
    "corl = pd.DataFrame(train.loc[:, ['DayOfWeek', 'Sales', 'Month', 'Year', 'Customers', 'Promo',\n",
    "                                    'StateHoliday', 'SchoolHoliday']].corr())\n",
    "print(corl)"
   ]
  },
  {
   "cell_type": "code",
   "execution_count": 47,
   "metadata": {},
   "outputs": [
    {
     "data": {
      "image/png": "[encoded data removed]",
      "text/plain": [
       "<Figure size 432x288 with 2 Axes>"
      ]
     },
     "metadata": {
      "needs_background": "light"
     },
     "output_type": "display_data"
    }
   ],
   "source": [
    "sns.heatmap(data=corl)\n",
    "plt.show()"
   ]
  },
  {
   "cell_type": "code",
   "execution_count": 48,
   "metadata": {},
   "outputs": [],
   "source": [
    "# Test Data Examine "
   ]
  },
  {
   "cell_type": "code",
   "execution_count": 49,
   "metadata": {},
   "outputs": [
    {
     "data": {
      "text/plain": [
       "(41088, 7)"
      ]
     },
     "execution_count": 49,
     "metadata": {},
     "output_type": "execute_result"
    }
   ],
   "source": [
    "test.shape"
   ]
  },
  {
   "cell_type": "code",
   "execution_count": 50,
   "metadata": {},
   "outputs": [
    {
     "name": "stdout",
     "output_type": "stream",
     "text": [
      "       Store  DayOfWeek       Date  Open  Promo StateHoliday SchoolHoliday\n",
      "Id                                                                        \n",
      "1          1          4 2015-09-17   1.0      1            0             0\n",
      "2          3          4 2015-09-17   1.0      1            0             0\n",
      "3          7          4 2015-09-17   1.0      1            0             0\n",
      "4          8          4 2015-09-17   1.0      1            0             0\n",
      "5          9          4 2015-09-17   1.0      1            0             0\n",
      "...      ...        ...        ...   ...    ...          ...           ...\n",
      "41084   1111          6 2015-08-01   1.0      0            0             0\n",
      "41085   1112          6 2015-08-01   1.0      0            0             0\n",
      "41086   1113          6 2015-08-01   1.0      0            0             0\n",
      "41087   1114          6 2015-08-01   1.0      0            0             0\n",
      "41088   1115          6 2015-08-01   1.0      0            0             1\n",
      "\n",
      "[41088 rows x 7 columns]\n"
     ]
    }
   ],
   "source": [
    "print(test)"
   ]
  },
  {
   "cell_type": "code",
   "execution_count": 51,
   "metadata": {},
   "outputs": [],
   "source": [
    "test['Year'] = pd.DatetimeIndex(test['Date']).year\n",
    "test['Month'] = pd.DatetimeIndex(test['Date']).month"
   ]
  },
  {
   "cell_type": "code",
   "execution_count": 52,
   "metadata": {},
   "outputs": [
    {
     "name": "stdout",
     "output_type": "stream",
     "text": [
      "    Store  DayOfWeek       Date  Open  Promo StateHoliday SchoolHoliday  Year  \\\n",
      "Id                                                                              \n",
      "1       1          4 2015-09-17   1.0      1            0             0  2015   \n",
      "2       3          4 2015-09-17   1.0      1            0             0  2015   \n",
      "3       7          4 2015-09-17   1.0      1            0             0  2015   \n",
      "4       8          4 2015-09-17   1.0      1            0             0  2015   \n",
      "5       9          4 2015-09-17   1.0      1            0             0  2015   \n",
      "\n",
      "    Month  \n",
      "Id         \n",
      "1       9  \n",
      "2       9  \n",
      "3       9  \n",
      "4       9  \n",
      "5       9  \n"
     ]
    }
   ],
   "source": [
    "print(test.head())"
   ]
  },
  {
   "cell_type": "code",
   "execution_count": 53,
   "metadata": {},
   "outputs": [],
   "source": [
    "# Checking closed store info in test data "
   ]
  },
  {
   "cell_type": "code",
   "execution_count": 54,
   "metadata": {},
   "outputs": [
    {
     "data": {
      "text/plain": [
       "5984"
      ]
     },
     "execution_count": 54,
     "metadata": {},
     "output_type": "execute_result"
    }
   ],
   "source": [
    "sum(test['Open'] == 0)"
   ]
  },
  {
   "cell_type": "code",
   "execution_count": 55,
   "metadata": {},
   "outputs": [
    {
     "data": {
      "text/plain": [
       "['Store',\n",
       " 'DayOfWeek',\n",
       " 'Date',\n",
       " 'Year',\n",
       " 'Month',\n",
       " 'Open',\n",
       " 'Promo',\n",
       " 'StateHoliday',\n",
       " 'SchoolHoliday']"
      ]
     },
     "execution_count": 55,
     "metadata": {},
     "output_type": "execute_result"
    }
   ],
   "source": [
    "test = test[['Store', 'DayOfWeek', 'Date', 'Year', 'Month', 'Open','Promo', 'StateHoliday', 'SchoolHoliday']]\n",
    "list(test.columns.values)"
   ]
  },
  {
   "cell_type": "code",
   "execution_count": 56,
   "metadata": {},
   "outputs": [],
   "source": [
    "#an over view of final test data "
   ]
  },
  {
   "cell_type": "code",
   "execution_count": 57,
   "metadata": {},
   "outputs": [
    {
     "name": "stdout",
     "output_type": "stream",
     "text": [
      "       Store  DayOfWeek       Date  Year  Month  Open  Promo StateHoliday  \\\n",
      "Id                                                                          \n",
      "1          1          4 2015-09-17  2015      9   1.0      1            0   \n",
      "2          3          4 2015-09-17  2015      9   1.0      1            0   \n",
      "3          7          4 2015-09-17  2015      9   1.0      1            0   \n",
      "4          8          4 2015-09-17  2015      9   1.0      1            0   \n",
      "5          9          4 2015-09-17  2015      9   1.0      1            0   \n",
      "...      ...        ...        ...   ...    ...   ...    ...          ...   \n",
      "41084   1111          6 2015-08-01  2015      8   1.0      0            0   \n",
      "41085   1112          6 2015-08-01  2015      8   1.0      0            0   \n",
      "41086   1113          6 2015-08-01  2015      8   1.0      0            0   \n",
      "41087   1114          6 2015-08-01  2015      8   1.0      0            0   \n",
      "41088   1115          6 2015-08-01  2015      8   1.0      0            0   \n",
      "\n",
      "      SchoolHoliday  \n",
      "Id                   \n",
      "1                 0  \n",
      "2                 0  \n",
      "3                 0  \n",
      "4                 0  \n",
      "5                 0  \n",
      "...             ...  \n",
      "41084             0  \n",
      "41085             0  \n",
      "41086             0  \n",
      "41087             0  \n",
      "41088             1  \n",
      "\n",
      "[41088 rows x 9 columns]\n"
     ]
    }
   ],
   "source": [
    "print(test)"
   ]
  },
  {
   "cell_type": "code",
   "execution_count": 58,
   "metadata": {},
   "outputs": [],
   "source": [
    "# checking missing values "
   ]
  },
  {
   "cell_type": "code",
   "execution_count": 59,
   "metadata": {},
   "outputs": [
    {
     "name": "stdout",
     "output_type": "stream",
     "text": [
      "NANs for individual columns\n",
      "---------------------------\n"
     ]
    },
    {
     "data": {
      "text/plain": [
       "[('Open', 11),\n",
       " ('Store', 0),\n",
       " ('DayOfWeek', 0),\n",
       " ('Date', 0),\n",
       " ('Year', 0),\n",
       " ('Month', 0),\n",
       " ('Promo', 0),\n",
       " ('StateHoliday', 0),\n",
       " ('SchoolHoliday', 0)]"
      ]
     },
     "execution_count": 59,
     "metadata": {},
     "output_type": "execute_result"
    }
   ],
   "source": [
    "print(\"NANs for individual columns\")\n",
    "print(\"---------------------------\")\n",
    "from collections import Counter\n",
    "nant = {colname : test[colname].isnull().sum() for colname in test.columns}\n",
    "Counter(nant).most_common()"
   ]
  },
  {
   "cell_type": "code",
   "execution_count": 60,
   "metadata": {},
   "outputs": [],
   "source": [
    "# seems to be having 11 missing values "
   ]
  },
  {
   "cell_type": "code",
   "execution_count": 61,
   "metadata": {},
   "outputs": [
    {
     "name": "stdout",
     "output_type": "stream",
     "text": [
      "       Store  DayOfWeek       Date  Year  Month  Open  Promo StateHoliday  \\\n",
      "Id                                                                          \n",
      "480      622          4 2015-09-17  2015      9   NaN      1            0   \n",
      "1336     622          3 2015-09-16  2015      9   NaN      1            0   \n",
      "2192     622          2 2015-09-15  2015      9   NaN      1            0   \n",
      "3048     622          1 2015-09-14  2015      9   NaN      1            0   \n",
      "4760     622          6 2015-09-12  2015      9   NaN      0            0   \n",
      "5616     622          5 2015-09-11  2015      9   NaN      0            0   \n",
      "6472     622          4 2015-09-10  2015      9   NaN      0            0   \n",
      "7328     622          3 2015-09-09  2015      9   NaN      0            0   \n",
      "8184     622          2 2015-09-08  2015      9   NaN      0            0   \n",
      "9040     622          1 2015-09-07  2015      9   NaN      0            0   \n",
      "10752    622          6 2015-09-05  2015      9   NaN      0            0   \n",
      "\n",
      "      SchoolHoliday  \n",
      "Id                   \n",
      "480               0  \n",
      "1336              0  \n",
      "2192              0  \n",
      "3048              0  \n",
      "4760              0  \n",
      "5616              0  \n",
      "6472              0  \n",
      "7328              0  \n",
      "8184              0  \n",
      "9040              0  \n",
      "10752             0  \n"
     ]
    }
   ],
   "source": [
    "print(test.loc[np.isnan(test[\"Open\"])]) # the eleven missing datas "
   ]
  },
  {
   "cell_type": "code",
   "execution_count": 62,
   "metadata": {},
   "outputs": [],
   "source": [
    "# the store ID 622 seems to be closed some specific days of september of 2015"
   ]
  },
  {
   "cell_type": "code",
   "execution_count": 63,
   "metadata": {},
   "outputs": [],
   "source": [
    "# lets check with train and compare "
   ]
  },
  {
   "cell_type": "code",
   "execution_count": 64,
   "metadata": {},
   "outputs": [
    {
     "name": "stdout",
     "output_type": "stream",
     "text": [
      "      Store  DayOfWeek       Date  Year  Month  Customers  Open  Promo  \\\n",
      "621     622          5 2015-07-31  2015      7        540     1      1   \n",
      "1736    622          4 2015-07-30  2015      7        406     1      1   \n",
      "2851    622          3 2015-07-29  2015      7        468     1      1   \n",
      "3966    622          2 2015-07-28  2015      7        417     1      1   \n",
      "5081    622          1 2015-07-27  2015      7        517     1      1   \n",
      "\n",
      "      StateHoliday  SchoolHoliday  Sales  \n",
      "621              0              1   6306  \n",
      "1736             0              1   5412  \n",
      "2851             0              1   5326  \n",
      "3966             0              1   4966  \n",
      "5081             0              1   5413  \n"
     ]
    }
   ],
   "source": [
    "print(train.loc[train[\"Store\"]== 622].head())"
   ]
  },
  {
   "cell_type": "code",
   "execution_count": 65,
   "metadata": {},
   "outputs": [],
   "source": [
    "#to avoid information loss,, we should be catious, so we see the train data of store 622 ha infor, so lets label in test as well"
   ]
  },
  {
   "cell_type": "code",
   "execution_count": 66,
   "metadata": {},
   "outputs": [],
   "source": [
    "test.loc[np.isnan(test['Open']), 'Open'] = 1"
   ]
  },
  {
   "cell_type": "code",
   "execution_count": 67,
   "metadata": {},
   "outputs": [],
   "source": [
    "#recheckin with filing up the missing values "
   ]
  },
  {
   "cell_type": "code",
   "execution_count": 68,
   "metadata": {},
   "outputs": [
    {
     "name": "stdout",
     "output_type": "stream",
     "text": [
      "NANs for individual columns\n",
      "---------------------------\n"
     ]
    },
    {
     "data": {
      "text/plain": [
       "[('Store', 0),\n",
       " ('DayOfWeek', 0),\n",
       " ('Date', 0),\n",
       " ('Year', 0),\n",
       " ('Month', 0),\n",
       " ('Open', 0),\n",
       " ('Promo', 0),\n",
       " ('StateHoliday', 0),\n",
       " ('SchoolHoliday', 0)]"
      ]
     },
     "execution_count": 68,
     "metadata": {},
     "output_type": "execute_result"
    }
   ],
   "source": [
    "print(\"NANs for individual columns\")\n",
    "print(\"---------------------------\")\n",
    "from collections import Counter\n",
    "nant = {colname : test[colname].isnull().sum() for colname in test.columns}\n",
    "Counter(nant).most_common()"
   ]
  },
  {
   "cell_type": "code",
   "execution_count": 69,
   "metadata": {},
   "outputs": [],
   "source": [
    "#removed nan from test as well"
   ]
  },
  {
   "cell_type": "code",
   "execution_count": 70,
   "metadata": {},
   "outputs": [
    {
     "data": {
      "text/plain": [
       "Store                     int64\n",
       "DayOfWeek                 int64\n",
       "Date             datetime64[ns]\n",
       "Year                      int64\n",
       "Month                     int64\n",
       "Open                    float64\n",
       "Promo                     int64\n",
       "StateHoliday             object\n",
       "SchoolHoliday            object\n",
       "dtype: object"
      ]
     },
     "execution_count": 70,
     "metadata": {},
     "output_type": "execute_result"
    }
   ],
   "source": [
    "test.dtypes"
   ]
  },
  {
   "cell_type": "code",
   "execution_count": 71,
   "metadata": {},
   "outputs": [
    {
     "data": {
      "text/plain": [
       "array(['0', 'a'], dtype=object)"
      ]
     },
     "execution_count": 71,
     "metadata": {},
     "output_type": "execute_result"
    }
   ],
   "source": [
    "test['StateHoliday'].unique()"
   ]
  },
  {
   "cell_type": "code",
   "execution_count": 72,
   "metadata": {},
   "outputs": [],
   "source": [
    "# only one state holiday in test "
   ]
  },
  {
   "cell_type": "code",
   "execution_count": 73,
   "metadata": {},
   "outputs": [
    {
     "data": {
      "text/plain": [
       "array(['0', '1'], dtype=object)"
      ]
     },
     "execution_count": 73,
     "metadata": {},
     "output_type": "execute_result"
    }
   ],
   "source": [
    "test['SchoolHoliday'].unique()"
   ]
  },
  {
   "cell_type": "code",
   "execution_count": 74,
   "metadata": {},
   "outputs": [],
   "source": [
    "from sklearn.preprocessing import LabelEncoder \n",
    "labencdr_ts = LabelEncoder()\n",
    "test.iloc[:,7] = labencdr_ts.fit_transform(test.iloc[:,7])"
   ]
  },
  {
   "cell_type": "code",
   "execution_count": 75,
   "metadata": {},
   "outputs": [
    {
     "name": "stdout",
     "output_type": "stream",
     "text": [
      "       Store  DayOfWeek       Date  Year  Month  Open  Promo  StateHoliday  \\\n",
      "Id                                                                           \n",
      "1          1          4 2015-09-17  2015      9   1.0      1             0   \n",
      "2          3          4 2015-09-17  2015      9   1.0      1             0   \n",
      "3          7          4 2015-09-17  2015      9   1.0      1             0   \n",
      "4          8          4 2015-09-17  2015      9   1.0      1             0   \n",
      "5          9          4 2015-09-17  2015      9   1.0      1             0   \n",
      "...      ...        ...        ...   ...    ...   ...    ...           ...   \n",
      "41084   1111          6 2015-08-01  2015      8   1.0      0             0   \n",
      "41085   1112          6 2015-08-01  2015      8   1.0      0             0   \n",
      "41086   1113          6 2015-08-01  2015      8   1.0      0             0   \n",
      "41087   1114          6 2015-08-01  2015      8   1.0      0             0   \n",
      "41088   1115          6 2015-08-01  2015      8   1.0      0             0   \n",
      "\n",
      "      SchoolHoliday  \n",
      "Id                   \n",
      "1                 0  \n",
      "2                 0  \n",
      "3                 0  \n",
      "4                 0  \n",
      "5                 0  \n",
      "...             ...  \n",
      "41084             0  \n",
      "41085             0  \n",
      "41086             0  \n",
      "41087             0  \n",
      "41088             1  \n",
      "\n",
      "[41088 rows x 9 columns]\n"
     ]
    }
   ],
   "source": [
    "print(test)"
   ]
  },
  {
   "cell_type": "code",
   "execution_count": 76,
   "metadata": {},
   "outputs": [
    {
     "data": {
      "text/plain": [
       "array([0, 1], dtype=int64)"
      ]
     },
     "execution_count": 76,
     "metadata": {},
     "output_type": "execute_result"
    }
   ],
   "source": [
    "test['StateHoliday'].unique()"
   ]
  },
  {
   "cell_type": "code",
   "execution_count": 77,
   "metadata": {},
   "outputs": [],
   "source": [
    "test['StateHoliday'] = test['StateHoliday'].astype(int)\n",
    "test['SchoolHoliday'] = test['SchoolHoliday'].astype(int)"
   ]
  },
  {
   "cell_type": "code",
   "execution_count": 78,
   "metadata": {},
   "outputs": [
    {
     "data": {
      "text/plain": [
       "array([0, 1], dtype=int64)"
      ]
     },
     "execution_count": 78,
     "metadata": {},
     "output_type": "execute_result"
    }
   ],
   "source": [
    "test['StateHoliday'].unique()"
   ]
  },
  {
   "cell_type": "code",
   "execution_count": 79,
   "metadata": {},
   "outputs": [
    {
     "data": {
      "text/plain": [
       "array([0, 1], dtype=int64)"
      ]
     },
     "execution_count": 79,
     "metadata": {},
     "output_type": "execute_result"
    }
   ],
   "source": [
    "test['SchoolHoliday'].unique()"
   ]
  },
  {
   "cell_type": "code",
   "execution_count": 80,
   "metadata": {},
   "outputs": [],
   "source": [
    "#converted both the columns in to data columns in to integer"
   ]
  },
  {
   "cell_type": "code",
   "execution_count": 81,
   "metadata": {},
   "outputs": [],
   "source": [
    "#Because only StateHoliday 0 and 1 exist in test dataset, we should consider deleting the rows in train dataset that the StateHoliday value is different than 0 or 1"
   ]
  },
  {
   "cell_type": "code",
   "execution_count": 82,
   "metadata": {},
   "outputs": [
    {
     "data": {
      "text/plain": [
       "(10790, 11)"
      ]
     },
     "execution_count": 82,
     "metadata": {},
     "output_type": "execute_result"
    }
   ],
   "source": [
    "train.loc[train['StateHoliday'] > 1].shape"
   ]
  },
  {
   "cell_type": "code",
   "execution_count": 83,
   "metadata": {},
   "outputs": [],
   "source": [
    "train = train.loc[train['StateHoliday'] < 2]"
   ]
  },
  {
   "cell_type": "code",
   "execution_count": 84,
   "metadata": {},
   "outputs": [
    {
     "data": {
      "text/html": [
       "<div>\n",
       "<style scoped>\n",
       "    .dataframe tbody tr th:only-of-type {\n",
       "        vertical-align: middle;\n",
       "    }\n",
       "\n",
       "    .dataframe tbody tr th {\n",
       "        vertical-align: top;\n",
       "    }\n",
       "\n",
       "    .dataframe thead th {\n",
       "        text-align: right;\n",
       "    }\n",
       "</style>\n",
       "<table border=\"1\" class=\"dataframe\">\n",
       "  <thead>\n",
       "    <tr style=\"text-align: right;\">\n",
       "      <th></th>\n",
       "      <th>Store</th>\n",
       "      <th>DayOfWeek</th>\n",
       "      <th>Date</th>\n",
       "      <th>Year</th>\n",
       "      <th>Month</th>\n",
       "      <th>Customers</th>\n",
       "      <th>Open</th>\n",
       "      <th>Promo</th>\n",
       "      <th>StateHoliday</th>\n",
       "      <th>SchoolHoliday</th>\n",
       "      <th>Sales</th>\n",
       "    </tr>\n",
       "  </thead>\n",
       "  <tbody>\n",
       "    <tr>\n",
       "      <td>0</td>\n",
       "      <td>1</td>\n",
       "      <td>5</td>\n",
       "      <td>2015-07-31</td>\n",
       "      <td>2015</td>\n",
       "      <td>7</td>\n",
       "      <td>555</td>\n",
       "      <td>1</td>\n",
       "      <td>1</td>\n",
       "      <td>0</td>\n",
       "      <td>1</td>\n",
       "      <td>5263</td>\n",
       "    </tr>\n",
       "    <tr>\n",
       "      <td>1</td>\n",
       "      <td>2</td>\n",
       "      <td>5</td>\n",
       "      <td>2015-07-31</td>\n",
       "      <td>2015</td>\n",
       "      <td>7</td>\n",
       "      <td>625</td>\n",
       "      <td>1</td>\n",
       "      <td>1</td>\n",
       "      <td>0</td>\n",
       "      <td>1</td>\n",
       "      <td>6064</td>\n",
       "    </tr>\n",
       "    <tr>\n",
       "      <td>2</td>\n",
       "      <td>3</td>\n",
       "      <td>5</td>\n",
       "      <td>2015-07-31</td>\n",
       "      <td>2015</td>\n",
       "      <td>7</td>\n",
       "      <td>821</td>\n",
       "      <td>1</td>\n",
       "      <td>1</td>\n",
       "      <td>0</td>\n",
       "      <td>1</td>\n",
       "      <td>8314</td>\n",
       "    </tr>\n",
       "    <tr>\n",
       "      <td>3</td>\n",
       "      <td>4</td>\n",
       "      <td>5</td>\n",
       "      <td>2015-07-31</td>\n",
       "      <td>2015</td>\n",
       "      <td>7</td>\n",
       "      <td>1498</td>\n",
       "      <td>1</td>\n",
       "      <td>1</td>\n",
       "      <td>0</td>\n",
       "      <td>1</td>\n",
       "      <td>13995</td>\n",
       "    </tr>\n",
       "    <tr>\n",
       "      <td>4</td>\n",
       "      <td>5</td>\n",
       "      <td>5</td>\n",
       "      <td>2015-07-31</td>\n",
       "      <td>2015</td>\n",
       "      <td>7</td>\n",
       "      <td>559</td>\n",
       "      <td>1</td>\n",
       "      <td>1</td>\n",
       "      <td>0</td>\n",
       "      <td>1</td>\n",
       "      <td>4822</td>\n",
       "    </tr>\n",
       "    <tr>\n",
       "      <td>...</td>\n",
       "      <td>...</td>\n",
       "      <td>...</td>\n",
       "      <td>...</td>\n",
       "      <td>...</td>\n",
       "      <td>...</td>\n",
       "      <td>...</td>\n",
       "      <td>...</td>\n",
       "      <td>...</td>\n",
       "      <td>...</td>\n",
       "      <td>...</td>\n",
       "      <td>...</td>\n",
       "    </tr>\n",
       "    <tr>\n",
       "      <td>1017204</td>\n",
       "      <td>1111</td>\n",
       "      <td>2</td>\n",
       "      <td>2013-01-01</td>\n",
       "      <td>2013</td>\n",
       "      <td>1</td>\n",
       "      <td>0</td>\n",
       "      <td>0</td>\n",
       "      <td>0</td>\n",
       "      <td>1</td>\n",
       "      <td>1</td>\n",
       "      <td>0</td>\n",
       "    </tr>\n",
       "    <tr>\n",
       "      <td>1017205</td>\n",
       "      <td>1112</td>\n",
       "      <td>2</td>\n",
       "      <td>2013-01-01</td>\n",
       "      <td>2013</td>\n",
       "      <td>1</td>\n",
       "      <td>0</td>\n",
       "      <td>0</td>\n",
       "      <td>0</td>\n",
       "      <td>1</td>\n",
       "      <td>1</td>\n",
       "      <td>0</td>\n",
       "    </tr>\n",
       "    <tr>\n",
       "      <td>1017206</td>\n",
       "      <td>1113</td>\n",
       "      <td>2</td>\n",
       "      <td>2013-01-01</td>\n",
       "      <td>2013</td>\n",
       "      <td>1</td>\n",
       "      <td>0</td>\n",
       "      <td>0</td>\n",
       "      <td>0</td>\n",
       "      <td>1</td>\n",
       "      <td>1</td>\n",
       "      <td>0</td>\n",
       "    </tr>\n",
       "    <tr>\n",
       "      <td>1017207</td>\n",
       "      <td>1114</td>\n",
       "      <td>2</td>\n",
       "      <td>2013-01-01</td>\n",
       "      <td>2013</td>\n",
       "      <td>1</td>\n",
       "      <td>0</td>\n",
       "      <td>0</td>\n",
       "      <td>0</td>\n",
       "      <td>1</td>\n",
       "      <td>1</td>\n",
       "      <td>0</td>\n",
       "    </tr>\n",
       "    <tr>\n",
       "      <td>1017208</td>\n",
       "      <td>1115</td>\n",
       "      <td>2</td>\n",
       "      <td>2013-01-01</td>\n",
       "      <td>2013</td>\n",
       "      <td>1</td>\n",
       "      <td>0</td>\n",
       "      <td>0</td>\n",
       "      <td>0</td>\n",
       "      <td>1</td>\n",
       "      <td>1</td>\n",
       "      <td>0</td>\n",
       "    </tr>\n",
       "  </tbody>\n",
       "</table>\n",
       "<p>1006419 rows × 11 columns</p>\n",
       "</div>"
      ],
      "text/plain": [
       "         Store  DayOfWeek       Date  Year  Month  Customers  Open  Promo  \\\n",
       "0            1          5 2015-07-31  2015      7        555     1      1   \n",
       "1            2          5 2015-07-31  2015      7        625     1      1   \n",
       "2            3          5 2015-07-31  2015      7        821     1      1   \n",
       "3            4          5 2015-07-31  2015      7       1498     1      1   \n",
       "4            5          5 2015-07-31  2015      7        559     1      1   \n",
       "...        ...        ...        ...   ...    ...        ...   ...    ...   \n",
       "1017204   1111          2 2013-01-01  2013      1          0     0      0   \n",
       "1017205   1112          2 2013-01-01  2013      1          0     0      0   \n",
       "1017206   1113          2 2013-01-01  2013      1          0     0      0   \n",
       "1017207   1114          2 2013-01-01  2013      1          0     0      0   \n",
       "1017208   1115          2 2013-01-01  2013      1          0     0      0   \n",
       "\n",
       "         StateHoliday  SchoolHoliday  Sales  \n",
       "0                   0              1   5263  \n",
       "1                   0              1   6064  \n",
       "2                   0              1   8314  \n",
       "3                   0              1  13995  \n",
       "4                   0              1   4822  \n",
       "...               ...            ...    ...  \n",
       "1017204             1              1      0  \n",
       "1017205             1              1      0  \n",
       "1017206             1              1      0  \n",
       "1017207             1              1      0  \n",
       "1017208             1              1      0  \n",
       "\n",
       "[1006419 rows x 11 columns]"
      ]
     },
     "execution_count": 84,
     "metadata": {},
     "output_type": "execute_result"
    }
   ],
   "source": [
    "train"
   ]
  },
  {
   "cell_type": "code",
   "execution_count": 85,
   "metadata": {},
   "outputs": [],
   "source": [
    "#The Store data Exploration "
   ]
  },
  {
   "cell_type": "code",
   "execution_count": 86,
   "metadata": {},
   "outputs": [
    {
     "data": {
      "text/plain": [
       "(1115, 10)"
      ]
     },
     "execution_count": 86,
     "metadata": {},
     "output_type": "execute_result"
    }
   ],
   "source": [
    "store.shape"
   ]
  },
  {
   "cell_type": "code",
   "execution_count": 87,
   "metadata": {},
   "outputs": [
    {
     "name": "stdout",
     "output_type": "stream",
     "text": [
      "   Store StoreType Assortment  CompetitionDistance  CompetitionOpenSinceMonth  \\\n",
      "0      1         c          a               1270.0                        9.0   \n",
      "1      2         a          a                570.0                       11.0   \n",
      "2      3         a          a              14130.0                       12.0   \n",
      "3      4         c          c                620.0                        9.0   \n",
      "4      5         a          a              29910.0                        4.0   \n",
      "\n",
      "   CompetitionOpenSinceYear  Promo2  Promo2SinceWeek  Promo2SinceYear  \\\n",
      "0                    2008.0       0              NaN              NaN   \n",
      "1                    2007.0       1             13.0           2010.0   \n",
      "2                    2006.0       1             14.0           2011.0   \n",
      "3                    2009.0       0              NaN              NaN   \n",
      "4                    2015.0       0              NaN              NaN   \n",
      "\n",
      "     PromoInterval  \n",
      "0              NaN  \n",
      "1  Jan,Apr,Jul,Oct  \n",
      "2  Jan,Apr,Jul,Oct  \n",
      "3              NaN  \n",
      "4              NaN  \n"
     ]
    }
   ],
   "source": [
    "print(store.head())"
   ]
  },
  {
   "cell_type": "code",
   "execution_count": 88,
   "metadata": {},
   "outputs": [
    {
     "name": "stdout",
     "output_type": "stream",
     "text": [
      "<class 'pandas.core.frame.DataFrame'>\n",
      "RangeIndex: 1115 entries, 0 to 1114\n",
      "Data columns (total 10 columns):\n",
      "Store                        1115 non-null int64\n",
      "StoreType                    1115 non-null object\n",
      "Assortment                   1115 non-null object\n",
      "CompetitionDistance          1112 non-null float64\n",
      "CompetitionOpenSinceMonth    761 non-null float64\n",
      "CompetitionOpenSinceYear     761 non-null float64\n",
      "Promo2                       1115 non-null int64\n",
      "Promo2SinceWeek              571 non-null float64\n",
      "Promo2SinceYear              571 non-null float64\n",
      "PromoInterval                571 non-null object\n",
      "dtypes: float64(5), int64(2), object(3)\n",
      "memory usage: 87.2+ KB\n"
     ]
    }
   ],
   "source": [
    "store.info()"
   ]
  },
  {
   "cell_type": "code",
   "execution_count": 89,
   "metadata": {},
   "outputs": [],
   "source": [
    "#the store data has assormnt , promotional details ,"
   ]
  },
  {
   "cell_type": "code",
   "execution_count": 90,
   "metadata": {},
   "outputs": [
    {
     "data": {
      "text/html": [
       "<div>\n",
       "<style scoped>\n",
       "    .dataframe tbody tr th:only-of-type {\n",
       "        vertical-align: middle;\n",
       "    }\n",
       "\n",
       "    .dataframe tbody tr th {\n",
       "        vertical-align: top;\n",
       "    }\n",
       "\n",
       "    .dataframe thead th {\n",
       "        text-align: right;\n",
       "    }\n",
       "</style>\n",
       "<table border=\"1\" class=\"dataframe\">\n",
       "  <thead>\n",
       "    <tr style=\"text-align: right;\">\n",
       "      <th></th>\n",
       "      <th>Store</th>\n",
       "      <th>StoreType</th>\n",
       "      <th>Assortment</th>\n",
       "      <th>CompetitionDistance</th>\n",
       "      <th>CompetitionOpenSinceMonth</th>\n",
       "      <th>CompetitionOpenSinceYear</th>\n",
       "      <th>Promo2</th>\n",
       "      <th>Promo2SinceWeek</th>\n",
       "      <th>Promo2SinceYear</th>\n",
       "      <th>PromoInterval</th>\n",
       "    </tr>\n",
       "  </thead>\n",
       "  <tbody>\n",
       "    <tr>\n",
       "      <td>1110</td>\n",
       "      <td>1111</td>\n",
       "      <td>a</td>\n",
       "      <td>a</td>\n",
       "      <td>1900.0</td>\n",
       "      <td>6.0</td>\n",
       "      <td>2014.0</td>\n",
       "      <td>1</td>\n",
       "      <td>31.0</td>\n",
       "      <td>2013.0</td>\n",
       "      <td>Jan,Apr,Jul,Oct</td>\n",
       "    </tr>\n",
       "    <tr>\n",
       "      <td>1111</td>\n",
       "      <td>1112</td>\n",
       "      <td>c</td>\n",
       "      <td>c</td>\n",
       "      <td>1880.0</td>\n",
       "      <td>4.0</td>\n",
       "      <td>2006.0</td>\n",
       "      <td>0</td>\n",
       "      <td>NaN</td>\n",
       "      <td>NaN</td>\n",
       "      <td>NaN</td>\n",
       "    </tr>\n",
       "    <tr>\n",
       "      <td>1112</td>\n",
       "      <td>1113</td>\n",
       "      <td>a</td>\n",
       "      <td>c</td>\n",
       "      <td>9260.0</td>\n",
       "      <td>NaN</td>\n",
       "      <td>NaN</td>\n",
       "      <td>0</td>\n",
       "      <td>NaN</td>\n",
       "      <td>NaN</td>\n",
       "      <td>NaN</td>\n",
       "    </tr>\n",
       "    <tr>\n",
       "      <td>1113</td>\n",
       "      <td>1114</td>\n",
       "      <td>a</td>\n",
       "      <td>c</td>\n",
       "      <td>870.0</td>\n",
       "      <td>NaN</td>\n",
       "      <td>NaN</td>\n",
       "      <td>0</td>\n",
       "      <td>NaN</td>\n",
       "      <td>NaN</td>\n",
       "      <td>NaN</td>\n",
       "    </tr>\n",
       "    <tr>\n",
       "      <td>1114</td>\n",
       "      <td>1115</td>\n",
       "      <td>d</td>\n",
       "      <td>c</td>\n",
       "      <td>5350.0</td>\n",
       "      <td>NaN</td>\n",
       "      <td>NaN</td>\n",
       "      <td>1</td>\n",
       "      <td>22.0</td>\n",
       "      <td>2012.0</td>\n",
       "      <td>Mar,Jun,Sept,Dec</td>\n",
       "    </tr>\n",
       "  </tbody>\n",
       "</table>\n",
       "</div>"
      ],
      "text/plain": [
       "      Store StoreType Assortment  CompetitionDistance  \\\n",
       "1110   1111         a          a               1900.0   \n",
       "1111   1112         c          c               1880.0   \n",
       "1112   1113         a          c               9260.0   \n",
       "1113   1114         a          c                870.0   \n",
       "1114   1115         d          c               5350.0   \n",
       "\n",
       "      CompetitionOpenSinceMonth  CompetitionOpenSinceYear  Promo2  \\\n",
       "1110                        6.0                    2014.0       1   \n",
       "1111                        4.0                    2006.0       0   \n",
       "1112                        NaN                       NaN       0   \n",
       "1113                        NaN                       NaN       0   \n",
       "1114                        NaN                       NaN       1   \n",
       "\n",
       "      Promo2SinceWeek  Promo2SinceYear     PromoInterval  \n",
       "1110             31.0           2013.0   Jan,Apr,Jul,Oct  \n",
       "1111              NaN              NaN               NaN  \n",
       "1112              NaN              NaN               NaN  \n",
       "1113              NaN              NaN               NaN  \n",
       "1114             22.0           2012.0  Mar,Jun,Sept,Dec  "
      ]
     },
     "execution_count": 90,
     "metadata": {},
     "output_type": "execute_result"
    }
   ],
   "source": [
    "store.tail()"
   ]
  },
  {
   "cell_type": "code",
   "execution_count": 91,
   "metadata": {},
   "outputs": [
    {
     "name": "stdout",
     "output_type": "stream",
     "text": [
      "NaNs for individual columns\n",
      "---------------------------\n"
     ]
    },
    {
     "data": {
      "text/plain": [
       "[('Promo2SinceWeek', 544),\n",
       " ('Promo2SinceYear', 544),\n",
       " ('PromoInterval', 544),\n",
       " ('CompetitionOpenSinceMonth', 354),\n",
       " ('CompetitionOpenSinceYear', 354),\n",
       " ('CompetitionDistance', 3),\n",
       " ('Store', 0),\n",
       " ('StoreType', 0),\n",
       " ('Assortment', 0),\n",
       " ('Promo2', 0)]"
      ]
     },
     "execution_count": 91,
     "metadata": {},
     "output_type": "execute_result"
    }
   ],
   "source": [
    "print(\"NaNs for individual columns\")\n",
    "print(\"---------------------------\")\n",
    "from collections import Counter\n",
    "nans = {colname : store[colname].isnull().sum() for colname in store.columns}\n",
    "Counter(nans).most_common()"
   ]
  },
  {
   "cell_type": "code",
   "execution_count": 92,
   "metadata": {},
   "outputs": [],
   "source": [
    "#seems the following attributes like promo2SinceWeek, Promo2Interval, Promo2SinceYear, CompetitionOpenSinceMonth, CompetitionOpenSinceYear and CompetitionDistance have missing values and need to impute withe loaded libraries for missing values"
   ]
  },
  {
   "cell_type": "code",
   "execution_count": 93,
   "metadata": {},
   "outputs": [
    {
     "data": {
      "text/plain": [
       "array([nan, 'Jan,Apr,Jul,Oct', 'Feb,May,Aug,Nov', 'Mar,Jun,Sept,Dec'],\n",
       "      dtype=object)"
      ]
     },
     "execution_count": 93,
     "metadata": {},
     "output_type": "execute_result"
    }
   ],
   "source": [
    "store['PromoInterval'].unique()"
   ]
  },
  {
   "cell_type": "code",
   "execution_count": 94,
   "metadata": {},
   "outputs": [],
   "source": [
    "store.loc[store['Promo2'] == 0, ['Promo2SinceWeek', 'Promo2SinceYear', 'PromoInterval']] = 0"
   ]
  },
  {
   "cell_type": "code",
   "execution_count": null,
   "metadata": {},
   "outputs": [],
   "source": []
  },
  {
   "cell_type": "code",
   "execution_count": 95,
   "metadata": {},
   "outputs": [],
   "source": [
    "store.loc[store['Promo2'] != 0, 'Promo2SinceWeek'] = store['Promo2SinceWeek'].max() - store.loc[store['Promo2'] != 0, 'Promo2SinceWeek']"
   ]
  },
  {
   "cell_type": "code",
   "execution_count": null,
   "metadata": {},
   "outputs": [],
   "source": []
  },
  {
   "cell_type": "code",
   "execution_count": 96,
   "metadata": {},
   "outputs": [],
   "source": [
    "store.loc[store['Promo2'] != 0, 'Promo2SinceYear'] = store['Promo2SinceYear'].max() - store.loc[store['Promo2'] != 0, 'Promo2SinceYear']"
   ]
  },
  {
   "cell_type": "code",
   "execution_count": 97,
   "metadata": {},
   "outputs": [
    {
     "data": {
      "text/plain": [
       "array([0, 'Jan,Apr,Jul,Oct', 'Feb,May,Aug,Nov', 'Mar,Jun,Sept,Dec'],\n",
       "      dtype=object)"
      ]
     },
     "execution_count": 97,
     "metadata": {},
     "output_type": "execute_result"
    }
   ],
   "source": [
    "store[\"PromoInterval\"].unique()"
   ]
  },
  {
   "cell_type": "code",
   "execution_count": 98,
   "metadata": {},
   "outputs": [],
   "source": [
    "store[\"PromoInterval\"] = store[\"PromoInterval\"].astype(str)"
   ]
  },
  {
   "cell_type": "code",
   "execution_count": 99,
   "metadata": {},
   "outputs": [],
   "source": [
    "from sklearn.preprocessing import LabelEncoder \n",
    "labencdr_s = LabelEncoder()\n",
    "store.iloc[:,9] = labencdr_s.fit_transform(store.iloc[:,9])"
   ]
  },
  {
   "cell_type": "code",
   "execution_count": 100,
   "metadata": {},
   "outputs": [
    {
     "data": {
      "text/html": [
       "<div>\n",
       "<style scoped>\n",
       "    .dataframe tbody tr th:only-of-type {\n",
       "        vertical-align: middle;\n",
       "    }\n",
       "\n",
       "    .dataframe tbody tr th {\n",
       "        vertical-align: top;\n",
       "    }\n",
       "\n",
       "    .dataframe thead th {\n",
       "        text-align: right;\n",
       "    }\n",
       "</style>\n",
       "<table border=\"1\" class=\"dataframe\">\n",
       "  <thead>\n",
       "    <tr style=\"text-align: right;\">\n",
       "      <th></th>\n",
       "      <th>Store</th>\n",
       "      <th>StoreType</th>\n",
       "      <th>Assortment</th>\n",
       "      <th>CompetitionDistance</th>\n",
       "      <th>CompetitionOpenSinceMonth</th>\n",
       "      <th>CompetitionOpenSinceYear</th>\n",
       "      <th>Promo2</th>\n",
       "      <th>Promo2SinceWeek</th>\n",
       "      <th>Promo2SinceYear</th>\n",
       "      <th>PromoInterval</th>\n",
       "    </tr>\n",
       "  </thead>\n",
       "  <tbody>\n",
       "    <tr>\n",
       "      <td>0</td>\n",
       "      <td>1</td>\n",
       "      <td>c</td>\n",
       "      <td>a</td>\n",
       "      <td>1270.0</td>\n",
       "      <td>9.0</td>\n",
       "      <td>2008.0</td>\n",
       "      <td>0</td>\n",
       "      <td>0.0</td>\n",
       "      <td>0.0</td>\n",
       "      <td>0</td>\n",
       "    </tr>\n",
       "    <tr>\n",
       "      <td>1</td>\n",
       "      <td>2</td>\n",
       "      <td>a</td>\n",
       "      <td>a</td>\n",
       "      <td>570.0</td>\n",
       "      <td>11.0</td>\n",
       "      <td>2007.0</td>\n",
       "      <td>1</td>\n",
       "      <td>37.0</td>\n",
       "      <td>5.0</td>\n",
       "      <td>2</td>\n",
       "    </tr>\n",
       "    <tr>\n",
       "      <td>2</td>\n",
       "      <td>3</td>\n",
       "      <td>a</td>\n",
       "      <td>a</td>\n",
       "      <td>14130.0</td>\n",
       "      <td>12.0</td>\n",
       "      <td>2006.0</td>\n",
       "      <td>1</td>\n",
       "      <td>36.0</td>\n",
       "      <td>4.0</td>\n",
       "      <td>2</td>\n",
       "    </tr>\n",
       "    <tr>\n",
       "      <td>3</td>\n",
       "      <td>4</td>\n",
       "      <td>c</td>\n",
       "      <td>c</td>\n",
       "      <td>620.0</td>\n",
       "      <td>9.0</td>\n",
       "      <td>2009.0</td>\n",
       "      <td>0</td>\n",
       "      <td>0.0</td>\n",
       "      <td>0.0</td>\n",
       "      <td>0</td>\n",
       "    </tr>\n",
       "    <tr>\n",
       "      <td>4</td>\n",
       "      <td>5</td>\n",
       "      <td>a</td>\n",
       "      <td>a</td>\n",
       "      <td>29910.0</td>\n",
       "      <td>4.0</td>\n",
       "      <td>2015.0</td>\n",
       "      <td>0</td>\n",
       "      <td>0.0</td>\n",
       "      <td>0.0</td>\n",
       "      <td>0</td>\n",
       "    </tr>\n",
       "    <tr>\n",
       "      <td>...</td>\n",
       "      <td>...</td>\n",
       "      <td>...</td>\n",
       "      <td>...</td>\n",
       "      <td>...</td>\n",
       "      <td>...</td>\n",
       "      <td>...</td>\n",
       "      <td>...</td>\n",
       "      <td>...</td>\n",
       "      <td>...</td>\n",
       "      <td>...</td>\n",
       "    </tr>\n",
       "    <tr>\n",
       "      <td>1110</td>\n",
       "      <td>1111</td>\n",
       "      <td>a</td>\n",
       "      <td>a</td>\n",
       "      <td>1900.0</td>\n",
       "      <td>6.0</td>\n",
       "      <td>2014.0</td>\n",
       "      <td>1</td>\n",
       "      <td>19.0</td>\n",
       "      <td>2.0</td>\n",
       "      <td>2</td>\n",
       "    </tr>\n",
       "    <tr>\n",
       "      <td>1111</td>\n",
       "      <td>1112</td>\n",
       "      <td>c</td>\n",
       "      <td>c</td>\n",
       "      <td>1880.0</td>\n",
       "      <td>4.0</td>\n",
       "      <td>2006.0</td>\n",
       "      <td>0</td>\n",
       "      <td>0.0</td>\n",
       "      <td>0.0</td>\n",
       "      <td>0</td>\n",
       "    </tr>\n",
       "    <tr>\n",
       "      <td>1112</td>\n",
       "      <td>1113</td>\n",
       "      <td>a</td>\n",
       "      <td>c</td>\n",
       "      <td>9260.0</td>\n",
       "      <td>NaN</td>\n",
       "      <td>NaN</td>\n",
       "      <td>0</td>\n",
       "      <td>0.0</td>\n",
       "      <td>0.0</td>\n",
       "      <td>0</td>\n",
       "    </tr>\n",
       "    <tr>\n",
       "      <td>1113</td>\n",
       "      <td>1114</td>\n",
       "      <td>a</td>\n",
       "      <td>c</td>\n",
       "      <td>870.0</td>\n",
       "      <td>NaN</td>\n",
       "      <td>NaN</td>\n",
       "      <td>0</td>\n",
       "      <td>0.0</td>\n",
       "      <td>0.0</td>\n",
       "      <td>0</td>\n",
       "    </tr>\n",
       "    <tr>\n",
       "      <td>1114</td>\n",
       "      <td>1115</td>\n",
       "      <td>d</td>\n",
       "      <td>c</td>\n",
       "      <td>5350.0</td>\n",
       "      <td>NaN</td>\n",
       "      <td>NaN</td>\n",
       "      <td>1</td>\n",
       "      <td>28.0</td>\n",
       "      <td>3.0</td>\n",
       "      <td>3</td>\n",
       "    </tr>\n",
       "  </tbody>\n",
       "</table>\n",
       "<p>1115 rows × 10 columns</p>\n",
       "</div>"
      ],
      "text/plain": [
       "      Store StoreType Assortment  CompetitionDistance  \\\n",
       "0         1         c          a               1270.0   \n",
       "1         2         a          a                570.0   \n",
       "2         3         a          a              14130.0   \n",
       "3         4         c          c                620.0   \n",
       "4         5         a          a              29910.0   \n",
       "...     ...       ...        ...                  ...   \n",
       "1110   1111         a          a               1900.0   \n",
       "1111   1112         c          c               1880.0   \n",
       "1112   1113         a          c               9260.0   \n",
       "1113   1114         a          c                870.0   \n",
       "1114   1115         d          c               5350.0   \n",
       "\n",
       "      CompetitionOpenSinceMonth  CompetitionOpenSinceYear  Promo2  \\\n",
       "0                           9.0                    2008.0       0   \n",
       "1                          11.0                    2007.0       1   \n",
       "2                          12.0                    2006.0       1   \n",
       "3                           9.0                    2009.0       0   \n",
       "4                           4.0                    2015.0       0   \n",
       "...                         ...                       ...     ...   \n",
       "1110                        6.0                    2014.0       1   \n",
       "1111                        4.0                    2006.0       0   \n",
       "1112                        NaN                       NaN       0   \n",
       "1113                        NaN                       NaN       0   \n",
       "1114                        NaN                       NaN       1   \n",
       "\n",
       "      Promo2SinceWeek  Promo2SinceYear  PromoInterval  \n",
       "0                 0.0              0.0              0  \n",
       "1                37.0              5.0              2  \n",
       "2                36.0              4.0              2  \n",
       "3                 0.0              0.0              0  \n",
       "4                 0.0              0.0              0  \n",
       "...               ...              ...            ...  \n",
       "1110             19.0              2.0              2  \n",
       "1111              0.0              0.0              0  \n",
       "1112              0.0              0.0              0  \n",
       "1113              0.0              0.0              0  \n",
       "1114             28.0              3.0              3  \n",
       "\n",
       "[1115 rows x 10 columns]"
      ]
     },
     "execution_count": 100,
     "metadata": {},
     "output_type": "execute_result"
    }
   ],
   "source": [
    "store"
   ]
  },
  {
   "cell_type": "code",
   "execution_count": 101,
   "metadata": {},
   "outputs": [],
   "source": [
    "store[\"PromoInterval\"] = store[\"PromoInterval\"].astype(int)"
   ]
  },
  {
   "cell_type": "code",
   "execution_count": 102,
   "metadata": {},
   "outputs": [
    {
     "name": "stdout",
     "output_type": "stream",
     "text": [
      "   Store StoreType Assortment  CompetitionDistance  CompetitionOpenSinceMonth  \\\n",
      "0      1         c          a               1270.0                        9.0   \n",
      "1      2         a          a                570.0                       11.0   \n",
      "2      3         a          a              14130.0                       12.0   \n",
      "3      4         c          c                620.0                        9.0   \n",
      "4      5         a          a              29910.0                        4.0   \n",
      "\n",
      "   CompetitionOpenSinceYear  Promo2  Promo2SinceWeek  Promo2SinceYear  \\\n",
      "0                    2008.0       0              0.0              0.0   \n",
      "1                    2007.0       1             37.0              5.0   \n",
      "2                    2006.0       1             36.0              4.0   \n",
      "3                    2009.0       0              0.0              0.0   \n",
      "4                    2015.0       0              0.0              0.0   \n",
      "\n",
      "   PromoInterval  \n",
      "0              0  \n",
      "1              2  \n",
      "2              2  \n",
      "3              0  \n",
      "4              0  \n"
     ]
    }
   ],
   "source": [
    "print(store.head())"
   ]
  },
  {
   "cell_type": "code",
   "execution_count": 103,
   "metadata": {},
   "outputs": [
    {
     "data": {
      "text/plain": [
       "Store                          int64\n",
       "StoreType                     object\n",
       "Assortment                    object\n",
       "CompetitionDistance          float64\n",
       "CompetitionOpenSinceMonth    float64\n",
       "CompetitionOpenSinceYear     float64\n",
       "Promo2                         int64\n",
       "Promo2SinceWeek              float64\n",
       "Promo2SinceYear              float64\n",
       "PromoInterval                  int32\n",
       "dtype: object"
      ]
     },
     "execution_count": 103,
     "metadata": {},
     "output_type": "execute_result"
    }
   ],
   "source": [
    "store.dtypes"
   ]
  },
  {
   "cell_type": "code",
   "execution_count": 104,
   "metadata": {},
   "outputs": [],
   "source": [
    "from sklearn.preprocessing import LabelEncoder \n",
    "labencdr_ts = LabelEncoder()\n",
    "store.iloc[:,1] = labencdr_ts.fit_transform(store.iloc[:,1])"
   ]
  },
  {
   "cell_type": "code",
   "execution_count": 105,
   "metadata": {},
   "outputs": [],
   "source": [
    "from sklearn.preprocessing import LabelEncoder \n",
    "labencdr_ts = LabelEncoder()\n",
    "store.iloc[:,2] = labencdr_ts.fit_transform(store.iloc[:,2])"
   ]
  },
  {
   "cell_type": "code",
   "execution_count": 106,
   "metadata": {},
   "outputs": [
    {
     "name": "stdout",
     "output_type": "stream",
     "text": [
      "   Store  StoreType  Assortment  CompetitionDistance  \\\n",
      "0      1          2           0               1270.0   \n",
      "1      2          0           0                570.0   \n",
      "2      3          0           0              14130.0   \n",
      "3      4          2           2                620.0   \n",
      "4      5          0           0              29910.0   \n",
      "\n",
      "   CompetitionOpenSinceMonth  CompetitionOpenSinceYear  Promo2  \\\n",
      "0                        9.0                    2008.0       0   \n",
      "1                       11.0                    2007.0       1   \n",
      "2                       12.0                    2006.0       1   \n",
      "3                        9.0                    2009.0       0   \n",
      "4                        4.0                    2015.0       0   \n",
      "\n",
      "   Promo2SinceWeek  Promo2SinceYear  PromoInterval  \n",
      "0              0.0              0.0              0  \n",
      "1             37.0              5.0              2  \n",
      "2             36.0              4.0              2  \n",
      "3              0.0              0.0              0  \n",
      "4              0.0              0.0              0  \n"
     ]
    }
   ],
   "source": [
    "print(store.head())"
   ]
  },
  {
   "cell_type": "code",
   "execution_count": 107,
   "metadata": {},
   "outputs": [],
   "source": [
    "#Checking missing values"
   ]
  },
  {
   "cell_type": "code",
   "execution_count": 108,
   "metadata": {},
   "outputs": [
    {
     "name": "stdout",
     "output_type": "stream",
     "text": [
      "NaNs for individual columns\n",
      "---------------------------\n"
     ]
    },
    {
     "data": {
      "text/plain": [
       "[('CompetitionOpenSinceMonth', 354),\n",
       " ('CompetitionOpenSinceYear', 354),\n",
       " ('CompetitionDistance', 3),\n",
       " ('Store', 0),\n",
       " ('StoreType', 0),\n",
       " ('Assortment', 0),\n",
       " ('Promo2', 0),\n",
       " ('Promo2SinceWeek', 0),\n",
       " ('Promo2SinceYear', 0),\n",
       " ('PromoInterval', 0)]"
      ]
     },
     "execution_count": 108,
     "metadata": {},
     "output_type": "execute_result"
    }
   ],
   "source": [
    "print(\"NaNs for individual columns\")\n",
    "print(\"---------------------------\")\n",
    "from collections import Counter\n",
    "nanss = {colname : store[colname].isnull().sum() for colname in store.columns}\n",
    "Counter(nanss).most_common()"
   ]
  },
  {
   "cell_type": "code",
   "execution_count": 109,
   "metadata": {},
   "outputs": [],
   "source": [
    "# Imputing the missing values "
   ]
  },
  {
   "cell_type": "code",
   "execution_count": 110,
   "metadata": {},
   "outputs": [
    {
     "name": "stderr",
     "output_type": "stream",
     "text": [
      "C:\\Users\\ashok\\Anaconda3\\lib\\site-packages\\sklearn\\utils\\deprecation.py:66: DeprecationWarning: Class Imputer is deprecated; Imputer was deprecated in version 0.20 and will be removed in 0.22. Import impute.SimpleImputer from sklearn instead.\n",
      "  warnings.warn(msg, category=DeprecationWarning)\n"
     ]
    }
   ],
   "source": [
    "from sklearn.preprocessing import Imputer\n",
    "imputer = Imputer().fit(store)\n",
    "store_imputed = imputer.transform(store)"
   ]
  },
  {
   "cell_type": "code",
   "execution_count": 111,
   "metadata": {},
   "outputs": [],
   "source": [
    "store2 = pd.DataFrame(store_imputed, columns=store.columns.values)"
   ]
  },
  {
   "cell_type": "code",
   "execution_count": 112,
   "metadata": {},
   "outputs": [],
   "source": [
    "#verifying the values imputed "
   ]
  },
  {
   "cell_type": "code",
   "execution_count": 113,
   "metadata": {},
   "outputs": [
    {
     "name": "stdout",
     "output_type": "stream",
     "text": [
      "NANs for individual columns\n",
      "---------------------------\n"
     ]
    },
    {
     "data": {
      "text/plain": [
       "[('Store', 0),\n",
       " ('StoreType', 0),\n",
       " ('Assortment', 0),\n",
       " ('CompetitionDistance', 0),\n",
       " ('CompetitionOpenSinceMonth', 0),\n",
       " ('CompetitionOpenSinceYear', 0),\n",
       " ('Promo2', 0),\n",
       " ('Promo2SinceWeek', 0),\n",
       " ('Promo2SinceYear', 0),\n",
       " ('PromoInterval', 0)]"
      ]
     },
     "execution_count": 113,
     "metadata": {},
     "output_type": "execute_result"
    }
   ],
   "source": [
    "print(\"NANs for individual columns\")\n",
    "print(\"---------------------------\")\n",
    "from collections import Counter\n",
    "x = {colname : store2[colname].isnull().sum() for colname in store2.columns}\n",
    "Counter(x).most_common()"
   ]
  },
  {
   "cell_type": "code",
   "execution_count": 114,
   "metadata": {},
   "outputs": [
    {
     "data": {
      "text/html": [
       "<div>\n",
       "<style scoped>\n",
       "    .dataframe tbody tr th:only-of-type {\n",
       "        vertical-align: middle;\n",
       "    }\n",
       "\n",
       "    .dataframe tbody tr th {\n",
       "        vertical-align: top;\n",
       "    }\n",
       "\n",
       "    .dataframe thead th {\n",
       "        text-align: right;\n",
       "    }\n",
       "</style>\n",
       "<table border=\"1\" class=\"dataframe\">\n",
       "  <thead>\n",
       "    <tr style=\"text-align: right;\">\n",
       "      <th></th>\n",
       "      <th>Store</th>\n",
       "      <th>StoreType</th>\n",
       "      <th>Assortment</th>\n",
       "      <th>CompetitionDistance</th>\n",
       "      <th>CompetitionOpenSinceMonth</th>\n",
       "      <th>CompetitionOpenSinceYear</th>\n",
       "      <th>Promo2</th>\n",
       "      <th>Promo2SinceWeek</th>\n",
       "      <th>Promo2SinceYear</th>\n",
       "      <th>PromoInterval</th>\n",
       "    </tr>\n",
       "  </thead>\n",
       "  <tbody>\n",
       "    <tr>\n",
       "      <td>0</td>\n",
       "      <td>1.0</td>\n",
       "      <td>2.0</td>\n",
       "      <td>0.0</td>\n",
       "      <td>1270.0</td>\n",
       "      <td>9.0</td>\n",
       "      <td>2008.0</td>\n",
       "      <td>0.0</td>\n",
       "      <td>0.0</td>\n",
       "      <td>0.0</td>\n",
       "      <td>0.0</td>\n",
       "    </tr>\n",
       "    <tr>\n",
       "      <td>1</td>\n",
       "      <td>2.0</td>\n",
       "      <td>0.0</td>\n",
       "      <td>0.0</td>\n",
       "      <td>570.0</td>\n",
       "      <td>11.0</td>\n",
       "      <td>2007.0</td>\n",
       "      <td>1.0</td>\n",
       "      <td>37.0</td>\n",
       "      <td>5.0</td>\n",
       "      <td>2.0</td>\n",
       "    </tr>\n",
       "    <tr>\n",
       "      <td>2</td>\n",
       "      <td>3.0</td>\n",
       "      <td>0.0</td>\n",
       "      <td>0.0</td>\n",
       "      <td>14130.0</td>\n",
       "      <td>12.0</td>\n",
       "      <td>2006.0</td>\n",
       "      <td>1.0</td>\n",
       "      <td>36.0</td>\n",
       "      <td>4.0</td>\n",
       "      <td>2.0</td>\n",
       "    </tr>\n",
       "    <tr>\n",
       "      <td>3</td>\n",
       "      <td>4.0</td>\n",
       "      <td>2.0</td>\n",
       "      <td>2.0</td>\n",
       "      <td>620.0</td>\n",
       "      <td>9.0</td>\n",
       "      <td>2009.0</td>\n",
       "      <td>0.0</td>\n",
       "      <td>0.0</td>\n",
       "      <td>0.0</td>\n",
       "      <td>0.0</td>\n",
       "    </tr>\n",
       "    <tr>\n",
       "      <td>4</td>\n",
       "      <td>5.0</td>\n",
       "      <td>0.0</td>\n",
       "      <td>0.0</td>\n",
       "      <td>29910.0</td>\n",
       "      <td>4.0</td>\n",
       "      <td>2015.0</td>\n",
       "      <td>0.0</td>\n",
       "      <td>0.0</td>\n",
       "      <td>0.0</td>\n",
       "      <td>0.0</td>\n",
       "    </tr>\n",
       "  </tbody>\n",
       "</table>\n",
       "</div>"
      ],
      "text/plain": [
       "   Store  StoreType  Assortment  CompetitionDistance  \\\n",
       "0    1.0        2.0         0.0               1270.0   \n",
       "1    2.0        0.0         0.0                570.0   \n",
       "2    3.0        0.0         0.0              14130.0   \n",
       "3    4.0        2.0         2.0                620.0   \n",
       "4    5.0        0.0         0.0              29910.0   \n",
       "\n",
       "   CompetitionOpenSinceMonth  CompetitionOpenSinceYear  Promo2  \\\n",
       "0                        9.0                    2008.0     0.0   \n",
       "1                       11.0                    2007.0     1.0   \n",
       "2                       12.0                    2006.0     1.0   \n",
       "3                        9.0                    2009.0     0.0   \n",
       "4                        4.0                    2015.0     0.0   \n",
       "\n",
       "   Promo2SinceWeek  Promo2SinceYear  PromoInterval  \n",
       "0              0.0              0.0            0.0  \n",
       "1             37.0              5.0            2.0  \n",
       "2             36.0              4.0            2.0  \n",
       "3              0.0              0.0            0.0  \n",
       "4              0.0              0.0            0.0  "
      ]
     },
     "execution_count": 114,
     "metadata": {},
     "output_type": "execute_result"
    }
   ],
   "source": [
    "store2.head()"
   ]
  },
  {
   "cell_type": "code",
   "execution_count": 115,
   "metadata": {},
   "outputs": [],
   "source": [
    "store2['CompetitionOpenSinceMonth'] = store2['CompetitionOpenSinceMonth'].max() - store2['CompetitionOpenSinceMonth']"
   ]
  },
  {
   "cell_type": "code",
   "execution_count": null,
   "metadata": {},
   "outputs": [],
   "source": []
  },
  {
   "cell_type": "code",
   "execution_count": 116,
   "metadata": {},
   "outputs": [],
   "source": [
    "store2['CompetitionOpenSinceYear'] = store2['CompetitionOpenSinceYear'].max() - store2['CompetitionOpenSinceYear']"
   ]
  },
  {
   "cell_type": "code",
   "execution_count": null,
   "metadata": {},
   "outputs": [],
   "source": []
  },
  {
   "cell_type": "code",
   "execution_count": 117,
   "metadata": {},
   "outputs": [
    {
     "data": {
      "text/html": [
       "<div>\n",
       "<style scoped>\n",
       "    .dataframe tbody tr th:only-of-type {\n",
       "        vertical-align: middle;\n",
       "    }\n",
       "\n",
       "    .dataframe tbody tr th {\n",
       "        vertical-align: top;\n",
       "    }\n",
       "\n",
       "    .dataframe thead th {\n",
       "        text-align: right;\n",
       "    }\n",
       "</style>\n",
       "<table border=\"1\" class=\"dataframe\">\n",
       "  <thead>\n",
       "    <tr style=\"text-align: right;\">\n",
       "      <th></th>\n",
       "      <th>Store</th>\n",
       "      <th>StoreType</th>\n",
       "      <th>Assortment</th>\n",
       "      <th>CompetitionDistance</th>\n",
       "      <th>CompetitionOpenSinceMonth</th>\n",
       "      <th>CompetitionOpenSinceYear</th>\n",
       "      <th>Promo2</th>\n",
       "      <th>Promo2SinceWeek</th>\n",
       "      <th>Promo2SinceYear</th>\n",
       "      <th>PromoInterval</th>\n",
       "    </tr>\n",
       "  </thead>\n",
       "  <tbody>\n",
       "    <tr>\n",
       "      <td>1110</td>\n",
       "      <td>1111.0</td>\n",
       "      <td>0.0</td>\n",
       "      <td>0.0</td>\n",
       "      <td>1900.0</td>\n",
       "      <td>6.000000</td>\n",
       "      <td>1.000000</td>\n",
       "      <td>1.0</td>\n",
       "      <td>19.0</td>\n",
       "      <td>2.0</td>\n",
       "      <td>2.0</td>\n",
       "    </tr>\n",
       "    <tr>\n",
       "      <td>1111</td>\n",
       "      <td>1112.0</td>\n",
       "      <td>2.0</td>\n",
       "      <td>2.0</td>\n",
       "      <td>1880.0</td>\n",
       "      <td>8.000000</td>\n",
       "      <td>9.000000</td>\n",
       "      <td>0.0</td>\n",
       "      <td>0.0</td>\n",
       "      <td>0.0</td>\n",
       "      <td>0.0</td>\n",
       "    </tr>\n",
       "    <tr>\n",
       "      <td>1112</td>\n",
       "      <td>1113.0</td>\n",
       "      <td>0.0</td>\n",
       "      <td>2.0</td>\n",
       "      <td>9260.0</td>\n",
       "      <td>4.775296</td>\n",
       "      <td>6.331143</td>\n",
       "      <td>0.0</td>\n",
       "      <td>0.0</td>\n",
       "      <td>0.0</td>\n",
       "      <td>0.0</td>\n",
       "    </tr>\n",
       "    <tr>\n",
       "      <td>1113</td>\n",
       "      <td>1114.0</td>\n",
       "      <td>0.0</td>\n",
       "      <td>2.0</td>\n",
       "      <td>870.0</td>\n",
       "      <td>4.775296</td>\n",
       "      <td>6.331143</td>\n",
       "      <td>0.0</td>\n",
       "      <td>0.0</td>\n",
       "      <td>0.0</td>\n",
       "      <td>0.0</td>\n",
       "    </tr>\n",
       "    <tr>\n",
       "      <td>1114</td>\n",
       "      <td>1115.0</td>\n",
       "      <td>3.0</td>\n",
       "      <td>2.0</td>\n",
       "      <td>5350.0</td>\n",
       "      <td>4.775296</td>\n",
       "      <td>6.331143</td>\n",
       "      <td>1.0</td>\n",
       "      <td>28.0</td>\n",
       "      <td>3.0</td>\n",
       "      <td>3.0</td>\n",
       "    </tr>\n",
       "  </tbody>\n",
       "</table>\n",
       "</div>"
      ],
      "text/plain": [
       "       Store  StoreType  Assortment  CompetitionDistance  \\\n",
       "1110  1111.0        0.0         0.0               1900.0   \n",
       "1111  1112.0        2.0         2.0               1880.0   \n",
       "1112  1113.0        0.0         2.0               9260.0   \n",
       "1113  1114.0        0.0         2.0                870.0   \n",
       "1114  1115.0        3.0         2.0               5350.0   \n",
       "\n",
       "      CompetitionOpenSinceMonth  CompetitionOpenSinceYear  Promo2  \\\n",
       "1110                   6.000000                  1.000000     1.0   \n",
       "1111                   8.000000                  9.000000     0.0   \n",
       "1112                   4.775296                  6.331143     0.0   \n",
       "1113                   4.775296                  6.331143     0.0   \n",
       "1114                   4.775296                  6.331143     1.0   \n",
       "\n",
       "      Promo2SinceWeek  Promo2SinceYear  PromoInterval  \n",
       "1110             19.0              2.0            2.0  \n",
       "1111              0.0              0.0            0.0  \n",
       "1112              0.0              0.0            0.0  \n",
       "1113              0.0              0.0            0.0  \n",
       "1114             28.0              3.0            3.0  "
      ]
     },
     "execution_count": 117,
     "metadata": {},
     "output_type": "execute_result"
    }
   ],
   "source": [
    "store2.tail()"
   ]
  },
  {
   "cell_type": "code",
   "execution_count": 118,
   "metadata": {},
   "outputs": [
    {
     "data": {
      "text/html": [
       "<div>\n",
       "<style scoped>\n",
       "    .dataframe tbody tr th:only-of-type {\n",
       "        vertical-align: middle;\n",
       "    }\n",
       "\n",
       "    .dataframe tbody tr th {\n",
       "        vertical-align: top;\n",
       "    }\n",
       "\n",
       "    .dataframe thead th {\n",
       "        text-align: right;\n",
       "    }\n",
       "</style>\n",
       "<table border=\"1\" class=\"dataframe\">\n",
       "  <thead>\n",
       "    <tr style=\"text-align: right;\">\n",
       "      <th></th>\n",
       "      <th>Store</th>\n",
       "      <th>StoreType</th>\n",
       "      <th>Assortment</th>\n",
       "      <th>CompetitionDistance</th>\n",
       "      <th>CompetitionOpenSinceMonth</th>\n",
       "      <th>CompetitionOpenSinceYear</th>\n",
       "      <th>Promo2</th>\n",
       "      <th>Promo2SinceWeek</th>\n",
       "      <th>Promo2SinceYear</th>\n",
       "      <th>PromoInterval</th>\n",
       "    </tr>\n",
       "  </thead>\n",
       "  <tbody>\n",
       "    <tr>\n",
       "      <td>0</td>\n",
       "      <td>1</td>\n",
       "      <td>2</td>\n",
       "      <td>0</td>\n",
       "      <td>1270</td>\n",
       "      <td>3</td>\n",
       "      <td>7</td>\n",
       "      <td>0</td>\n",
       "      <td>0</td>\n",
       "      <td>0</td>\n",
       "      <td>0</td>\n",
       "    </tr>\n",
       "    <tr>\n",
       "      <td>1</td>\n",
       "      <td>2</td>\n",
       "      <td>0</td>\n",
       "      <td>0</td>\n",
       "      <td>570</td>\n",
       "      <td>1</td>\n",
       "      <td>8</td>\n",
       "      <td>1</td>\n",
       "      <td>37</td>\n",
       "      <td>5</td>\n",
       "      <td>2</td>\n",
       "    </tr>\n",
       "    <tr>\n",
       "      <td>2</td>\n",
       "      <td>3</td>\n",
       "      <td>0</td>\n",
       "      <td>0</td>\n",
       "      <td>14130</td>\n",
       "      <td>0</td>\n",
       "      <td>9</td>\n",
       "      <td>1</td>\n",
       "      <td>36</td>\n",
       "      <td>4</td>\n",
       "      <td>2</td>\n",
       "    </tr>\n",
       "    <tr>\n",
       "      <td>3</td>\n",
       "      <td>4</td>\n",
       "      <td>2</td>\n",
       "      <td>2</td>\n",
       "      <td>620</td>\n",
       "      <td>3</td>\n",
       "      <td>6</td>\n",
       "      <td>0</td>\n",
       "      <td>0</td>\n",
       "      <td>0</td>\n",
       "      <td>0</td>\n",
       "    </tr>\n",
       "    <tr>\n",
       "      <td>4</td>\n",
       "      <td>5</td>\n",
       "      <td>0</td>\n",
       "      <td>0</td>\n",
       "      <td>29910</td>\n",
       "      <td>8</td>\n",
       "      <td>0</td>\n",
       "      <td>0</td>\n",
       "      <td>0</td>\n",
       "      <td>0</td>\n",
       "      <td>0</td>\n",
       "    </tr>\n",
       "    <tr>\n",
       "      <td>...</td>\n",
       "      <td>...</td>\n",
       "      <td>...</td>\n",
       "      <td>...</td>\n",
       "      <td>...</td>\n",
       "      <td>...</td>\n",
       "      <td>...</td>\n",
       "      <td>...</td>\n",
       "      <td>...</td>\n",
       "      <td>...</td>\n",
       "      <td>...</td>\n",
       "    </tr>\n",
       "    <tr>\n",
       "      <td>1110</td>\n",
       "      <td>1111</td>\n",
       "      <td>0</td>\n",
       "      <td>0</td>\n",
       "      <td>1900</td>\n",
       "      <td>6</td>\n",
       "      <td>1</td>\n",
       "      <td>1</td>\n",
       "      <td>19</td>\n",
       "      <td>2</td>\n",
       "      <td>2</td>\n",
       "    </tr>\n",
       "    <tr>\n",
       "      <td>1111</td>\n",
       "      <td>1112</td>\n",
       "      <td>2</td>\n",
       "      <td>2</td>\n",
       "      <td>1880</td>\n",
       "      <td>8</td>\n",
       "      <td>9</td>\n",
       "      <td>0</td>\n",
       "      <td>0</td>\n",
       "      <td>0</td>\n",
       "      <td>0</td>\n",
       "    </tr>\n",
       "    <tr>\n",
       "      <td>1112</td>\n",
       "      <td>1113</td>\n",
       "      <td>0</td>\n",
       "      <td>2</td>\n",
       "      <td>9260</td>\n",
       "      <td>4</td>\n",
       "      <td>6</td>\n",
       "      <td>0</td>\n",
       "      <td>0</td>\n",
       "      <td>0</td>\n",
       "      <td>0</td>\n",
       "    </tr>\n",
       "    <tr>\n",
       "      <td>1113</td>\n",
       "      <td>1114</td>\n",
       "      <td>0</td>\n",
       "      <td>2</td>\n",
       "      <td>870</td>\n",
       "      <td>4</td>\n",
       "      <td>6</td>\n",
       "      <td>0</td>\n",
       "      <td>0</td>\n",
       "      <td>0</td>\n",
       "      <td>0</td>\n",
       "    </tr>\n",
       "    <tr>\n",
       "      <td>1114</td>\n",
       "      <td>1115</td>\n",
       "      <td>3</td>\n",
       "      <td>2</td>\n",
       "      <td>5350</td>\n",
       "      <td>4</td>\n",
       "      <td>6</td>\n",
       "      <td>1</td>\n",
       "      <td>28</td>\n",
       "      <td>3</td>\n",
       "      <td>3</td>\n",
       "    </tr>\n",
       "  </tbody>\n",
       "</table>\n",
       "<p>1115 rows × 10 columns</p>\n",
       "</div>"
      ],
      "text/plain": [
       "      Store  StoreType  Assortment  CompetitionDistance  \\\n",
       "0         1          2           0                 1270   \n",
       "1         2          0           0                  570   \n",
       "2         3          0           0                14130   \n",
       "3         4          2           2                  620   \n",
       "4         5          0           0                29910   \n",
       "...     ...        ...         ...                  ...   \n",
       "1110   1111          0           0                 1900   \n",
       "1111   1112          2           2                 1880   \n",
       "1112   1113          0           2                 9260   \n",
       "1113   1114          0           2                  870   \n",
       "1114   1115          3           2                 5350   \n",
       "\n",
       "      CompetitionOpenSinceMonth  CompetitionOpenSinceYear  Promo2  \\\n",
       "0                             3                         7       0   \n",
       "1                             1                         8       1   \n",
       "2                             0                         9       1   \n",
       "3                             3                         6       0   \n",
       "4                             8                         0       0   \n",
       "...                         ...                       ...     ...   \n",
       "1110                          6                         1       1   \n",
       "1111                          8                         9       0   \n",
       "1112                          4                         6       0   \n",
       "1113                          4                         6       0   \n",
       "1114                          4                         6       1   \n",
       "\n",
       "      Promo2SinceWeek  Promo2SinceYear  PromoInterval  \n",
       "0                   0                0              0  \n",
       "1                  37                5              2  \n",
       "2                  36                4              2  \n",
       "3                   0                0              0  \n",
       "4                   0                0              0  \n",
       "...               ...              ...            ...  \n",
       "1110               19                2              2  \n",
       "1111                0                0              0  \n",
       "1112                0                0              0  \n",
       "1113                0                0              0  \n",
       "1114               28                3              3  \n",
       "\n",
       "[1115 rows x 10 columns]"
      ]
     },
     "execution_count": 118,
     "metadata": {},
     "output_type": "execute_result"
    }
   ],
   "source": [
    "store2.astype(int)"
   ]
  },
  {
   "cell_type": "code",
   "execution_count": 119,
   "metadata": {},
   "outputs": [],
   "source": [
    "#checking wether the store column is similar in store and train data "
   ]
  },
  {
   "cell_type": "code",
   "execution_count": 120,
   "metadata": {},
   "outputs": [
    {
     "data": {
      "text/plain": [
       "0"
      ]
     },
     "execution_count": 120,
     "metadata": {},
     "output_type": "execute_result"
    }
   ],
   "source": [
    "len(store2['Store']) - sum(store2['Store'].isin(train['Store']))"
   ]
  },
  {
   "cell_type": "code",
   "execution_count": 121,
   "metadata": {},
   "outputs": [],
   "source": [
    "# Checking if there are additional (unnecessary) stores in \"train\" data.\n",
    "# No difference at all!"
   ]
  },
  {
   "cell_type": "code",
   "execution_count": 122,
   "metadata": {},
   "outputs": [
    {
     "data": {
      "text/plain": [
       "0"
      ]
     },
     "execution_count": 122,
     "metadata": {},
     "output_type": "execute_result"
    }
   ],
   "source": [
    "StoreStore = pd.Series(store2['Store'])\n",
    "StoreTrain = pd.Series(train['Store'])\n",
    "sum(StoreTrain.isin(StoreStore) == False)"
   ]
  },
  {
   "cell_type": "code",
   "execution_count": 123,
   "metadata": {},
   "outputs": [],
   "source": [
    "#since bothe the store data in store and train are similar make the merge easier \n",
    "#now merge train and store before modeling "
   ]
  },
  {
   "cell_type": "code",
   "execution_count": 124,
   "metadata": {},
   "outputs": [],
   "source": [
    "train_store = pd.merge(train, store2, how = 'left', on='Store')"
   ]
  },
  {
   "cell_type": "code",
   "execution_count": 125,
   "metadata": {},
   "outputs": [
    {
     "name": "stdout",
     "output_type": "stream",
     "text": [
      "   Store  DayOfWeek       Date  Year  Month  Customers  Open  Promo  \\\n",
      "0      1          5 2015-07-31  2015      7        555     1      1   \n",
      "1      2          5 2015-07-31  2015      7        625     1      1   \n",
      "2      3          5 2015-07-31  2015      7        821     1      1   \n",
      "3      4          5 2015-07-31  2015      7       1498     1      1   \n",
      "4      5          5 2015-07-31  2015      7        559     1      1   \n",
      "\n",
      "   StateHoliday  SchoolHoliday  Sales  StoreType  Assortment  \\\n",
      "0             0              1   5263        2.0         0.0   \n",
      "1             0              1   6064        0.0         0.0   \n",
      "2             0              1   8314        0.0         0.0   \n",
      "3             0              1  13995        2.0         2.0   \n",
      "4             0              1   4822        0.0         0.0   \n",
      "\n",
      "   CompetitionDistance  CompetitionOpenSinceMonth  CompetitionOpenSinceYear  \\\n",
      "0               1270.0                        3.0                       7.0   \n",
      "1                570.0                        1.0                       8.0   \n",
      "2              14130.0                        0.0                       9.0   \n",
      "3                620.0                        3.0                       6.0   \n",
      "4              29910.0                        8.0                       0.0   \n",
      "\n",
      "   Promo2  Promo2SinceWeek  Promo2SinceYear  PromoInterval  \n",
      "0     0.0              0.0              0.0            0.0  \n",
      "1     1.0             37.0              5.0            2.0  \n",
      "2     1.0             36.0              4.0            2.0  \n",
      "3     0.0              0.0              0.0            0.0  \n",
      "4     0.0              0.0              0.0            0.0  \n"
     ]
    }
   ],
   "source": [
    "print(train_store.head())"
   ]
  },
  {
   "cell_type": "code",
   "execution_count": 126,
   "metadata": {},
   "outputs": [
    {
     "name": "stdout",
     "output_type": "stream",
     "text": [
      "         Store  DayOfWeek       Date  Year  Month  Customers  Open  Promo  \\\n",
      "1006414   1111          2 2013-01-01  2013      1          0     0      0   \n",
      "1006415   1112          2 2013-01-01  2013      1          0     0      0   \n",
      "1006416   1113          2 2013-01-01  2013      1          0     0      0   \n",
      "1006417   1114          2 2013-01-01  2013      1          0     0      0   \n",
      "1006418   1115          2 2013-01-01  2013      1          0     0      0   \n",
      "\n",
      "         StateHoliday  SchoolHoliday  Sales  StoreType  Assortment  \\\n",
      "1006414             1              1      0        0.0         0.0   \n",
      "1006415             1              1      0        2.0         2.0   \n",
      "1006416             1              1      0        0.0         2.0   \n",
      "1006417             1              1      0        0.0         2.0   \n",
      "1006418             1              1      0        3.0         2.0   \n",
      "\n",
      "         CompetitionDistance  CompetitionOpenSinceMonth  \\\n",
      "1006414               1900.0                   6.000000   \n",
      "1006415               1880.0                   8.000000   \n",
      "1006416               9260.0                   4.775296   \n",
      "1006417                870.0                   4.775296   \n",
      "1006418               5350.0                   4.775296   \n",
      "\n",
      "         CompetitionOpenSinceYear  Promo2  Promo2SinceWeek  Promo2SinceYear  \\\n",
      "1006414                  1.000000     1.0             19.0              2.0   \n",
      "1006415                  9.000000     0.0              0.0              0.0   \n",
      "1006416                  6.331143     0.0              0.0              0.0   \n",
      "1006417                  6.331143     0.0              0.0              0.0   \n",
      "1006418                  6.331143     1.0             28.0              3.0   \n",
      "\n",
      "         PromoInterval  \n",
      "1006414            2.0  \n",
      "1006415            0.0  \n",
      "1006416            0.0  \n",
      "1006417            0.0  \n",
      "1006418            3.0  \n"
     ]
    }
   ],
   "source": [
    "print(train_store.tail())"
   ]
  },
  {
   "cell_type": "code",
   "execution_count": 127,
   "metadata": {},
   "outputs": [],
   "source": [
    "# now merge test and store data similarly "
   ]
  },
  {
   "cell_type": "code",
   "execution_count": 128,
   "metadata": {},
   "outputs": [],
   "source": [
    "test_store = test.reset_index().merge(store2, how = 'left', on='Store').set_index('Id')"
   ]
  },
  {
   "cell_type": "code",
   "execution_count": 129,
   "metadata": {},
   "outputs": [
    {
     "name": "stdout",
     "output_type": "stream",
     "text": [
      "    Store  DayOfWeek       Date  Year  Month  Open  Promo  StateHoliday  \\\n",
      "Id                                                                        \n",
      "1       1          4 2015-09-17  2015      9   1.0      1             0   \n",
      "2       3          4 2015-09-17  2015      9   1.0      1             0   \n",
      "3       7          4 2015-09-17  2015      9   1.0      1             0   \n",
      "4       8          4 2015-09-17  2015      9   1.0      1             0   \n",
      "5       9          4 2015-09-17  2015      9   1.0      1             0   \n",
      "\n",
      "    SchoolHoliday  StoreType  Assortment  CompetitionDistance  \\\n",
      "Id                                                              \n",
      "1               0        2.0         0.0               1270.0   \n",
      "2               0        0.0         0.0              14130.0   \n",
      "3               0        0.0         2.0              24000.0   \n",
      "4               0        0.0         0.0               7520.0   \n",
      "5               0        0.0         2.0               2030.0   \n",
      "\n",
      "    CompetitionOpenSinceMonth  CompetitionOpenSinceYear  Promo2  \\\n",
      "Id                                                                \n",
      "1                         3.0                       7.0     0.0   \n",
      "2                         0.0                       9.0     1.0   \n",
      "3                         8.0                       2.0     0.0   \n",
      "4                         2.0                       1.0     0.0   \n",
      "5                         4.0                      15.0     0.0   \n",
      "\n",
      "    Promo2SinceWeek  Promo2SinceYear  PromoInterval  \n",
      "Id                                                   \n",
      "1               0.0              0.0            0.0  \n",
      "2              36.0              4.0            2.0  \n",
      "3               0.0              0.0            0.0  \n",
      "4               0.0              0.0            0.0  \n",
      "5               0.0              0.0            0.0  \n"
     ]
    }
   ],
   "source": [
    "print(test_store.head())"
   ]
  },
  {
   "cell_type": "code",
   "execution_count": 130,
   "metadata": {},
   "outputs": [
    {
     "data": {
      "text/plain": [
       "(41088, 18)"
      ]
     },
     "execution_count": 130,
     "metadata": {},
     "output_type": "execute_result"
    }
   ],
   "source": [
    "test_store.shape"
   ]
  },
  {
   "cell_type": "code",
   "execution_count": 131,
   "metadata": {},
   "outputs": [
    {
     "data": {
      "text/plain": [
       "Store                        0\n",
       "DayOfWeek                    0\n",
       "Date                         0\n",
       "Year                         0\n",
       "Month                        0\n",
       "Open                         0\n",
       "Promo                        0\n",
       "StateHoliday                 0\n",
       "SchoolHoliday                0\n",
       "StoreType                    0\n",
       "Assortment                   0\n",
       "CompetitionDistance          0\n",
       "CompetitionOpenSinceMonth    0\n",
       "CompetitionOpenSinceYear     0\n",
       "Promo2                       0\n",
       "Promo2SinceWeek              0\n",
       "Promo2SinceYear              0\n",
       "PromoInterval                0\n",
       "dtype: int64"
      ]
     },
     "execution_count": 131,
     "metadata": {},
     "output_type": "execute_result"
    }
   ],
   "source": [
    "test_store.isnull().sum()"
   ]
  },
  {
   "cell_type": "code",
   "execution_count": 132,
   "metadata": {},
   "outputs": [
    {
     "data": {
      "image/png": "[encoded data removed]",
      "text/plain": [
       "<Figure size 432x288 with 1 Axes>"
      ]
     },
     "metadata": {
      "needs_background": "light"
     },
     "output_type": "display_data"
    }
   ],
   "source": [
    "train_store.boxplot(column='Sales', by='Year')\n",
    "plt.show()"
   ]
  },
  {
   "cell_type": "code",
   "execution_count": 133,
   "metadata": {},
   "outputs": [
    {
     "data": {
      "image/png": "[encoded data removed]",
      "text/plain": [
       "<Figure size 432x288 with 1 Axes>"
      ]
     },
     "metadata": {
      "needs_background": "light"
     },
     "output_type": "display_data"
    }
   ],
   "source": [
    "train_store.boxplot(column='Sales', by='Month')\n",
    "plt.show()"
   ]
  },
  {
   "cell_type": "code",
   "execution_count": 134,
   "metadata": {},
   "outputs": [
    {
     "data": {
      "image/png": "[encoded data removed]",
      "text/plain": [
       "<Figure size 432x288 with 1 Axes>"
      ]
     },
     "metadata": {
      "needs_background": "light"
     },
     "output_type": "display_data"
    }
   ],
   "source": [
    "train_store.boxplot(column='Sales', by='StateHoliday')\n",
    "plt.show()"
   ]
  },
  {
   "cell_type": "code",
   "execution_count": 135,
   "metadata": {},
   "outputs": [
    {
     "data": {
      "image/png": "[encoded data removed]",
      "text/plain": [
       "<Figure size 432x288 with 1 Axes>"
      ]
     },
     "metadata": {
      "needs_background": "light"
     },
     "output_type": "display_data"
    }
   ],
   "source": [
    "train_store.boxplot(column='Sales', by='SchoolHoliday')\n",
    "plt.show()"
   ]
  },
  {
   "cell_type": "code",
   "execution_count": 136,
   "metadata": {},
   "outputs": [
    {
     "data": {
      "image/png": "[encoded data removed]",
      "text/plain": [
       "<Figure size 432x288 with 1 Axes>"
      ]
     },
     "metadata": {
      "needs_background": "light"
     },
     "output_type": "display_data"
    }
   ],
   "source": [
    "train_store.boxplot(column='Sales', by='StoreType')\n",
    "plt.show()"
   ]
  },
  {
   "cell_type": "code",
   "execution_count": 137,
   "metadata": {},
   "outputs": [
    {
     "data": {
      "image/png": "[encoded data removed]",
      "text/plain": [
       "<Figure size 432x288 with 1 Axes>"
      ]
     },
     "metadata": {
      "needs_background": "light"
     },
     "output_type": "display_data"
    }
   ],
   "source": [
    "train_store.boxplot(column='Sales', by='DayOfWeek')\n",
    "plt.show()"
   ]
  },
  {
   "cell_type": "code",
   "execution_count": 138,
   "metadata": {},
   "outputs": [
    {
     "data": {
      "image/png": "[encoded data removed]",
      "text/plain": [
       "<Figure size 432x288 with 1 Axes>"
      ]
     },
     "metadata": {
      "needs_background": "light"
     },
     "output_type": "display_data"
    }
   ],
   "source": [
    "train_store.boxplot(column='Sales', by='Promo2')\n",
    "plt.show()"
   ]
  },
  {
   "cell_type": "code",
   "execution_count": 139,
   "metadata": {},
   "outputs": [],
   "source": [
    "#train_store.ix[train2['Promo2'] != 0].boxplot(column='Sales', by='Promo2SinceYear')\n",
    "#plt.show()"
   ]
  },
  {
   "cell_type": "code",
   "execution_count": 140,
   "metadata": {},
   "outputs": [
    {
     "data": {
      "image/png": "[encoded data removed]",
      "text/plain": [
       "<Figure size 432x288 with 1 Axes>"
      ]
     },
     "metadata": {
      "needs_background": "light"
     },
     "output_type": "display_data"
    }
   ],
   "source": [
    "train_store.boxplot(column='Customers', by='Month')\n",
    "plt.show()"
   ]
  },
  {
   "cell_type": "code",
   "execution_count": 141,
   "metadata": {
    "scrolled": true
   },
   "outputs": [],
   "source": [
    "#train_store.ix[train2['Promo2'] != 0].boxplot(column='Sales', by='PromoInterval')\n",
    "#plt.show()"
   ]
  },
  {
   "cell_type": "code",
   "execution_count": 142,
   "metadata": {},
   "outputs": [
    {
     "data": {
      "image/png": "[encoded data removed]",
      "text/plain": [
       "<Figure size 432x288 with 4 Axes>"
      ]
     },
     "metadata": {
      "needs_background": "light"
     },
     "output_type": "display_data"
    }
   ],
   "source": [
    "train_store.hist(column='Sales', by='Year', bins=30)\n",
    "plt.show()"
   ]
  },
  {
   "cell_type": "code",
   "execution_count": 143,
   "metadata": {},
   "outputs": [
    {
     "data": {
      "image/png": "[encoded data removed]",
      "text/plain": [
       "<Figure size 432x288 with 12 Axes>"
      ]
     },
     "metadata": {
      "needs_background": "light"
     },
     "output_type": "display_data"
    }
   ],
   "source": [
    "train_store.hist(column='Sales', by='Month', bins=30)\n",
    "plt.show()"
   ]
  },
  {
   "cell_type": "code",
   "execution_count": 144,
   "metadata": {},
   "outputs": [
    {
     "data": {
      "image/png": "[encoded data removed]",
      "text/plain": [
       "<Figure size 432x288 with 1 Axes>"
      ]
     },
     "metadata": {
      "needs_background": "light"
     },
     "output_type": "display_data"
    }
   ],
   "source": [
    "train_store.hist(column='CompetitionDistance', bins=30)\n",
    "plt.show()"
   ]
  },
  {
   "cell_type": "code",
   "execution_count": 145,
   "metadata": {},
   "outputs": [],
   "source": [
    "# Modelling "
   ]
  },
  {
   "cell_type": "code",
   "execution_count": 146,
   "metadata": {},
   "outputs": [
    {
     "data": {
      "text/plain": [
       "array(['Store', 'DayOfWeek', 'Date', 'Year', 'Month', 'Customers', 'Open',\n",
       "       'Promo', 'StateHoliday', 'SchoolHoliday', 'Sales', 'StoreType',\n",
       "       'Assortment', 'CompetitionDistance', 'CompetitionOpenSinceMonth',\n",
       "       'CompetitionOpenSinceYear', 'Promo2', 'Promo2SinceWeek',\n",
       "       'Promo2SinceYear', 'PromoInterval'], dtype=object)"
      ]
     },
     "execution_count": 146,
     "metadata": {},
     "output_type": "execute_result"
    }
   ],
   "source": [
    "#Trainig the data \n",
    "train_store.columns.values"
   ]
  },
  {
   "cell_type": "code",
   "execution_count": 147,
   "metadata": {},
   "outputs": [
    {
     "name": "stdout",
     "output_type": "stream",
     "text": [
      "   Store  DayOfWeek  Year  Month  Open  Promo  StateHoliday  SchoolHoliday  \\\n",
      "0      1          5     0      7     1      1             0              1   \n",
      "1      2          5     0      7     1      1             0              1   \n",
      "2      3          5     0      7     1      1             0              1   \n",
      "3      4          5     0      7     1      1             0              1   \n",
      "4      5          5     0      7     1      1             0              1   \n",
      "\n",
      "   Sales  StoreType  Assortment  CompetitionDistance  \\\n",
      "0   5263        2.0         0.0               1270.0   \n",
      "1   6064        0.0         0.0                570.0   \n",
      "2   8314        0.0         0.0              14130.0   \n",
      "3  13995        2.0         2.0                620.0   \n",
      "4   4822        0.0         0.0              29910.0   \n",
      "\n",
      "   CompetitionOpenSinceMonth  CompetitionOpenSinceYear  Promo2  \\\n",
      "0                        3.0                       7.0     0.0   \n",
      "1                        1.0                       8.0     1.0   \n",
      "2                        0.0                       9.0     1.0   \n",
      "3                        3.0                       6.0     0.0   \n",
      "4                        8.0                       0.0     0.0   \n",
      "\n",
      "   Promo2SinceWeek  Promo2SinceYear  PromoInterval  \n",
      "0              0.0              0.0            0.0  \n",
      "1             37.0              5.0            2.0  \n",
      "2             36.0              4.0            2.0  \n",
      "3              0.0              0.0            0.0  \n",
      "4              0.0              0.0            0.0  \n"
     ]
    }
   ],
   "source": [
    "train_model = train_store.drop(['Customers', 'Date'], axis=1)\n",
    "train_model['Year'] = train_model['Year'].max() - train_model['Year']\n",
    "print(train_model.head())"
   ]
  },
  {
   "cell_type": "code",
   "execution_count": 148,
   "metadata": {},
   "outputs": [],
   "source": [
    "# Testing data preparation"
   ]
  },
  {
   "cell_type": "code",
   "execution_count": 149,
   "metadata": {},
   "outputs": [],
   "source": [
    "test_model = test_store.drop(['Date'], axis=1)\n",
    "test_model['Year'] = test_model['Year'].max() - test_model['Year']"
   ]
  },
  {
   "cell_type": "code",
   "execution_count": 150,
   "metadata": {},
   "outputs": [
    {
     "name": "stdout",
     "output_type": "stream",
     "text": [
      "    Store  DayOfWeek  Year  Month  Open  Promo  StateHoliday  SchoolHoliday  \\\n",
      "Id                                                                            \n",
      "1       1          4     0      9   1.0      1             0              0   \n",
      "2       3          4     0      9   1.0      1             0              0   \n",
      "3       7          4     0      9   1.0      1             0              0   \n",
      "4       8          4     0      9   1.0      1             0              0   \n",
      "5       9          4     0      9   1.0      1             0              0   \n",
      "\n",
      "    StoreType  Assortment  CompetitionDistance  CompetitionOpenSinceMonth  \\\n",
      "Id                                                                          \n",
      "1         2.0         0.0               1270.0                        3.0   \n",
      "2         0.0         0.0              14130.0                        0.0   \n",
      "3         0.0         2.0              24000.0                        8.0   \n",
      "4         0.0         0.0               7520.0                        2.0   \n",
      "5         0.0         2.0               2030.0                        4.0   \n",
      "\n",
      "    CompetitionOpenSinceYear  Promo2  Promo2SinceWeek  Promo2SinceYear  \\\n",
      "Id                                                                       \n",
      "1                        7.0     0.0              0.0              0.0   \n",
      "2                        9.0     1.0             36.0              4.0   \n",
      "3                        2.0     0.0              0.0              0.0   \n",
      "4                        1.0     0.0              0.0              0.0   \n",
      "5                       15.0     0.0              0.0              0.0   \n",
      "\n",
      "    PromoInterval  \n",
      "Id                 \n",
      "1             0.0  \n",
      "2             2.0  \n",
      "3             0.0  \n",
      "4             0.0  \n",
      "5             0.0  \n"
     ]
    }
   ],
   "source": [
    "print(test_model.head())"
   ]
  },
  {
   "cell_type": "code",
   "execution_count": 151,
   "metadata": {},
   "outputs": [
    {
     "data": {
      "text/html": [
       "<div>\n",
       "<style scoped>\n",
       "    .dataframe tbody tr th:only-of-type {\n",
       "        vertical-align: middle;\n",
       "    }\n",
       "\n",
       "    .dataframe tbody tr th {\n",
       "        vertical-align: top;\n",
       "    }\n",
       "\n",
       "    .dataframe thead th {\n",
       "        text-align: right;\n",
       "    }\n",
       "</style>\n",
       "<table border=\"1\" class=\"dataframe\">\n",
       "  <thead>\n",
       "    <tr style=\"text-align: right;\">\n",
       "      <th></th>\n",
       "      <th>Store</th>\n",
       "      <th>DayOfWeek</th>\n",
       "      <th>Year</th>\n",
       "      <th>Month</th>\n",
       "      <th>Open</th>\n",
       "      <th>Promo</th>\n",
       "      <th>StateHoliday</th>\n",
       "      <th>SchoolHoliday</th>\n",
       "      <th>StoreType</th>\n",
       "      <th>Assortment</th>\n",
       "      <th>CompetitionDistance</th>\n",
       "      <th>CompetitionOpenSinceMonth</th>\n",
       "      <th>CompetitionOpenSinceYear</th>\n",
       "      <th>Promo2</th>\n",
       "      <th>Promo2SinceWeek</th>\n",
       "      <th>Promo2SinceYear</th>\n",
       "      <th>PromoInterval</th>\n",
       "    </tr>\n",
       "    <tr>\n",
       "      <th>Id</th>\n",
       "      <th></th>\n",
       "      <th></th>\n",
       "      <th></th>\n",
       "      <th></th>\n",
       "      <th></th>\n",
       "      <th></th>\n",
       "      <th></th>\n",
       "      <th></th>\n",
       "      <th></th>\n",
       "      <th></th>\n",
       "      <th></th>\n",
       "      <th></th>\n",
       "      <th></th>\n",
       "      <th></th>\n",
       "      <th></th>\n",
       "      <th></th>\n",
       "      <th></th>\n",
       "    </tr>\n",
       "  </thead>\n",
       "  <tbody>\n",
       "    <tr>\n",
       "      <td>1</td>\n",
       "      <td>1</td>\n",
       "      <td>4</td>\n",
       "      <td>0</td>\n",
       "      <td>9</td>\n",
       "      <td>1.0</td>\n",
       "      <td>1</td>\n",
       "      <td>0</td>\n",
       "      <td>0</td>\n",
       "      <td>2.0</td>\n",
       "      <td>0.0</td>\n",
       "      <td>1270.0</td>\n",
       "      <td>3.0</td>\n",
       "      <td>7.0</td>\n",
       "      <td>0.0</td>\n",
       "      <td>0.0</td>\n",
       "      <td>0.0</td>\n",
       "      <td>0.0</td>\n",
       "    </tr>\n",
       "    <tr>\n",
       "      <td>2</td>\n",
       "      <td>3</td>\n",
       "      <td>4</td>\n",
       "      <td>0</td>\n",
       "      <td>9</td>\n",
       "      <td>1.0</td>\n",
       "      <td>1</td>\n",
       "      <td>0</td>\n",
       "      <td>0</td>\n",
       "      <td>0.0</td>\n",
       "      <td>0.0</td>\n",
       "      <td>14130.0</td>\n",
       "      <td>0.0</td>\n",
       "      <td>9.0</td>\n",
       "      <td>1.0</td>\n",
       "      <td>36.0</td>\n",
       "      <td>4.0</td>\n",
       "      <td>2.0</td>\n",
       "    </tr>\n",
       "    <tr>\n",
       "      <td>3</td>\n",
       "      <td>7</td>\n",
       "      <td>4</td>\n",
       "      <td>0</td>\n",
       "      <td>9</td>\n",
       "      <td>1.0</td>\n",
       "      <td>1</td>\n",
       "      <td>0</td>\n",
       "      <td>0</td>\n",
       "      <td>0.0</td>\n",
       "      <td>2.0</td>\n",
       "      <td>24000.0</td>\n",
       "      <td>8.0</td>\n",
       "      <td>2.0</td>\n",
       "      <td>0.0</td>\n",
       "      <td>0.0</td>\n",
       "      <td>0.0</td>\n",
       "      <td>0.0</td>\n",
       "    </tr>\n",
       "    <tr>\n",
       "      <td>4</td>\n",
       "      <td>8</td>\n",
       "      <td>4</td>\n",
       "      <td>0</td>\n",
       "      <td>9</td>\n",
       "      <td>1.0</td>\n",
       "      <td>1</td>\n",
       "      <td>0</td>\n",
       "      <td>0</td>\n",
       "      <td>0.0</td>\n",
       "      <td>0.0</td>\n",
       "      <td>7520.0</td>\n",
       "      <td>2.0</td>\n",
       "      <td>1.0</td>\n",
       "      <td>0.0</td>\n",
       "      <td>0.0</td>\n",
       "      <td>0.0</td>\n",
       "      <td>0.0</td>\n",
       "    </tr>\n",
       "    <tr>\n",
       "      <td>5</td>\n",
       "      <td>9</td>\n",
       "      <td>4</td>\n",
       "      <td>0</td>\n",
       "      <td>9</td>\n",
       "      <td>1.0</td>\n",
       "      <td>1</td>\n",
       "      <td>0</td>\n",
       "      <td>0</td>\n",
       "      <td>0.0</td>\n",
       "      <td>2.0</td>\n",
       "      <td>2030.0</td>\n",
       "      <td>4.0</td>\n",
       "      <td>15.0</td>\n",
       "      <td>0.0</td>\n",
       "      <td>0.0</td>\n",
       "      <td>0.0</td>\n",
       "      <td>0.0</td>\n",
       "    </tr>\n",
       "  </tbody>\n",
       "</table>\n",
       "</div>"
      ],
      "text/plain": [
       "    Store  DayOfWeek  Year  Month  Open  Promo  StateHoliday  SchoolHoliday  \\\n",
       "Id                                                                            \n",
       "1       1          4     0      9   1.0      1             0              0   \n",
       "2       3          4     0      9   1.0      1             0              0   \n",
       "3       7          4     0      9   1.0      1             0              0   \n",
       "4       8          4     0      9   1.0      1             0              0   \n",
       "5       9          4     0      9   1.0      1             0              0   \n",
       "\n",
       "    StoreType  Assortment  CompetitionDistance  CompetitionOpenSinceMonth  \\\n",
       "Id                                                                          \n",
       "1         2.0         0.0               1270.0                        3.0   \n",
       "2         0.0         0.0              14130.0                        0.0   \n",
       "3         0.0         2.0              24000.0                        8.0   \n",
       "4         0.0         0.0               7520.0                        2.0   \n",
       "5         0.0         2.0               2030.0                        4.0   \n",
       "\n",
       "    CompetitionOpenSinceYear  Promo2  Promo2SinceWeek  Promo2SinceYear  \\\n",
       "Id                                                                       \n",
       "1                        7.0     0.0              0.0              0.0   \n",
       "2                        9.0     1.0             36.0              4.0   \n",
       "3                        2.0     0.0              0.0              0.0   \n",
       "4                        1.0     0.0              0.0              0.0   \n",
       "5                       15.0     0.0              0.0              0.0   \n",
       "\n",
       "    PromoInterval  \n",
       "Id                 \n",
       "1             0.0  \n",
       "2             2.0  \n",
       "3             0.0  \n",
       "4             0.0  \n",
       "5             0.0  "
      ]
     },
     "execution_count": 151,
     "metadata": {},
     "output_type": "execute_result"
    }
   ],
   "source": [
    "#splitting the stores that are opened\n",
    "test_model_open = test_model.loc[test_model['Open'] == 1]\n",
    "\n",
    "#test_model_open = test_model_open.drop('Open', axis=1)\n",
    "\n",
    "#splitting the stores that are closed\n",
    "test_model_close = test_model.loc[test_model['Open'] == 0]\n",
    "\n",
    "test_model_open.head()"
   ]
  },
  {
   "cell_type": "code",
   "execution_count": 152,
   "metadata": {},
   "outputs": [
    {
     "data": {
      "text/plain": [
       "Store                        0\n",
       "DayOfWeek                    0\n",
       "Year                         0\n",
       "Month                        0\n",
       "Open                         0\n",
       "Promo                        0\n",
       "StateHoliday                 0\n",
       "SchoolHoliday                0\n",
       "StoreType                    0\n",
       "Assortment                   0\n",
       "CompetitionDistance          0\n",
       "CompetitionOpenSinceMonth    0\n",
       "CompetitionOpenSinceYear     0\n",
       "Promo2                       0\n",
       "Promo2SinceWeek              0\n",
       "Promo2SinceYear              0\n",
       "PromoInterval                0\n",
       "dtype: int64"
      ]
     },
     "execution_count": 152,
     "metadata": {},
     "output_type": "execute_result"
    }
   ],
   "source": [
    "test_model_open.isnull().sum() # checking for null values "
   ]
  },
  {
   "cell_type": "code",
   "execution_count": 153,
   "metadata": {},
   "outputs": [
    {
     "data": {
      "text/plain": [
       "(1006419, 18)"
      ]
     },
     "execution_count": 153,
     "metadata": {},
     "output_type": "execute_result"
    }
   ],
   "source": [
    "train_model.shape"
   ]
  },
  {
   "cell_type": "code",
   "execution_count": 154,
   "metadata": {},
   "outputs": [
    {
     "data": {
      "text/plain": [
       "(41088, 17)"
      ]
     },
     "execution_count": 154,
     "metadata": {},
     "output_type": "execute_result"
    }
   ],
   "source": [
    "test_model.shape"
   ]
  },
  {
   "cell_type": "code",
   "execution_count": 155,
   "metadata": {},
   "outputs": [],
   "source": [
    "#taking sales data set and reassingnig\n",
    "SalesDF = train_model['Sales']\n",
    "train_model = train_model.drop(['Sales'], axis=1)\n",
    "train_model['Sales'] = SalesDF"
   ]
  },
  {
   "cell_type": "code",
   "execution_count": 156,
   "metadata": {},
   "outputs": [
    {
     "data": {
      "text/html": [
       "<div>\n",
       "<style scoped>\n",
       "    .dataframe tbody tr th:only-of-type {\n",
       "        vertical-align: middle;\n",
       "    }\n",
       "\n",
       "    .dataframe tbody tr th {\n",
       "        vertical-align: top;\n",
       "    }\n",
       "\n",
       "    .dataframe thead th {\n",
       "        text-align: right;\n",
       "    }\n",
       "</style>\n",
       "<table border=\"1\" class=\"dataframe\">\n",
       "  <thead>\n",
       "    <tr style=\"text-align: right;\">\n",
       "      <th></th>\n",
       "      <th>Store</th>\n",
       "      <th>DayOfWeek</th>\n",
       "      <th>Year</th>\n",
       "      <th>Month</th>\n",
       "      <th>Open</th>\n",
       "      <th>Promo</th>\n",
       "      <th>StateHoliday</th>\n",
       "      <th>SchoolHoliday</th>\n",
       "      <th>StoreType</th>\n",
       "      <th>Assortment</th>\n",
       "      <th>CompetitionDistance</th>\n",
       "      <th>CompetitionOpenSinceMonth</th>\n",
       "      <th>CompetitionOpenSinceYear</th>\n",
       "      <th>Promo2</th>\n",
       "      <th>Promo2SinceWeek</th>\n",
       "      <th>Promo2SinceYear</th>\n",
       "      <th>PromoInterval</th>\n",
       "      <th>Sales</th>\n",
       "    </tr>\n",
       "  </thead>\n",
       "  <tbody>\n",
       "    <tr>\n",
       "      <td>0</td>\n",
       "      <td>1</td>\n",
       "      <td>5</td>\n",
       "      <td>0</td>\n",
       "      <td>7</td>\n",
       "      <td>1</td>\n",
       "      <td>1</td>\n",
       "      <td>0</td>\n",
       "      <td>1</td>\n",
       "      <td>2.0</td>\n",
       "      <td>0.0</td>\n",
       "      <td>1270.0</td>\n",
       "      <td>3.0</td>\n",
       "      <td>7.0</td>\n",
       "      <td>0.0</td>\n",
       "      <td>0.0</td>\n",
       "      <td>0.0</td>\n",
       "      <td>0.0</td>\n",
       "      <td>5263</td>\n",
       "    </tr>\n",
       "    <tr>\n",
       "      <td>1</td>\n",
       "      <td>2</td>\n",
       "      <td>5</td>\n",
       "      <td>0</td>\n",
       "      <td>7</td>\n",
       "      <td>1</td>\n",
       "      <td>1</td>\n",
       "      <td>0</td>\n",
       "      <td>1</td>\n",
       "      <td>0.0</td>\n",
       "      <td>0.0</td>\n",
       "      <td>570.0</td>\n",
       "      <td>1.0</td>\n",
       "      <td>8.0</td>\n",
       "      <td>1.0</td>\n",
       "      <td>37.0</td>\n",
       "      <td>5.0</td>\n",
       "      <td>2.0</td>\n",
       "      <td>6064</td>\n",
       "    </tr>\n",
       "    <tr>\n",
       "      <td>2</td>\n",
       "      <td>3</td>\n",
       "      <td>5</td>\n",
       "      <td>0</td>\n",
       "      <td>7</td>\n",
       "      <td>1</td>\n",
       "      <td>1</td>\n",
       "      <td>0</td>\n",
       "      <td>1</td>\n",
       "      <td>0.0</td>\n",
       "      <td>0.0</td>\n",
       "      <td>14130.0</td>\n",
       "      <td>0.0</td>\n",
       "      <td>9.0</td>\n",
       "      <td>1.0</td>\n",
       "      <td>36.0</td>\n",
       "      <td>4.0</td>\n",
       "      <td>2.0</td>\n",
       "      <td>8314</td>\n",
       "    </tr>\n",
       "    <tr>\n",
       "      <td>3</td>\n",
       "      <td>4</td>\n",
       "      <td>5</td>\n",
       "      <td>0</td>\n",
       "      <td>7</td>\n",
       "      <td>1</td>\n",
       "      <td>1</td>\n",
       "      <td>0</td>\n",
       "      <td>1</td>\n",
       "      <td>2.0</td>\n",
       "      <td>2.0</td>\n",
       "      <td>620.0</td>\n",
       "      <td>3.0</td>\n",
       "      <td>6.0</td>\n",
       "      <td>0.0</td>\n",
       "      <td>0.0</td>\n",
       "      <td>0.0</td>\n",
       "      <td>0.0</td>\n",
       "      <td>13995</td>\n",
       "    </tr>\n",
       "    <tr>\n",
       "      <td>4</td>\n",
       "      <td>5</td>\n",
       "      <td>5</td>\n",
       "      <td>0</td>\n",
       "      <td>7</td>\n",
       "      <td>1</td>\n",
       "      <td>1</td>\n",
       "      <td>0</td>\n",
       "      <td>1</td>\n",
       "      <td>0.0</td>\n",
       "      <td>0.0</td>\n",
       "      <td>29910.0</td>\n",
       "      <td>8.0</td>\n",
       "      <td>0.0</td>\n",
       "      <td>0.0</td>\n",
       "      <td>0.0</td>\n",
       "      <td>0.0</td>\n",
       "      <td>0.0</td>\n",
       "      <td>4822</td>\n",
       "    </tr>\n",
       "  </tbody>\n",
       "</table>\n",
       "</div>"
      ],
      "text/plain": [
       "   Store  DayOfWeek  Year  Month  Open  Promo  StateHoliday  SchoolHoliday  \\\n",
       "0      1          5     0      7     1      1             0              1   \n",
       "1      2          5     0      7     1      1             0              1   \n",
       "2      3          5     0      7     1      1             0              1   \n",
       "3      4          5     0      7     1      1             0              1   \n",
       "4      5          5     0      7     1      1             0              1   \n",
       "\n",
       "   StoreType  Assortment  CompetitionDistance  CompetitionOpenSinceMonth  \\\n",
       "0        2.0         0.0               1270.0                        3.0   \n",
       "1        0.0         0.0                570.0                        1.0   \n",
       "2        0.0         0.0              14130.0                        0.0   \n",
       "3        2.0         2.0                620.0                        3.0   \n",
       "4        0.0         0.0              29910.0                        8.0   \n",
       "\n",
       "   CompetitionOpenSinceYear  Promo2  Promo2SinceWeek  Promo2SinceYear  \\\n",
       "0                       7.0     0.0              0.0              0.0   \n",
       "1                       8.0     1.0             37.0              5.0   \n",
       "2                       9.0     1.0             36.0              4.0   \n",
       "3                       6.0     0.0              0.0              0.0   \n",
       "4                       0.0     0.0              0.0              0.0   \n",
       "\n",
       "   PromoInterval  Sales  \n",
       "0            0.0   5263  \n",
       "1            2.0   6064  \n",
       "2            2.0   8314  \n",
       "3            0.0  13995  \n",
       "4            0.0   4822  "
      ]
     },
     "execution_count": 156,
     "metadata": {},
     "output_type": "execute_result"
    }
   ],
   "source": [
    "train_model.head()"
   ]
  },
  {
   "cell_type": "code",
   "execution_count": 157,
   "metadata": {},
   "outputs": [],
   "source": [
    "summary = train_model.describe()"
   ]
  },
  {
   "cell_type": "code",
   "execution_count": 158,
   "metadata": {},
   "outputs": [
    {
     "data": {
      "text/html": [
       "<div>\n",
       "<style scoped>\n",
       "    .dataframe tbody tr th:only-of-type {\n",
       "        vertical-align: middle;\n",
       "    }\n",
       "\n",
       "    .dataframe tbody tr th {\n",
       "        vertical-align: top;\n",
       "    }\n",
       "\n",
       "    .dataframe thead th {\n",
       "        text-align: right;\n",
       "    }\n",
       "</style>\n",
       "<table border=\"1\" class=\"dataframe\">\n",
       "  <thead>\n",
       "    <tr style=\"text-align: right;\">\n",
       "      <th></th>\n",
       "      <th>Store</th>\n",
       "      <th>DayOfWeek</th>\n",
       "      <th>Year</th>\n",
       "      <th>Month</th>\n",
       "      <th>Open</th>\n",
       "      <th>Promo</th>\n",
       "      <th>StateHoliday</th>\n",
       "      <th>SchoolHoliday</th>\n",
       "      <th>StoreType</th>\n",
       "      <th>Assortment</th>\n",
       "      <th>CompetitionDistance</th>\n",
       "      <th>CompetitionOpenSinceMonth</th>\n",
       "      <th>CompetitionOpenSinceYear</th>\n",
       "      <th>Promo2</th>\n",
       "      <th>Promo2SinceWeek</th>\n",
       "      <th>Promo2SinceYear</th>\n",
       "      <th>PromoInterval</th>\n",
       "      <th>Sales</th>\n",
       "    </tr>\n",
       "  </thead>\n",
       "  <tbody>\n",
       "    <tr>\n",
       "      <td>count</td>\n",
       "      <td>1.006419e+06</td>\n",
       "      <td>1.006419e+06</td>\n",
       "      <td>1.006419e+06</td>\n",
       "      <td>1.006419e+06</td>\n",
       "      <td>1.006419e+06</td>\n",
       "      <td>1.006419e+06</td>\n",
       "      <td>1.006419e+06</td>\n",
       "      <td>1.006419e+06</td>\n",
       "      <td>1.006419e+06</td>\n",
       "      <td>1.006419e+06</td>\n",
       "      <td>1.006419e+06</td>\n",
       "      <td>1.006419e+06</td>\n",
       "      <td>1.006419e+06</td>\n",
       "      <td>1.006419e+06</td>\n",
       "      <td>1.006419e+06</td>\n",
       "      <td>1.006419e+06</td>\n",
       "      <td>1.006419e+06</td>\n",
       "      <td>1.006419e+06</td>\n",
       "    </tr>\n",
       "    <tr>\n",
       "      <td>mean</td>\n",
       "      <td>5.584296e+02</td>\n",
       "      <td>4.005149e+00</td>\n",
       "      <td>1.167290e+00</td>\n",
       "      <td>5.835079e+00</td>\n",
       "      <td>8.387918e-01</td>\n",
       "      <td>3.822811e-01</td>\n",
       "      <td>2.013078e-02</td>\n",
       "      <td>1.703217e-01</td>\n",
       "      <td>1.207469e+00</td>\n",
       "      <td>9.351393e-01</td>\n",
       "      <td>5.430014e+03</td>\n",
       "      <td>4.776549e+00</td>\n",
       "      <td>6.316570e+00</td>\n",
       "      <td>5.005669e-01</td>\n",
       "      <td>1.338056e+01</td>\n",
       "      <td>1.625452e+00</td>\n",
       "      <td>9.803551e-01</td>\n",
       "      <td>5.833609e+03</td>\n",
       "    </tr>\n",
       "    <tr>\n",
       "      <td>std</td>\n",
       "      <td>3.219086e+02</td>\n",
       "      <td>1.999261e+00</td>\n",
       "      <td>7.775718e-01</td>\n",
       "      <td>3.316515e+00</td>\n",
       "      <td>3.677231e-01</td>\n",
       "      <td>4.859450e-01</td>\n",
       "      <td>1.404477e-01</td>\n",
       "      <td>3.759154e-01</td>\n",
       "      <td>1.365377e+00</td>\n",
       "      <td>9.938010e-01</td>\n",
       "      <td>7.705283e+03</td>\n",
       "      <td>2.652674e+00</td>\n",
       "      <td>4.949421e+00</td>\n",
       "      <td>4.999999e-01</td>\n",
       "      <td>1.667618e+01</td>\n",
       "      <td>2.005057e+00</td>\n",
       "      <td>1.081877e+00</td>\n",
       "      <td>3.822671e+03</td>\n",
       "    </tr>\n",
       "    <tr>\n",
       "      <td>min</td>\n",
       "      <td>1.000000e+00</td>\n",
       "      <td>1.000000e+00</td>\n",
       "      <td>0.000000e+00</td>\n",
       "      <td>1.000000e+00</td>\n",
       "      <td>0.000000e+00</td>\n",
       "      <td>0.000000e+00</td>\n",
       "      <td>0.000000e+00</td>\n",
       "      <td>0.000000e+00</td>\n",
       "      <td>0.000000e+00</td>\n",
       "      <td>0.000000e+00</td>\n",
       "      <td>2.000000e+01</td>\n",
       "      <td>0.000000e+00</td>\n",
       "      <td>0.000000e+00</td>\n",
       "      <td>0.000000e+00</td>\n",
       "      <td>0.000000e+00</td>\n",
       "      <td>0.000000e+00</td>\n",
       "      <td>0.000000e+00</td>\n",
       "      <td>0.000000e+00</td>\n",
       "    </tr>\n",
       "    <tr>\n",
       "      <td>25%</td>\n",
       "      <td>2.800000e+02</td>\n",
       "      <td>2.000000e+00</td>\n",
       "      <td>1.000000e+00</td>\n",
       "      <td>3.000000e+00</td>\n",
       "      <td>1.000000e+00</td>\n",
       "      <td>0.000000e+00</td>\n",
       "      <td>0.000000e+00</td>\n",
       "      <td>0.000000e+00</td>\n",
       "      <td>0.000000e+00</td>\n",
       "      <td>0.000000e+00</td>\n",
       "      <td>7.100000e+02</td>\n",
       "      <td>3.000000e+00</td>\n",
       "      <td>4.000000e+00</td>\n",
       "      <td>0.000000e+00</td>\n",
       "      <td>0.000000e+00</td>\n",
       "      <td>0.000000e+00</td>\n",
       "      <td>0.000000e+00</td>\n",
       "      <td>3.814000e+03</td>\n",
       "    </tr>\n",
       "    <tr>\n",
       "      <td>50%</td>\n",
       "      <td>5.580000e+02</td>\n",
       "      <td>4.000000e+00</td>\n",
       "      <td>1.000000e+00</td>\n",
       "      <td>6.000000e+00</td>\n",
       "      <td>1.000000e+00</td>\n",
       "      <td>0.000000e+00</td>\n",
       "      <td>0.000000e+00</td>\n",
       "      <td>0.000000e+00</td>\n",
       "      <td>0.000000e+00</td>\n",
       "      <td>0.000000e+00</td>\n",
       "      <td>2.330000e+03</td>\n",
       "      <td>4.775296e+00</td>\n",
       "      <td>6.331143e+00</td>\n",
       "      <td>1.000000e+00</td>\n",
       "      <td>0.000000e+00</td>\n",
       "      <td>0.000000e+00</td>\n",
       "      <td>1.000000e+00</td>\n",
       "      <td>5.781000e+03</td>\n",
       "    </tr>\n",
       "    <tr>\n",
       "      <td>75%</td>\n",
       "      <td>8.380000e+02</td>\n",
       "      <td>6.000000e+00</td>\n",
       "      <td>2.000000e+00</td>\n",
       "      <td>8.000000e+00</td>\n",
       "      <td>1.000000e+00</td>\n",
       "      <td>1.000000e+00</td>\n",
       "      <td>0.000000e+00</td>\n",
       "      <td>0.000000e+00</td>\n",
       "      <td>3.000000e+00</td>\n",
       "      <td>2.000000e+00</td>\n",
       "      <td>6.880000e+03</td>\n",
       "      <td>6.000000e+00</td>\n",
       "      <td>7.000000e+00</td>\n",
       "      <td>1.000000e+00</td>\n",
       "      <td>2.800000e+01</td>\n",
       "      <td>3.000000e+00</td>\n",
       "      <td>2.000000e+00</td>\n",
       "      <td>7.883000e+03</td>\n",
       "    </tr>\n",
       "    <tr>\n",
       "      <td>max</td>\n",
       "      <td>1.115000e+03</td>\n",
       "      <td>7.000000e+00</td>\n",
       "      <td>2.000000e+00</td>\n",
       "      <td>1.200000e+01</td>\n",
       "      <td>1.000000e+00</td>\n",
       "      <td>1.000000e+00</td>\n",
       "      <td>1.000000e+00</td>\n",
       "      <td>1.000000e+00</td>\n",
       "      <td>3.000000e+00</td>\n",
       "      <td>2.000000e+00</td>\n",
       "      <td>7.586000e+04</td>\n",
       "      <td>1.100000e+01</td>\n",
       "      <td>1.150000e+02</td>\n",
       "      <td>1.000000e+00</td>\n",
       "      <td>4.900000e+01</td>\n",
       "      <td>6.000000e+00</td>\n",
       "      <td>3.000000e+00</td>\n",
       "      <td>4.155100e+04</td>\n",
       "    </tr>\n",
       "  </tbody>\n",
       "</table>\n",
       "</div>"
      ],
      "text/plain": [
       "              Store     DayOfWeek          Year         Month          Open  \\\n",
       "count  1.006419e+06  1.006419e+06  1.006419e+06  1.006419e+06  1.006419e+06   \n",
       "mean   5.584296e+02  4.005149e+00  1.167290e+00  5.835079e+00  8.387918e-01   \n",
       "std    3.219086e+02  1.999261e+00  7.775718e-01  3.316515e+00  3.677231e-01   \n",
       "min    1.000000e+00  1.000000e+00  0.000000e+00  1.000000e+00  0.000000e+00   \n",
       "25%    2.800000e+02  2.000000e+00  1.000000e+00  3.000000e+00  1.000000e+00   \n",
       "50%    5.580000e+02  4.000000e+00  1.000000e+00  6.000000e+00  1.000000e+00   \n",
       "75%    8.380000e+02  6.000000e+00  2.000000e+00  8.000000e+00  1.000000e+00   \n",
       "max    1.115000e+03  7.000000e+00  2.000000e+00  1.200000e+01  1.000000e+00   \n",
       "\n",
       "              Promo  StateHoliday  SchoolHoliday     StoreType    Assortment  \\\n",
       "count  1.006419e+06  1.006419e+06   1.006419e+06  1.006419e+06  1.006419e+06   \n",
       "mean   3.822811e-01  2.013078e-02   1.703217e-01  1.207469e+00  9.351393e-01   \n",
       "std    4.859450e-01  1.404477e-01   3.759154e-01  1.365377e+00  9.938010e-01   \n",
       "min    0.000000e+00  0.000000e+00   0.000000e+00  0.000000e+00  0.000000e+00   \n",
       "25%    0.000000e+00  0.000000e+00   0.000000e+00  0.000000e+00  0.000000e+00   \n",
       "50%    0.000000e+00  0.000000e+00   0.000000e+00  0.000000e+00  0.000000e+00   \n",
       "75%    1.000000e+00  0.000000e+00   0.000000e+00  3.000000e+00  2.000000e+00   \n",
       "max    1.000000e+00  1.000000e+00   1.000000e+00  3.000000e+00  2.000000e+00   \n",
       "\n",
       "       CompetitionDistance  CompetitionOpenSinceMonth  \\\n",
       "count         1.006419e+06               1.006419e+06   \n",
       "mean          5.430014e+03               4.776549e+00   \n",
       "std           7.705283e+03               2.652674e+00   \n",
       "min           2.000000e+01               0.000000e+00   \n",
       "25%           7.100000e+02               3.000000e+00   \n",
       "50%           2.330000e+03               4.775296e+00   \n",
       "75%           6.880000e+03               6.000000e+00   \n",
       "max           7.586000e+04               1.100000e+01   \n",
       "\n",
       "       CompetitionOpenSinceYear        Promo2  Promo2SinceWeek  \\\n",
       "count              1.006419e+06  1.006419e+06     1.006419e+06   \n",
       "mean               6.316570e+00  5.005669e-01     1.338056e+01   \n",
       "std                4.949421e+00  4.999999e-01     1.667618e+01   \n",
       "min                0.000000e+00  0.000000e+00     0.000000e+00   \n",
       "25%                4.000000e+00  0.000000e+00     0.000000e+00   \n",
       "50%                6.331143e+00  1.000000e+00     0.000000e+00   \n",
       "75%                7.000000e+00  1.000000e+00     2.800000e+01   \n",
       "max                1.150000e+02  1.000000e+00     4.900000e+01   \n",
       "\n",
       "       Promo2SinceYear  PromoInterval         Sales  \n",
       "count     1.006419e+06   1.006419e+06  1.006419e+06  \n",
       "mean      1.625452e+00   9.803551e-01  5.833609e+03  \n",
       "std       2.005057e+00   1.081877e+00  3.822671e+03  \n",
       "min       0.000000e+00   0.000000e+00  0.000000e+00  \n",
       "25%       0.000000e+00   0.000000e+00  3.814000e+03  \n",
       "50%       0.000000e+00   1.000000e+00  5.781000e+03  \n",
       "75%       3.000000e+00   2.000000e+00  7.883000e+03  \n",
       "max       6.000000e+00   3.000000e+00  4.155100e+04  "
      ]
     },
     "execution_count": 158,
     "metadata": {},
     "output_type": "execute_result"
    }
   ],
   "source": [
    "summary"
   ]
  },
  {
   "cell_type": "code",
   "execution_count": 159,
   "metadata": {},
   "outputs": [],
   "source": [
    "train_normalized = train_model.copy()"
   ]
  },
  {
   "cell_type": "code",
   "execution_count": 160,
   "metadata": {},
   "outputs": [
    {
     "data": {
      "text/html": [
       "<div>\n",
       "<style scoped>\n",
       "    .dataframe tbody tr th:only-of-type {\n",
       "        vertical-align: middle;\n",
       "    }\n",
       "\n",
       "    .dataframe tbody tr th {\n",
       "        vertical-align: top;\n",
       "    }\n",
       "\n",
       "    .dataframe thead th {\n",
       "        text-align: right;\n",
       "    }\n",
       "</style>\n",
       "<table border=\"1\" class=\"dataframe\">\n",
       "  <thead>\n",
       "    <tr style=\"text-align: right;\">\n",
       "      <th></th>\n",
       "      <th>Store</th>\n",
       "      <th>DayOfWeek</th>\n",
       "      <th>Year</th>\n",
       "      <th>Month</th>\n",
       "      <th>Open</th>\n",
       "      <th>Promo</th>\n",
       "      <th>StateHoliday</th>\n",
       "      <th>SchoolHoliday</th>\n",
       "      <th>StoreType</th>\n",
       "      <th>Assortment</th>\n",
       "      <th>CompetitionDistance</th>\n",
       "      <th>CompetitionOpenSinceMonth</th>\n",
       "      <th>CompetitionOpenSinceYear</th>\n",
       "      <th>Promo2</th>\n",
       "      <th>Promo2SinceWeek</th>\n",
       "      <th>Promo2SinceYear</th>\n",
       "      <th>PromoInterval</th>\n",
       "      <th>Sales</th>\n",
       "    </tr>\n",
       "  </thead>\n",
       "  <tbody>\n",
       "    <tr>\n",
       "      <td>0</td>\n",
       "      <td>1</td>\n",
       "      <td>5</td>\n",
       "      <td>0</td>\n",
       "      <td>7</td>\n",
       "      <td>1</td>\n",
       "      <td>1</td>\n",
       "      <td>0</td>\n",
       "      <td>1</td>\n",
       "      <td>2.0</td>\n",
       "      <td>0.0</td>\n",
       "      <td>1270.0</td>\n",
       "      <td>3.000000</td>\n",
       "      <td>7.000000</td>\n",
       "      <td>0.0</td>\n",
       "      <td>0.0</td>\n",
       "      <td>0.0</td>\n",
       "      <td>0.0</td>\n",
       "      <td>5263</td>\n",
       "    </tr>\n",
       "    <tr>\n",
       "      <td>1</td>\n",
       "      <td>2</td>\n",
       "      <td>5</td>\n",
       "      <td>0</td>\n",
       "      <td>7</td>\n",
       "      <td>1</td>\n",
       "      <td>1</td>\n",
       "      <td>0</td>\n",
       "      <td>1</td>\n",
       "      <td>0.0</td>\n",
       "      <td>0.0</td>\n",
       "      <td>570.0</td>\n",
       "      <td>1.000000</td>\n",
       "      <td>8.000000</td>\n",
       "      <td>1.0</td>\n",
       "      <td>37.0</td>\n",
       "      <td>5.0</td>\n",
       "      <td>2.0</td>\n",
       "      <td>6064</td>\n",
       "    </tr>\n",
       "    <tr>\n",
       "      <td>2</td>\n",
       "      <td>3</td>\n",
       "      <td>5</td>\n",
       "      <td>0</td>\n",
       "      <td>7</td>\n",
       "      <td>1</td>\n",
       "      <td>1</td>\n",
       "      <td>0</td>\n",
       "      <td>1</td>\n",
       "      <td>0.0</td>\n",
       "      <td>0.0</td>\n",
       "      <td>14130.0</td>\n",
       "      <td>0.000000</td>\n",
       "      <td>9.000000</td>\n",
       "      <td>1.0</td>\n",
       "      <td>36.0</td>\n",
       "      <td>4.0</td>\n",
       "      <td>2.0</td>\n",
       "      <td>8314</td>\n",
       "    </tr>\n",
       "    <tr>\n",
       "      <td>3</td>\n",
       "      <td>4</td>\n",
       "      <td>5</td>\n",
       "      <td>0</td>\n",
       "      <td>7</td>\n",
       "      <td>1</td>\n",
       "      <td>1</td>\n",
       "      <td>0</td>\n",
       "      <td>1</td>\n",
       "      <td>2.0</td>\n",
       "      <td>2.0</td>\n",
       "      <td>620.0</td>\n",
       "      <td>3.000000</td>\n",
       "      <td>6.000000</td>\n",
       "      <td>0.0</td>\n",
       "      <td>0.0</td>\n",
       "      <td>0.0</td>\n",
       "      <td>0.0</td>\n",
       "      <td>13995</td>\n",
       "    </tr>\n",
       "    <tr>\n",
       "      <td>4</td>\n",
       "      <td>5</td>\n",
       "      <td>5</td>\n",
       "      <td>0</td>\n",
       "      <td>7</td>\n",
       "      <td>1</td>\n",
       "      <td>1</td>\n",
       "      <td>0</td>\n",
       "      <td>1</td>\n",
       "      <td>0.0</td>\n",
       "      <td>0.0</td>\n",
       "      <td>29910.0</td>\n",
       "      <td>8.000000</td>\n",
       "      <td>0.000000</td>\n",
       "      <td>0.0</td>\n",
       "      <td>0.0</td>\n",
       "      <td>0.0</td>\n",
       "      <td>0.0</td>\n",
       "      <td>4822</td>\n",
       "    </tr>\n",
       "    <tr>\n",
       "      <td>...</td>\n",
       "      <td>...</td>\n",
       "      <td>...</td>\n",
       "      <td>...</td>\n",
       "      <td>...</td>\n",
       "      <td>...</td>\n",
       "      <td>...</td>\n",
       "      <td>...</td>\n",
       "      <td>...</td>\n",
       "      <td>...</td>\n",
       "      <td>...</td>\n",
       "      <td>...</td>\n",
       "      <td>...</td>\n",
       "      <td>...</td>\n",
       "      <td>...</td>\n",
       "      <td>...</td>\n",
       "      <td>...</td>\n",
       "      <td>...</td>\n",
       "      <td>...</td>\n",
       "    </tr>\n",
       "    <tr>\n",
       "      <td>1006414</td>\n",
       "      <td>1111</td>\n",
       "      <td>2</td>\n",
       "      <td>2</td>\n",
       "      <td>1</td>\n",
       "      <td>0</td>\n",
       "      <td>0</td>\n",
       "      <td>1</td>\n",
       "      <td>1</td>\n",
       "      <td>0.0</td>\n",
       "      <td>0.0</td>\n",
       "      <td>1900.0</td>\n",
       "      <td>6.000000</td>\n",
       "      <td>1.000000</td>\n",
       "      <td>1.0</td>\n",
       "      <td>19.0</td>\n",
       "      <td>2.0</td>\n",
       "      <td>2.0</td>\n",
       "      <td>0</td>\n",
       "    </tr>\n",
       "    <tr>\n",
       "      <td>1006415</td>\n",
       "      <td>1112</td>\n",
       "      <td>2</td>\n",
       "      <td>2</td>\n",
       "      <td>1</td>\n",
       "      <td>0</td>\n",
       "      <td>0</td>\n",
       "      <td>1</td>\n",
       "      <td>1</td>\n",
       "      <td>2.0</td>\n",
       "      <td>2.0</td>\n",
       "      <td>1880.0</td>\n",
       "      <td>8.000000</td>\n",
       "      <td>9.000000</td>\n",
       "      <td>0.0</td>\n",
       "      <td>0.0</td>\n",
       "      <td>0.0</td>\n",
       "      <td>0.0</td>\n",
       "      <td>0</td>\n",
       "    </tr>\n",
       "    <tr>\n",
       "      <td>1006416</td>\n",
       "      <td>1113</td>\n",
       "      <td>2</td>\n",
       "      <td>2</td>\n",
       "      <td>1</td>\n",
       "      <td>0</td>\n",
       "      <td>0</td>\n",
       "      <td>1</td>\n",
       "      <td>1</td>\n",
       "      <td>0.0</td>\n",
       "      <td>2.0</td>\n",
       "      <td>9260.0</td>\n",
       "      <td>4.775296</td>\n",
       "      <td>6.331143</td>\n",
       "      <td>0.0</td>\n",
       "      <td>0.0</td>\n",
       "      <td>0.0</td>\n",
       "      <td>0.0</td>\n",
       "      <td>0</td>\n",
       "    </tr>\n",
       "    <tr>\n",
       "      <td>1006417</td>\n",
       "      <td>1114</td>\n",
       "      <td>2</td>\n",
       "      <td>2</td>\n",
       "      <td>1</td>\n",
       "      <td>0</td>\n",
       "      <td>0</td>\n",
       "      <td>1</td>\n",
       "      <td>1</td>\n",
       "      <td>0.0</td>\n",
       "      <td>2.0</td>\n",
       "      <td>870.0</td>\n",
       "      <td>4.775296</td>\n",
       "      <td>6.331143</td>\n",
       "      <td>0.0</td>\n",
       "      <td>0.0</td>\n",
       "      <td>0.0</td>\n",
       "      <td>0.0</td>\n",
       "      <td>0</td>\n",
       "    </tr>\n",
       "    <tr>\n",
       "      <td>1006418</td>\n",
       "      <td>1115</td>\n",
       "      <td>2</td>\n",
       "      <td>2</td>\n",
       "      <td>1</td>\n",
       "      <td>0</td>\n",
       "      <td>0</td>\n",
       "      <td>1</td>\n",
       "      <td>1</td>\n",
       "      <td>3.0</td>\n",
       "      <td>2.0</td>\n",
       "      <td>5350.0</td>\n",
       "      <td>4.775296</td>\n",
       "      <td>6.331143</td>\n",
       "      <td>1.0</td>\n",
       "      <td>28.0</td>\n",
       "      <td>3.0</td>\n",
       "      <td>3.0</td>\n",
       "      <td>0</td>\n",
       "    </tr>\n",
       "  </tbody>\n",
       "</table>\n",
       "<p>1006419 rows × 18 columns</p>\n",
       "</div>"
      ],
      "text/plain": [
       "         Store  DayOfWeek  Year  Month  Open  Promo  StateHoliday  \\\n",
       "0            1          5     0      7     1      1             0   \n",
       "1            2          5     0      7     1      1             0   \n",
       "2            3          5     0      7     1      1             0   \n",
       "3            4          5     0      7     1      1             0   \n",
       "4            5          5     0      7     1      1             0   \n",
       "...        ...        ...   ...    ...   ...    ...           ...   \n",
       "1006414   1111          2     2      1     0      0             1   \n",
       "1006415   1112          2     2      1     0      0             1   \n",
       "1006416   1113          2     2      1     0      0             1   \n",
       "1006417   1114          2     2      1     0      0             1   \n",
       "1006418   1115          2     2      1     0      0             1   \n",
       "\n",
       "         SchoolHoliday  StoreType  Assortment  CompetitionDistance  \\\n",
       "0                    1        2.0         0.0               1270.0   \n",
       "1                    1        0.0         0.0                570.0   \n",
       "2                    1        0.0         0.0              14130.0   \n",
       "3                    1        2.0         2.0                620.0   \n",
       "4                    1        0.0         0.0              29910.0   \n",
       "...                ...        ...         ...                  ...   \n",
       "1006414              1        0.0         0.0               1900.0   \n",
       "1006415              1        2.0         2.0               1880.0   \n",
       "1006416              1        0.0         2.0               9260.0   \n",
       "1006417              1        0.0         2.0                870.0   \n",
       "1006418              1        3.0         2.0               5350.0   \n",
       "\n",
       "         CompetitionOpenSinceMonth  CompetitionOpenSinceYear  Promo2  \\\n",
       "0                         3.000000                  7.000000     0.0   \n",
       "1                         1.000000                  8.000000     1.0   \n",
       "2                         0.000000                  9.000000     1.0   \n",
       "3                         3.000000                  6.000000     0.0   \n",
       "4                         8.000000                  0.000000     0.0   \n",
       "...                            ...                       ...     ...   \n",
       "1006414                   6.000000                  1.000000     1.0   \n",
       "1006415                   8.000000                  9.000000     0.0   \n",
       "1006416                   4.775296                  6.331143     0.0   \n",
       "1006417                   4.775296                  6.331143     0.0   \n",
       "1006418                   4.775296                  6.331143     1.0   \n",
       "\n",
       "         Promo2SinceWeek  Promo2SinceYear  PromoInterval  Sales  \n",
       "0                    0.0              0.0            0.0   5263  \n",
       "1                   37.0              5.0            2.0   6064  \n",
       "2                   36.0              4.0            2.0   8314  \n",
       "3                    0.0              0.0            0.0  13995  \n",
       "4                    0.0              0.0            0.0   4822  \n",
       "...                  ...              ...            ...    ...  \n",
       "1006414             19.0              2.0            2.0      0  \n",
       "1006415              0.0              0.0            0.0      0  \n",
       "1006416              0.0              0.0            0.0      0  \n",
       "1006417              0.0              0.0            0.0      0  \n",
       "1006418             28.0              3.0            3.0      0  \n",
       "\n",
       "[1006419 rows x 18 columns]"
      ]
     },
     "execution_count": 160,
     "metadata": {},
     "output_type": "execute_result"
    }
   ],
   "source": [
    "train_normalized"
   ]
  },
  {
   "cell_type": "code",
   "execution_count": 161,
   "metadata": {},
   "outputs": [],
   "source": [
    "# Manual normalization \n",
    "ncols = len(train_normalized.columns)\n",
    "\n",
    "for i in range(ncols):\n",
    "    mean = summary.iloc[1, i]\n",
    "    sd = summary.iloc[2, i]\n",
    "    train_normalized.iloc[:,i:(i + 1)] = (train_normalized.iloc[:,i:(i + 1)] - mean) / sd"
   ]
  },
  {
   "cell_type": "code",
   "execution_count": 162,
   "metadata": {},
   "outputs": [
    {
     "name": "stdout",
     "output_type": "stream",
     "text": [
      "<bound method NDFrame.head of             Store  DayOfWeek      Year     Month      Open     Promo  \\\n",
      "0       -1.731639   0.497609 -1.501199  0.351249  0.438396  1.271170   \n",
      "1       -1.728533   0.497609 -1.501199  0.351249  0.438396  1.271170   \n",
      "2       -1.725426   0.497609 -1.501199  0.351249  0.438396  1.271170   \n",
      "3       -1.722320   0.497609 -1.501199  0.351249  0.438396  1.271170   \n",
      "4       -1.719213   0.497609 -1.501199  0.351249  0.438396  1.271170   \n",
      "...           ...        ...       ...       ...       ...       ...   \n",
      "1006414  1.716544  -1.002945  1.070911 -1.457879 -2.281042 -0.786676   \n",
      "1006415  1.719651  -1.002945  1.070911 -1.457879 -2.281042 -0.786676   \n",
      "1006416  1.722757  -1.002945  1.070911 -1.457879 -2.281042 -0.786676   \n",
      "1006417  1.725864  -1.002945  1.070911 -1.457879 -2.281042 -0.786676   \n",
      "1006418  1.728970  -1.002945  1.070911 -1.457879 -2.281042 -0.786676   \n",
      "\n",
      "         StateHoliday  SchoolHoliday  StoreType  Assortment  \\\n",
      "0           -0.143333       2.207088   0.580448   -0.940972   \n",
      "1           -0.143333       2.207088  -0.884349   -0.940972   \n",
      "2           -0.143333       2.207088  -0.884349   -0.940972   \n",
      "3           -0.143333       2.207088   0.580448    1.071503   \n",
      "4           -0.143333       2.207088  -0.884349   -0.940972   \n",
      "...               ...            ...        ...         ...   \n",
      "1006414      6.976756       2.207088  -0.884349   -0.940972   \n",
      "1006415      6.976756       2.207088   0.580448    1.071503   \n",
      "1006416      6.976756       2.207088  -0.884349    1.071503   \n",
      "1006417      6.976756       2.207088  -0.884349    1.071503   \n",
      "1006418      6.976756       2.207088   1.312847    1.071503   \n",
      "\n",
      "         CompetitionDistance  CompetitionOpenSinceMonth  \\\n",
      "0                  -0.539891                  -0.669720   \n",
      "1                  -0.630738                  -1.423676   \n",
      "2                   1.129094                  -1.800655   \n",
      "3                  -0.624249                  -0.669720   \n",
      "4                   3.177039                   1.215170   \n",
      "...                      ...                        ...   \n",
      "1006414            -0.458129                   0.461214   \n",
      "1006415            -0.460725                   1.215170   \n",
      "1006416             0.497060                  -0.000473   \n",
      "1006417            -0.591804                  -0.000473   \n",
      "1006418            -0.010384                  -0.000473   \n",
      "\n",
      "         CompetitionOpenSinceYear    Promo2  Promo2SinceWeek  Promo2SinceYear  \\\n",
      "0                        0.138083 -1.001134        -0.802376        -0.810676   \n",
      "1                        0.340127  0.998866         1.416358         1.683018   \n",
      "2                        0.542171  0.998866         1.356392         1.184279   \n",
      "3                       -0.063961 -1.001134        -0.802376        -0.810676   \n",
      "4                       -1.276224 -1.001134        -0.802376        -0.810676   \n",
      "...                           ...       ...              ...              ...   \n",
      "1006414                 -1.074180  0.998866         0.336974         0.186802   \n",
      "1006415                  0.542171 -1.001134        -0.802376        -0.810676   \n",
      "1006416                  0.002945 -1.001134        -0.802376        -0.810676   \n",
      "1006417                  0.002945 -1.001134        -0.802376        -0.810676   \n",
      "1006418                  0.002945  0.998866         0.876666         0.685541   \n",
      "\n",
      "         PromoInterval     Sales  \n",
      "0            -0.906161 -0.149270  \n",
      "1             0.942477  0.060270  \n",
      "2             0.942477  0.648863  \n",
      "3            -0.906161  2.134997  \n",
      "4            -0.906161 -0.264634  \n",
      "...                ...       ...  \n",
      "1006414       0.942477 -1.526056  \n",
      "1006415      -0.906161 -1.526056  \n",
      "1006416      -0.906161 -1.526056  \n",
      "1006417      -0.906161 -1.526056  \n",
      "1006418       1.866797 -1.526056  \n",
      "\n",
      "[1006419 rows x 18 columns]>\n"
     ]
    }
   ],
   "source": [
    "print(train_normalized.head)"
   ]
  },
  {
   "cell_type": "code",
   "execution_count": 163,
   "metadata": {},
   "outputs": [],
   "source": [
    "# Model build \n",
    "# train and test split\n",
    "from sklearn.model_selection import train_test_split\n",
    "X = train_model.drop('Sales', axis=1)\n",
    "y = train_model['Sales']\n",
    "#y = np.log(train_model['Sales']+1)\n",
    "X_train, X_test, y_train, y_test = train_test_split(X, y, test_size=0.30 ,random_state=1)"
   ]
  },
  {
   "cell_type": "code",
   "execution_count": 164,
   "metadata": {},
   "outputs": [
    {
     "data": {
      "text/html": [
       "<div>\n",
       "<style scoped>\n",
       "    .dataframe tbody tr th:only-of-type {\n",
       "        vertical-align: middle;\n",
       "    }\n",
       "\n",
       "    .dataframe tbody tr th {\n",
       "        vertical-align: top;\n",
       "    }\n",
       "\n",
       "    .dataframe thead th {\n",
       "        text-align: right;\n",
       "    }\n",
       "</style>\n",
       "<table border=\"1\" class=\"dataframe\">\n",
       "  <thead>\n",
       "    <tr style=\"text-align: right;\">\n",
       "      <th></th>\n",
       "      <th>Store</th>\n",
       "      <th>DayOfWeek</th>\n",
       "      <th>Year</th>\n",
       "      <th>Month</th>\n",
       "      <th>Open</th>\n",
       "      <th>Promo</th>\n",
       "      <th>StateHoliday</th>\n",
       "      <th>SchoolHoliday</th>\n",
       "      <th>StoreType</th>\n",
       "      <th>Assortment</th>\n",
       "      <th>CompetitionDistance</th>\n",
       "      <th>CompetitionOpenSinceMonth</th>\n",
       "      <th>CompetitionOpenSinceYear</th>\n",
       "      <th>Promo2</th>\n",
       "      <th>Promo2SinceWeek</th>\n",
       "      <th>Promo2SinceYear</th>\n",
       "      <th>PromoInterval</th>\n",
       "    </tr>\n",
       "  </thead>\n",
       "  <tbody>\n",
       "    <tr>\n",
       "      <td>465338</td>\n",
       "      <td>809</td>\n",
       "      <td>3</td>\n",
       "      <td>1</td>\n",
       "      <td>5</td>\n",
       "      <td>1</td>\n",
       "      <td>1</td>\n",
       "      <td>0</td>\n",
       "      <td>0</td>\n",
       "      <td>0.0</td>\n",
       "      <td>0.0</td>\n",
       "      <td>12770.0</td>\n",
       "      <td>2.000000</td>\n",
       "      <td>15.000000</td>\n",
       "      <td>0.0</td>\n",
       "      <td>0.0</td>\n",
       "      <td>0.0</td>\n",
       "      <td>0.0</td>\n",
       "    </tr>\n",
       "    <tr>\n",
       "      <td>611276</td>\n",
       "      <td>682</td>\n",
       "      <td>1</td>\n",
       "      <td>2</td>\n",
       "      <td>12</td>\n",
       "      <td>1</td>\n",
       "      <td>0</td>\n",
       "      <td>0</td>\n",
       "      <td>1</td>\n",
       "      <td>1.0</td>\n",
       "      <td>0.0</td>\n",
       "      <td>150.0</td>\n",
       "      <td>3.000000</td>\n",
       "      <td>9.000000</td>\n",
       "      <td>0.0</td>\n",
       "      <td>0.0</td>\n",
       "      <td>0.0</td>\n",
       "      <td>0.0</td>\n",
       "    </tr>\n",
       "    <tr>\n",
       "      <td>116120</td>\n",
       "      <td>161</td>\n",
       "      <td>6</td>\n",
       "      <td>0</td>\n",
       "      <td>4</td>\n",
       "      <td>1</td>\n",
       "      <td>0</td>\n",
       "      <td>0</td>\n",
       "      <td>0</td>\n",
       "      <td>0.0</td>\n",
       "      <td>2.0</td>\n",
       "      <td>2970.0</td>\n",
       "      <td>9.000000</td>\n",
       "      <td>10.000000</td>\n",
       "      <td>0.0</td>\n",
       "      <td>0.0</td>\n",
       "      <td>0.0</td>\n",
       "      <td>0.0</td>\n",
       "    </tr>\n",
       "    <tr>\n",
       "      <td>824595</td>\n",
       "      <td>1036</td>\n",
       "      <td>6</td>\n",
       "      <td>2</td>\n",
       "      <td>6</td>\n",
       "      <td>1</td>\n",
       "      <td>0</td>\n",
       "      <td>0</td>\n",
       "      <td>0</td>\n",
       "      <td>3.0</td>\n",
       "      <td>2.0</td>\n",
       "      <td>9560.0</td>\n",
       "      <td>4.775296</td>\n",
       "      <td>6.331143</td>\n",
       "      <td>1.0</td>\n",
       "      <td>14.0</td>\n",
       "      <td>2.0</td>\n",
       "      <td>2.0</td>\n",
       "    </tr>\n",
       "    <tr>\n",
       "      <td>344800</td>\n",
       "      <td>382</td>\n",
       "      <td>2</td>\n",
       "      <td>1</td>\n",
       "      <td>9</td>\n",
       "      <td>1</td>\n",
       "      <td>1</td>\n",
       "      <td>0</td>\n",
       "      <td>1</td>\n",
       "      <td>2.0</td>\n",
       "      <td>2.0</td>\n",
       "      <td>26130.0</td>\n",
       "      <td>1.000000</td>\n",
       "      <td>13.000000</td>\n",
       "      <td>0.0</td>\n",
       "      <td>0.0</td>\n",
       "      <td>0.0</td>\n",
       "      <td>0.0</td>\n",
       "    </tr>\n",
       "    <tr>\n",
       "      <td>...</td>\n",
       "      <td>...</td>\n",
       "      <td>...</td>\n",
       "      <td>...</td>\n",
       "      <td>...</td>\n",
       "      <td>...</td>\n",
       "      <td>...</td>\n",
       "      <td>...</td>\n",
       "      <td>...</td>\n",
       "      <td>...</td>\n",
       "      <td>...</td>\n",
       "      <td>...</td>\n",
       "      <td>...</td>\n",
       "      <td>...</td>\n",
       "      <td>...</td>\n",
       "      <td>...</td>\n",
       "      <td>...</td>\n",
       "      <td>...</td>\n",
       "    </tr>\n",
       "    <tr>\n",
       "      <td>491263</td>\n",
       "      <td>1089</td>\n",
       "      <td>6</td>\n",
       "      <td>1</td>\n",
       "      <td>4</td>\n",
       "      <td>1</td>\n",
       "      <td>0</td>\n",
       "      <td>0</td>\n",
       "      <td>0</td>\n",
       "      <td>3.0</td>\n",
       "      <td>0.0</td>\n",
       "      <td>5220.0</td>\n",
       "      <td>7.000000</td>\n",
       "      <td>6.000000</td>\n",
       "      <td>0.0</td>\n",
       "      <td>0.0</td>\n",
       "      <td>0.0</td>\n",
       "      <td>0.0</td>\n",
       "    </tr>\n",
       "    <tr>\n",
       "      <td>791624</td>\n",
       "      <td>400</td>\n",
       "      <td>7</td>\n",
       "      <td>2</td>\n",
       "      <td>7</td>\n",
       "      <td>0</td>\n",
       "      <td>0</td>\n",
       "      <td>0</td>\n",
       "      <td>0</td>\n",
       "      <td>0.0</td>\n",
       "      <td>0.0</td>\n",
       "      <td>70.0</td>\n",
       "      <td>1.000000</td>\n",
       "      <td>11.000000</td>\n",
       "      <td>1.0</td>\n",
       "      <td>36.0</td>\n",
       "      <td>4.0</td>\n",
       "      <td>2.0</td>\n",
       "    </tr>\n",
       "    <tr>\n",
       "      <td>470924</td>\n",
       "      <td>820</td>\n",
       "      <td>5</td>\n",
       "      <td>1</td>\n",
       "      <td>5</td>\n",
       "      <td>1</td>\n",
       "      <td>1</td>\n",
       "      <td>0</td>\n",
       "      <td>0</td>\n",
       "      <td>0.0</td>\n",
       "      <td>2.0</td>\n",
       "      <td>1650.0</td>\n",
       "      <td>4.775296</td>\n",
       "      <td>6.331143</td>\n",
       "      <td>1.0</td>\n",
       "      <td>10.0</td>\n",
       "      <td>1.0</td>\n",
       "      <td>2.0</td>\n",
       "    </tr>\n",
       "    <tr>\n",
       "      <td>491755</td>\n",
       "      <td>466</td>\n",
       "      <td>5</td>\n",
       "      <td>1</td>\n",
       "      <td>4</td>\n",
       "      <td>1</td>\n",
       "      <td>0</td>\n",
       "      <td>0</td>\n",
       "      <td>0</td>\n",
       "      <td>0.0</td>\n",
       "      <td>2.0</td>\n",
       "      <td>3110.0</td>\n",
       "      <td>9.000000</td>\n",
       "      <td>12.000000</td>\n",
       "      <td>0.0</td>\n",
       "      <td>0.0</td>\n",
       "      <td>0.0</td>\n",
       "      <td>0.0</td>\n",
       "    </tr>\n",
       "    <tr>\n",
       "      <td>128037</td>\n",
       "      <td>928</td>\n",
       "      <td>3</td>\n",
       "      <td>0</td>\n",
       "      <td>4</td>\n",
       "      <td>1</td>\n",
       "      <td>0</td>\n",
       "      <td>0</td>\n",
       "      <td>1</td>\n",
       "      <td>3.0</td>\n",
       "      <td>2.0</td>\n",
       "      <td>1090.0</td>\n",
       "      <td>4.775296</td>\n",
       "      <td>6.331143</td>\n",
       "      <td>1.0</td>\n",
       "      <td>19.0</td>\n",
       "      <td>2.0</td>\n",
       "      <td>1.0</td>\n",
       "    </tr>\n",
       "  </tbody>\n",
       "</table>\n",
       "<p>704493 rows × 17 columns</p>\n",
       "</div>"
      ],
      "text/plain": [
       "        Store  DayOfWeek  Year  Month  Open  Promo  StateHoliday  \\\n",
       "465338    809          3     1      5     1      1             0   \n",
       "611276    682          1     2     12     1      0             0   \n",
       "116120    161          6     0      4     1      0             0   \n",
       "824595   1036          6     2      6     1      0             0   \n",
       "344800    382          2     1      9     1      1             0   \n",
       "...       ...        ...   ...    ...   ...    ...           ...   \n",
       "491263   1089          6     1      4     1      0             0   \n",
       "791624    400          7     2      7     0      0             0   \n",
       "470924    820          5     1      5     1      1             0   \n",
       "491755    466          5     1      4     1      0             0   \n",
       "128037    928          3     0      4     1      0             0   \n",
       "\n",
       "        SchoolHoliday  StoreType  Assortment  CompetitionDistance  \\\n",
       "465338              0        0.0         0.0              12770.0   \n",
       "611276              1        1.0         0.0                150.0   \n",
       "116120              0        0.0         2.0               2970.0   \n",
       "824595              0        3.0         2.0               9560.0   \n",
       "344800              1        2.0         2.0              26130.0   \n",
       "...               ...        ...         ...                  ...   \n",
       "491263              0        3.0         0.0               5220.0   \n",
       "791624              0        0.0         0.0                 70.0   \n",
       "470924              0        0.0         2.0               1650.0   \n",
       "491755              0        0.0         2.0               3110.0   \n",
       "128037              1        3.0         2.0               1090.0   \n",
       "\n",
       "        CompetitionOpenSinceMonth  CompetitionOpenSinceYear  Promo2  \\\n",
       "465338                   2.000000                 15.000000     0.0   \n",
       "611276                   3.000000                  9.000000     0.0   \n",
       "116120                   9.000000                 10.000000     0.0   \n",
       "824595                   4.775296                  6.331143     1.0   \n",
       "344800                   1.000000                 13.000000     0.0   \n",
       "...                           ...                       ...     ...   \n",
       "491263                   7.000000                  6.000000     0.0   \n",
       "791624                   1.000000                 11.000000     1.0   \n",
       "470924                   4.775296                  6.331143     1.0   \n",
       "491755                   9.000000                 12.000000     0.0   \n",
       "128037                   4.775296                  6.331143     1.0   \n",
       "\n",
       "        Promo2SinceWeek  Promo2SinceYear  PromoInterval  \n",
       "465338              0.0              0.0            0.0  \n",
       "611276              0.0              0.0            0.0  \n",
       "116120              0.0              0.0            0.0  \n",
       "824595             14.0              2.0            2.0  \n",
       "344800              0.0              0.0            0.0  \n",
       "...                 ...              ...            ...  \n",
       "491263              0.0              0.0            0.0  \n",
       "791624             36.0              4.0            2.0  \n",
       "470924             10.0              1.0            2.0  \n",
       "491755              0.0              0.0            0.0  \n",
       "128037             19.0              2.0            1.0  \n",
       "\n",
       "[704493 rows x 17 columns]"
      ]
     },
     "execution_count": 164,
     "metadata": {},
     "output_type": "execute_result"
    }
   ],
   "source": [
    "X_train "
   ]
  },
  {
   "cell_type": "code",
   "execution_count": 165,
   "metadata": {},
   "outputs": [
    {
     "data": {
      "text/html": [
       "<div>\n",
       "<style scoped>\n",
       "    .dataframe tbody tr th:only-of-type {\n",
       "        vertical-align: middle;\n",
       "    }\n",
       "\n",
       "    .dataframe tbody tr th {\n",
       "        vertical-align: top;\n",
       "    }\n",
       "\n",
       "    .dataframe thead th {\n",
       "        text-align: right;\n",
       "    }\n",
       "</style>\n",
       "<table border=\"1\" class=\"dataframe\">\n",
       "  <thead>\n",
       "    <tr style=\"text-align: right;\">\n",
       "      <th></th>\n",
       "      <th>Store</th>\n",
       "      <th>DayOfWeek</th>\n",
       "      <th>Year</th>\n",
       "      <th>Month</th>\n",
       "      <th>Open</th>\n",
       "      <th>Promo</th>\n",
       "      <th>StateHoliday</th>\n",
       "      <th>SchoolHoliday</th>\n",
       "      <th>StoreType</th>\n",
       "      <th>Assortment</th>\n",
       "      <th>CompetitionDistance</th>\n",
       "      <th>CompetitionOpenSinceMonth</th>\n",
       "      <th>CompetitionOpenSinceYear</th>\n",
       "      <th>Promo2</th>\n",
       "      <th>Promo2SinceWeek</th>\n",
       "      <th>Promo2SinceYear</th>\n",
       "      <th>PromoInterval</th>\n",
       "    </tr>\n",
       "  </thead>\n",
       "  <tbody>\n",
       "    <tr>\n",
       "      <td>229835</td>\n",
       "      <td>146</td>\n",
       "      <td>7</td>\n",
       "      <td>0</td>\n",
       "      <td>1</td>\n",
       "      <td>0</td>\n",
       "      <td>0</td>\n",
       "      <td>0</td>\n",
       "      <td>0</td>\n",
       "      <td>3.0</td>\n",
       "      <td>2.0</td>\n",
       "      <td>8050.0</td>\n",
       "      <td>2.000000</td>\n",
       "      <td>54.000000</td>\n",
       "      <td>1.0</td>\n",
       "      <td>2.0</td>\n",
       "      <td>3.0</td>\n",
       "      <td>2.0</td>\n",
       "    </tr>\n",
       "    <tr>\n",
       "      <td>294128</td>\n",
       "      <td>171</td>\n",
       "      <td>7</td>\n",
       "      <td>1</td>\n",
       "      <td>10</td>\n",
       "      <td>0</td>\n",
       "      <td>0</td>\n",
       "      <td>0</td>\n",
       "      <td>0</td>\n",
       "      <td>0.0</td>\n",
       "      <td>0.0</td>\n",
       "      <td>2640.0</td>\n",
       "      <td>4.775296</td>\n",
       "      <td>6.331143</td>\n",
       "      <td>0.0</td>\n",
       "      <td>0.0</td>\n",
       "      <td>0.0</td>\n",
       "      <td>0.0</td>\n",
       "    </tr>\n",
       "    <tr>\n",
       "      <td>609576</td>\n",
       "      <td>97</td>\n",
       "      <td>2</td>\n",
       "      <td>2</td>\n",
       "      <td>12</td>\n",
       "      <td>1</td>\n",
       "      <td>0</td>\n",
       "      <td>0</td>\n",
       "      <td>1</td>\n",
       "      <td>3.0</td>\n",
       "      <td>2.0</td>\n",
       "      <td>8980.0</td>\n",
       "      <td>4.775296</td>\n",
       "      <td>6.331143</td>\n",
       "      <td>0.0</td>\n",
       "      <td>0.0</td>\n",
       "      <td>0.0</td>\n",
       "      <td>0.0</td>\n",
       "    </tr>\n",
       "    <tr>\n",
       "      <td>100633</td>\n",
       "      <td>284</td>\n",
       "      <td>6</td>\n",
       "      <td>0</td>\n",
       "      <td>5</td>\n",
       "      <td>1</td>\n",
       "      <td>0</td>\n",
       "      <td>0</td>\n",
       "      <td>0</td>\n",
       "      <td>3.0</td>\n",
       "      <td>0.0</td>\n",
       "      <td>1290.0</td>\n",
       "      <td>4.775296</td>\n",
       "      <td>6.331143</td>\n",
       "      <td>1.0</td>\n",
       "      <td>10.0</td>\n",
       "      <td>1.0</td>\n",
       "      <td>2.0</td>\n",
       "    </tr>\n",
       "    <tr>\n",
       "      <td>715245</td>\n",
       "      <td>956</td>\n",
       "      <td>6</td>\n",
       "      <td>2</td>\n",
       "      <td>9</td>\n",
       "      <td>1</td>\n",
       "      <td>0</td>\n",
       "      <td>0</td>\n",
       "      <td>0</td>\n",
       "      <td>0.0</td>\n",
       "      <td>0.0</td>\n",
       "      <td>2330.0</td>\n",
       "      <td>2.000000</td>\n",
       "      <td>1.000000</td>\n",
       "      <td>1.0</td>\n",
       "      <td>32.0</td>\n",
       "      <td>4.0</td>\n",
       "      <td>1.0</td>\n",
       "    </tr>\n",
       "    <tr>\n",
       "      <td>...</td>\n",
       "      <td>...</td>\n",
       "      <td>...</td>\n",
       "      <td>...</td>\n",
       "      <td>...</td>\n",
       "      <td>...</td>\n",
       "      <td>...</td>\n",
       "      <td>...</td>\n",
       "      <td>...</td>\n",
       "      <td>...</td>\n",
       "      <td>...</td>\n",
       "      <td>...</td>\n",
       "      <td>...</td>\n",
       "      <td>...</td>\n",
       "      <td>...</td>\n",
       "      <td>...</td>\n",
       "      <td>...</td>\n",
       "      <td>...</td>\n",
       "    </tr>\n",
       "    <tr>\n",
       "      <td>781375</td>\n",
       "      <td>186</td>\n",
       "      <td>2</td>\n",
       "      <td>2</td>\n",
       "      <td>7</td>\n",
       "      <td>1</td>\n",
       "      <td>0</td>\n",
       "      <td>0</td>\n",
       "      <td>0</td>\n",
       "      <td>0.0</td>\n",
       "      <td>0.0</td>\n",
       "      <td>290.0</td>\n",
       "      <td>2.000000</td>\n",
       "      <td>4.000000</td>\n",
       "      <td>1.0</td>\n",
       "      <td>10.0</td>\n",
       "      <td>1.0</td>\n",
       "      <td>2.0</td>\n",
       "    </tr>\n",
       "    <tr>\n",
       "      <td>234317</td>\n",
       "      <td>209</td>\n",
       "      <td>3</td>\n",
       "      <td>1</td>\n",
       "      <td>12</td>\n",
       "      <td>1</td>\n",
       "      <td>0</td>\n",
       "      <td>0</td>\n",
       "      <td>1</td>\n",
       "      <td>0.0</td>\n",
       "      <td>2.0</td>\n",
       "      <td>11680.0</td>\n",
       "      <td>3.000000</td>\n",
       "      <td>4.000000</td>\n",
       "      <td>1.0</td>\n",
       "      <td>19.0</td>\n",
       "      <td>2.0</td>\n",
       "      <td>2.0</td>\n",
       "    </tr>\n",
       "    <tr>\n",
       "      <td>404583</td>\n",
       "      <td>264</td>\n",
       "      <td>1</td>\n",
       "      <td>1</td>\n",
       "      <td>6</td>\n",
       "      <td>1</td>\n",
       "      <td>1</td>\n",
       "      <td>0</td>\n",
       "      <td>0</td>\n",
       "      <td>0.0</td>\n",
       "      <td>0.0</td>\n",
       "      <td>180.0</td>\n",
       "      <td>9.000000</td>\n",
       "      <td>1.000000</td>\n",
       "      <td>0.0</td>\n",
       "      <td>0.0</td>\n",
       "      <td>0.0</td>\n",
       "      <td>0.0</td>\n",
       "    </tr>\n",
       "    <tr>\n",
       "      <td>621060</td>\n",
       "      <td>431</td>\n",
       "      <td>6</td>\n",
       "      <td>2</td>\n",
       "      <td>12</td>\n",
       "      <td>1</td>\n",
       "      <td>0</td>\n",
       "      <td>0</td>\n",
       "      <td>0</td>\n",
       "      <td>3.0</td>\n",
       "      <td>2.0</td>\n",
       "      <td>4520.0</td>\n",
       "      <td>4.775296</td>\n",
       "      <td>6.331143</td>\n",
       "      <td>0.0</td>\n",
       "      <td>0.0</td>\n",
       "      <td>0.0</td>\n",
       "      <td>0.0</td>\n",
       "    </tr>\n",
       "    <tr>\n",
       "      <td>200651</td>\n",
       "      <td>1067</td>\n",
       "      <td>6</td>\n",
       "      <td>0</td>\n",
       "      <td>1</td>\n",
       "      <td>1</td>\n",
       "      <td>0</td>\n",
       "      <td>0</td>\n",
       "      <td>0</td>\n",
       "      <td>3.0</td>\n",
       "      <td>2.0</td>\n",
       "      <td>12020.0</td>\n",
       "      <td>5.000000</td>\n",
       "      <td>6.000000</td>\n",
       "      <td>0.0</td>\n",
       "      <td>0.0</td>\n",
       "      <td>0.0</td>\n",
       "      <td>0.0</td>\n",
       "    </tr>\n",
       "  </tbody>\n",
       "</table>\n",
       "<p>301926 rows × 17 columns</p>\n",
       "</div>"
      ],
      "text/plain": [
       "        Store  DayOfWeek  Year  Month  Open  Promo  StateHoliday  \\\n",
       "229835    146          7     0      1     0      0             0   \n",
       "294128    171          7     1     10     0      0             0   \n",
       "609576     97          2     2     12     1      0             0   \n",
       "100633    284          6     0      5     1      0             0   \n",
       "715245    956          6     2      9     1      0             0   \n",
       "...       ...        ...   ...    ...   ...    ...           ...   \n",
       "781375    186          2     2      7     1      0             0   \n",
       "234317    209          3     1     12     1      0             0   \n",
       "404583    264          1     1      6     1      1             0   \n",
       "621060    431          6     2     12     1      0             0   \n",
       "200651   1067          6     0      1     1      0             0   \n",
       "\n",
       "        SchoolHoliday  StoreType  Assortment  CompetitionDistance  \\\n",
       "229835              0        3.0         2.0               8050.0   \n",
       "294128              0        0.0         0.0               2640.0   \n",
       "609576              1        3.0         2.0               8980.0   \n",
       "100633              0        3.0         0.0               1290.0   \n",
       "715245              0        0.0         0.0               2330.0   \n",
       "...               ...        ...         ...                  ...   \n",
       "781375              0        0.0         0.0                290.0   \n",
       "234317              1        0.0         2.0              11680.0   \n",
       "404583              0        0.0         0.0                180.0   \n",
       "621060              0        3.0         2.0               4520.0   \n",
       "200651              0        3.0         2.0              12020.0   \n",
       "\n",
       "        CompetitionOpenSinceMonth  CompetitionOpenSinceYear  Promo2  \\\n",
       "229835                   2.000000                 54.000000     1.0   \n",
       "294128                   4.775296                  6.331143     0.0   \n",
       "609576                   4.775296                  6.331143     0.0   \n",
       "100633                   4.775296                  6.331143     1.0   \n",
       "715245                   2.000000                  1.000000     1.0   \n",
       "...                           ...                       ...     ...   \n",
       "781375                   2.000000                  4.000000     1.0   \n",
       "234317                   3.000000                  4.000000     1.0   \n",
       "404583                   9.000000                  1.000000     0.0   \n",
       "621060                   4.775296                  6.331143     0.0   \n",
       "200651                   5.000000                  6.000000     0.0   \n",
       "\n",
       "        Promo2SinceWeek  Promo2SinceYear  PromoInterval  \n",
       "229835              2.0              3.0            2.0  \n",
       "294128              0.0              0.0            0.0  \n",
       "609576              0.0              0.0            0.0  \n",
       "100633             10.0              1.0            2.0  \n",
       "715245             32.0              4.0            1.0  \n",
       "...                 ...              ...            ...  \n",
       "781375             10.0              1.0            2.0  \n",
       "234317             19.0              2.0            2.0  \n",
       "404583              0.0              0.0            0.0  \n",
       "621060              0.0              0.0            0.0  \n",
       "200651              0.0              0.0            0.0  \n",
       "\n",
       "[301926 rows x 17 columns]"
      ]
     },
     "execution_count": 165,
     "metadata": {},
     "output_type": "execute_result"
    }
   ],
   "source": [
    "X_test "
   ]
  },
  {
   "cell_type": "code",
   "execution_count": 166,
   "metadata": {},
   "outputs": [
    {
     "data": {
      "text/plain": [
       "465338    12152\n",
       "611276    14305\n",
       "116120     7054\n",
       "824595     4889\n",
       "344800     9368\n",
       "          ...  \n",
       "491263    10803\n",
       "791624        0\n",
       "470924    18092\n",
       "491755     7310\n",
       "128037     5961\n",
       "Name: Sales, Length: 704493, dtype: int64"
      ]
     },
     "execution_count": 166,
     "metadata": {},
     "output_type": "execute_result"
    }
   ],
   "source": [
    "y_train "
   ]
  },
  {
   "cell_type": "code",
   "execution_count": 167,
   "metadata": {},
   "outputs": [
    {
     "data": {
      "text/plain": [
       "229835        0\n",
       "294128        0\n",
       "609576     3978\n",
       "100633     6277\n",
       "715245     3762\n",
       "          ...  \n",
       "781375     2756\n",
       "234317     4281\n",
       "404583    17730\n",
       "621060     9843\n",
       "200651     6101\n",
       "Name: Sales, Length: 301926, dtype: int64"
      ]
     },
     "execution_count": 167,
     "metadata": {},
     "output_type": "execute_result"
    }
   ],
   "source": [
    "y_test"
   ]
  },
  {
   "cell_type": "code",
   "execution_count": 168,
   "metadata": {},
   "outputs": [
    {
     "data": {
      "text/plain": [
       "(301926,)"
      ]
     },
     "execution_count": 168,
     "metadata": {},
     "output_type": "execute_result"
    }
   ],
   "source": [
    "y_test.shape"
   ]
  },
  {
   "cell_type": "code",
   "execution_count": 169,
   "metadata": {},
   "outputs": [],
   "source": [
    "from sklearn.preprocessing import StandardScaler\n",
    "scaler = StandardScaler()\n",
    "scaler.fit(X_train)\n",
    "X_train_scaled = pd.DataFrame(scaler.transform(X_train),columns=X.columns.values)\n",
    "X_test_scaled = pd.DataFrame(scaler.transform(X_test),columns=X.columns.values)"
   ]
  },
  {
   "cell_type": "code",
   "execution_count": 170,
   "metadata": {},
   "outputs": [],
   "source": [
    "test_model_open_scaled = pd.DataFrame(scaler.transform(test_model_open),columns=test_model_open.columns.values)"
   ]
  },
  {
   "cell_type": "markdown",
   "metadata": {},
   "source": [
    "# Random forest regressor"
   ]
  },
  {
   "cell_type": "code",
   "execution_count": 171,
   "metadata": {},
   "outputs": [
    {
     "name": "stderr",
     "output_type": "stream",
     "text": [
      "C:\\Users\\ashok\\Anaconda3\\lib\\site-packages\\sklearn\\ensemble\\forest.py:245: FutureWarning: The default value of n_estimators will change from 10 in version 0.20 to 100 in 0.22.\n",
      "  \"10 in version 0.20 to 100 in 0.22.\", FutureWarning)\n"
     ]
    },
    {
     "data": {
      "text/plain": [
       "RandomForestRegressor(bootstrap=True, criterion='mse', max_depth=None,\n",
       "                      max_features='auto', max_leaf_nodes=None,\n",
       "                      min_impurity_decrease=0.0, min_impurity_split=None,\n",
       "                      min_samples_leaf=1, min_samples_split=2,\n",
       "                      min_weight_fraction_leaf=0.0, n_estimators=10, n_jobs=-1,\n",
       "                      oob_score=False, random_state=42, verbose=0,\n",
       "                      warm_start=False)"
      ]
     },
     "execution_count": 171,
     "metadata": {},
     "output_type": "execute_result"
    }
   ],
   "source": [
    "from sklearn.ensemble import RandomForestRegressor\n",
    "rf = RandomForestRegressor(n_jobs=-1, random_state=42)\n",
    "rf.fit(X_train, y_train)"
   ]
  },
  {
   "cell_type": "code",
   "execution_count": 172,
   "metadata": {},
   "outputs": [
    {
     "data": {
      "text/plain": [
       "0.9277967931144518"
      ]
     },
     "execution_count": 172,
     "metadata": {},
     "output_type": "execute_result"
    }
   ],
   "source": [
    "# Train Accuracy\n",
    "rf.score(X_test, y_test)"
   ]
  },
  {
   "cell_type": "code",
   "execution_count": 173,
   "metadata": {},
   "outputs": [],
   "source": [
    "test_model['Predict'] = rf.predict(test_model)"
   ]
  },
  {
   "cell_type": "code",
   "execution_count": 174,
   "metadata": {},
   "outputs": [
    {
     "name": "stdout",
     "output_type": "stream",
     "text": [
      "       Store  DayOfWeek  Year  Month  Open  Promo  StateHoliday  \\\n",
      "Id                                                                \n",
      "1          1          4     0      9   1.0      1             0   \n",
      "2          3          4     0      9   1.0      1             0   \n",
      "3          7          4     0      9   1.0      1             0   \n",
      "4          8          4     0      9   1.0      1             0   \n",
      "5          9          4     0      9   1.0      1             0   \n",
      "...      ...        ...   ...    ...   ...    ...           ...   \n",
      "41084   1111          6     0      8   1.0      0             0   \n",
      "41085   1112          6     0      8   1.0      0             0   \n",
      "41086   1113          6     0      8   1.0      0             0   \n",
      "41087   1114          6     0      8   1.0      0             0   \n",
      "41088   1115          6     0      8   1.0      0             0   \n",
      "\n",
      "       SchoolHoliday  StoreType  Assortment  CompetitionDistance  \\\n",
      "Id                                                                 \n",
      "1                  0        2.0         0.0               1270.0   \n",
      "2                  0        0.0         0.0              14130.0   \n",
      "3                  0        0.0         2.0              24000.0   \n",
      "4                  0        0.0         0.0               7520.0   \n",
      "5                  0        0.0         2.0               2030.0   \n",
      "...              ...        ...         ...                  ...   \n",
      "41084              0        0.0         0.0               1900.0   \n",
      "41085              0        2.0         2.0               1880.0   \n",
      "41086              0        0.0         2.0               9260.0   \n",
      "41087              0        0.0         2.0                870.0   \n",
      "41088              1        3.0         2.0               5350.0   \n",
      "\n",
      "       CompetitionOpenSinceMonth  CompetitionOpenSinceYear  Promo2  \\\n",
      "Id                                                                   \n",
      "1                       3.000000                  7.000000     0.0   \n",
      "2                       0.000000                  9.000000     1.0   \n",
      "3                       8.000000                  2.000000     0.0   \n",
      "4                       2.000000                  1.000000     0.0   \n",
      "5                       4.000000                 15.000000     0.0   \n",
      "...                          ...                       ...     ...   \n",
      "41084                   6.000000                  1.000000     1.0   \n",
      "41085                   8.000000                  9.000000     0.0   \n",
      "41086                   4.775296                  6.331143     0.0   \n",
      "41087                   4.775296                  6.331143     0.0   \n",
      "41088                   4.775296                  6.331143     1.0   \n",
      "\n",
      "       Promo2SinceWeek  Promo2SinceYear  PromoInterval  Predict  \n",
      "Id                                                               \n",
      "1                  0.0              0.0            0.0     4854  \n",
      "2                 36.0              4.0            2.0     7665  \n",
      "3                  0.0              0.0            0.0     9578  \n",
      "4                  0.0              0.0            0.0     8469  \n",
      "5                  0.0              0.0            0.0     7480  \n",
      "...                ...              ...            ...      ...  \n",
      "41084             19.0              2.0            2.0     2632  \n",
      "41085              0.0              0.0            0.0     6968  \n",
      "41086              0.0              0.0            0.0     5153  \n",
      "41087              0.0              0.0            0.0    22216  \n",
      "41088             28.0              3.0            3.0     8417  \n",
      "\n",
      "[41088 rows x 18 columns]\n"
     ]
    }
   ],
   "source": [
    "test_model['Predict'] = test_model['Predict'].astype(int)\n",
    "print(test_model)"
   ]
  },
  {
   "cell_type": "code",
   "execution_count": 175,
   "metadata": {},
   "outputs": [],
   "source": [
    "predt = test_model['Predict']"
   ]
  },
  {
   "cell_type": "code",
   "execution_count": 176,
   "metadata": {},
   "outputs": [
    {
     "data": {
      "text/plain": [
       "(41088,)"
      ]
     },
     "execution_count": 176,
     "metadata": {},
     "output_type": "execute_result"
    }
   ],
   "source": [
    "predt.shape"
   ]
  },
  {
   "cell_type": "code",
   "execution_count": 177,
   "metadata": {},
   "outputs": [],
   "source": [
    "predt = np.exp(predt)-1\n",
    "y_test = np.exp(y_test)-1"
   ]
  },
  {
   "cell_type": "code",
   "execution_count": null,
   "metadata": {},
   "outputs": [],
   "source": []
  },
  {
   "cell_type": "code",
   "execution_count": 178,
   "metadata": {},
   "outputs": [],
   "source": [
    "#def ToWeight(y):\n",
    "   # w = np.zeros(y.shape, dtype=float)\n",
    "   # ind = y != 0\n",
    "   # w[ind] = 1./(y[ind]**2)\n",
    "    #return w\n",
    "\n",
    "#def rmspe(y, yhat):\n",
    "   # w = ToWeight(y)\n",
    "   # rmspe = np.sqrt(np.mean( w * (y - yhat)**2 ))\n",
    "   # return rmspe"
   ]
  },
  {
   "cell_type": "code",
   "execution_count": 179,
   "metadata": {},
   "outputs": [],
   "source": [
    "#rmspe(y_test,predt)"
   ]
  },
  {
   "cell_type": "code",
   "execution_count": 180,
   "metadata": {},
   "outputs": [
    {
     "data": {
      "text/html": [
       "<div>\n",
       "<style scoped>\n",
       "    .dataframe tbody tr th:only-of-type {\n",
       "        vertical-align: middle;\n",
       "    }\n",
       "\n",
       "    .dataframe tbody tr th {\n",
       "        vertical-align: top;\n",
       "    }\n",
       "\n",
       "    .dataframe thead th {\n",
       "        text-align: right;\n",
       "    }\n",
       "</style>\n",
       "<table border=\"1\" class=\"dataframe\">\n",
       "  <thead>\n",
       "    <tr style=\"text-align: right;\">\n",
       "      <th></th>\n",
       "      <th>Id</th>\n",
       "      <th>Predict</th>\n",
       "    </tr>\n",
       "  </thead>\n",
       "  <tbody>\n",
       "    <tr>\n",
       "      <td>0</td>\n",
       "      <td>1</td>\n",
       "      <td>4854</td>\n",
       "    </tr>\n",
       "    <tr>\n",
       "      <td>1</td>\n",
       "      <td>2</td>\n",
       "      <td>7665</td>\n",
       "    </tr>\n",
       "    <tr>\n",
       "      <td>2</td>\n",
       "      <td>3</td>\n",
       "      <td>9578</td>\n",
       "    </tr>\n",
       "    <tr>\n",
       "      <td>3</td>\n",
       "      <td>4</td>\n",
       "      <td>8469</td>\n",
       "    </tr>\n",
       "    <tr>\n",
       "      <td>4</td>\n",
       "      <td>5</td>\n",
       "      <td>7480</td>\n",
       "    </tr>\n",
       "  </tbody>\n",
       "</table>\n",
       "</div>"
      ],
      "text/plain": [
       "   Id  Predict\n",
       "0   1     4854\n",
       "1   2     7665\n",
       "2   3     9578\n",
       "3   4     8469\n",
       "4   5     7480"
      ]
     },
     "execution_count": 180,
     "metadata": {},
     "output_type": "execute_result"
    }
   ],
   "source": [
    "submission = test_model['Predict']\n",
    "submission = submission.reset_index()\n",
    "submission.head()"
   ]
  },
  {
   "cell_type": "code",
   "execution_count": 181,
   "metadata": {},
   "outputs": [
    {
     "data": {
      "text/html": [
       "<div>\n",
       "<style scoped>\n",
       "    .dataframe tbody tr th:only-of-type {\n",
       "        vertical-align: middle;\n",
       "    }\n",
       "\n",
       "    .dataframe tbody tr th {\n",
       "        vertical-align: top;\n",
       "    }\n",
       "\n",
       "    .dataframe thead th {\n",
       "        text-align: right;\n",
       "    }\n",
       "</style>\n",
       "<table border=\"1\" class=\"dataframe\">\n",
       "  <thead>\n",
       "    <tr style=\"text-align: right;\">\n",
       "      <th></th>\n",
       "      <th>Id</th>\n",
       "      <th>Predict</th>\n",
       "    </tr>\n",
       "  </thead>\n",
       "  <tbody>\n",
       "    <tr>\n",
       "      <td>41083</td>\n",
       "      <td>41084</td>\n",
       "      <td>2632</td>\n",
       "    </tr>\n",
       "    <tr>\n",
       "      <td>41084</td>\n",
       "      <td>41085</td>\n",
       "      <td>6968</td>\n",
       "    </tr>\n",
       "    <tr>\n",
       "      <td>41085</td>\n",
       "      <td>41086</td>\n",
       "      <td>5153</td>\n",
       "    </tr>\n",
       "    <tr>\n",
       "      <td>41086</td>\n",
       "      <td>41087</td>\n",
       "      <td>22216</td>\n",
       "    </tr>\n",
       "    <tr>\n",
       "      <td>41087</td>\n",
       "      <td>41088</td>\n",
       "      <td>8417</td>\n",
       "    </tr>\n",
       "  </tbody>\n",
       "</table>\n",
       "</div>"
      ],
      "text/plain": [
       "          Id  Predict\n",
       "41083  41084     2632\n",
       "41084  41085     6968\n",
       "41085  41086     5153\n",
       "41086  41087    22216\n",
       "41087  41088     8417"
      ]
     },
     "execution_count": 181,
     "metadata": {},
     "output_type": "execute_result"
    }
   ],
   "source": [
    "submission.tail()"
   ]
  },
  {
   "cell_type": "code",
   "execution_count": 182,
   "metadata": {},
   "outputs": [],
   "source": [
    "submission.to_csv(\"C://Users//ashok//Documents//Placement Hackathon//Rossman///submission_open.csv\", sep=',', index=False)"
   ]
  },
  {
   "cell_type": "markdown",
   "metadata": {},
   "source": [
    "# Model 2 \n",
    "# Decesion Tree Regressor "
   ]
  },
  {
   "cell_type": "code",
   "execution_count": 183,
   "metadata": {},
   "outputs": [],
   "source": [
    "X = train_store.drop(['Sales','Date','Customers'],1)\n",
    "#Transform Target Variable\n",
    "y = np.log(train_store['Sales']+1)\n",
    "\n",
    "from sklearn.model_selection import train_test_split\n",
    "X_train , X_val , y_train , y_val = train_test_split(X , y , test_size=0.30 , random_state = 1 )"
   ]
  },
  {
   "cell_type": "code",
   "execution_count": 184,
   "metadata": {},
   "outputs": [
    {
     "data": {
      "text/plain": [
       "(704493, 17)"
      ]
     },
     "execution_count": 184,
     "metadata": {},
     "output_type": "execute_result"
    }
   ],
   "source": [
    "X_train.shape"
   ]
  },
  {
   "cell_type": "code",
   "execution_count": 185,
   "metadata": {},
   "outputs": [
    {
     "data": {
      "text/plain": [
       "(301926, 17)"
      ]
     },
     "execution_count": 185,
     "metadata": {},
     "output_type": "execute_result"
    }
   ],
   "source": [
    "X_val.shape"
   ]
  },
  {
   "cell_type": "code",
   "execution_count": 186,
   "metadata": {},
   "outputs": [
    {
     "data": {
      "text/plain": [
       "(704493,)"
      ]
     },
     "execution_count": 186,
     "metadata": {},
     "output_type": "execute_result"
    }
   ],
   "source": [
    "y_train.shape"
   ]
  },
  {
   "cell_type": "code",
   "execution_count": 187,
   "metadata": {},
   "outputs": [
    {
     "data": {
      "text/plain": [
       "(301926,)"
      ]
     },
     "execution_count": 187,
     "metadata": {},
     "output_type": "execute_result"
    }
   ],
   "source": [
    "y_val.shape"
   ]
  },
  {
   "cell_type": "code",
   "execution_count": 188,
   "metadata": {},
   "outputs": [],
   "source": [
    "from sklearn.tree import DecisionTreeRegressor\n",
    "dt = DecisionTreeRegressor(max_depth=11)\n",
    "dt.fit(X_train , y_train)\n",
    "y_pred_dt = dt.predict(X_val)"
   ]
  },
  {
   "cell_type": "code",
   "execution_count": 189,
   "metadata": {},
   "outputs": [
    {
     "data": {
      "text/plain": [
       "array([0.        , 0.        , 8.43732928, ..., 9.26838946, 8.95637929,\n",
       "       8.66422307])"
      ]
     },
     "execution_count": 189,
     "metadata": {},
     "output_type": "execute_result"
    }
   ],
   "source": [
    "y_pred_dt"
   ]
  },
  {
   "cell_type": "code",
   "execution_count": 190,
   "metadata": {},
   "outputs": [],
   "source": [
    "y_pred_dt = np.exp(y_pred_dt)-1\n",
    "y_val = np.exp(y_val)-1"
   ]
  },
  {
   "cell_type": "code",
   "execution_count": 191,
   "metadata": {},
   "outputs": [
    {
     "name": "stdout",
     "output_type": "stream",
     "text": [
      "0.7119141432948801\n",
      "2052.233605033676\n"
     ]
    }
   ],
   "source": [
    "from sklearn.metrics import r2_score , mean_squared_error\n",
    "\n",
    "print(r2_score(y_val , y_pred_dt))\n",
    "print(np.sqrt(mean_squared_error(y_val , y_pred_dt)))"
   ]
  },
  {
   "cell_type": "code",
   "execution_count": 192,
   "metadata": {},
   "outputs": [],
   "source": [
    "def ToWeight(y):\n",
    "    w = np.zeros(y.shape, dtype=float)\n",
    "    ind = y != 0\n",
    "    w[ind] = 1./(y[ind]**2)\n",
    "    return w\n",
    "\n",
    "def rmspe(y, yhat):\n",
    "    w = ToWeight(y)\n",
    "    rmspe = np.sqrt(np.mean( w * (y - yhat)**2 ))\n",
    "    return rmspe"
   ]
  },
  {
   "cell_type": "code",
   "execution_count": 193,
   "metadata": {},
   "outputs": [],
   "source": [
    "rmspe = rmspe(y_val,y_pred_dt)"
   ]
  },
  {
   "cell_type": "markdown",
   "metadata": {},
   "source": [
    "# RMSPE"
   ]
  },
  {
   "cell_type": "code",
   "execution_count": 194,
   "metadata": {},
   "outputs": [
    {
     "data": {
      "text/plain": [
       "0.3148483780099938"
      ]
     },
     "execution_count": 194,
     "metadata": {},
     "output_type": "execute_result"
    }
   ],
   "source": [
    "rmspe"
   ]
  },
  {
   "cell_type": "markdown",
   "metadata": {},
   "source": [
    "# Hyperparameter Tuning"
   ]
  },
  {
   "cell_type": "code",
   "execution_count": 195,
   "metadata": {},
   "outputs": [],
   "source": [
    "def get_rmspe_score(model, input_values, y_actual):\n",
    "    y_predicted=model.predict(input_values)\n",
    "    y_actual=np.exp(y_actual)-1\n",
    "    y_predicted=np.exp(y_predicted)-1\n",
    "    score=rmspe(y_actual, y_predicted)\n",
    "    return score"
   ]
  },
  {
   "cell_type": "code",
   "execution_count": 196,
   "metadata": {},
   "outputs": [
    {
     "name": "stderr",
     "output_type": "stream",
     "text": [
      "C:\\Users\\ashok\\Anaconda3\\lib\\site-packages\\sklearn\\model_selection\\_split.py:1978: FutureWarning: The default value of cv will change from 3 to 5 in version 0.22. Specify it explicitly to silence this warning.\n",
      "  warnings.warn(CV_WARNING, FutureWarning)\n"
     ]
    }
   ],
   "source": [
    "from sklearn.model_selection import RandomizedSearchCV\n",
    "\n",
    "params = {'max_depth' : list(range(5,25))}\n",
    "\n",
    "base  = DecisionTreeRegressor()\n",
    "\n",
    "model_tuned = RandomizedSearchCV(base , params , return_train_score=True).fit(X_train , y_train)"
   ]
  },
  {
   "cell_type": "code",
   "execution_count": 197,
   "metadata": {},
   "outputs": [
    {
     "data": {
      "text/html": [
       "<div>\n",
       "<style scoped>\n",
       "    .dataframe tbody tr th:only-of-type {\n",
       "        vertical-align: middle;\n",
       "    }\n",
       "\n",
       "    .dataframe tbody tr th {\n",
       "        vertical-align: top;\n",
       "    }\n",
       "\n",
       "    .dataframe thead th {\n",
       "        text-align: right;\n",
       "    }\n",
       "</style>\n",
       "<table border=\"1\" class=\"dataframe\">\n",
       "  <thead>\n",
       "    <tr style=\"text-align: right;\">\n",
       "      <th></th>\n",
       "      <th>mean_fit_time</th>\n",
       "      <th>std_fit_time</th>\n",
       "      <th>mean_score_time</th>\n",
       "      <th>std_score_time</th>\n",
       "      <th>param_max_depth</th>\n",
       "      <th>params</th>\n",
       "      <th>split0_test_score</th>\n",
       "      <th>split1_test_score</th>\n",
       "      <th>split2_test_score</th>\n",
       "      <th>mean_test_score</th>\n",
       "      <th>std_test_score</th>\n",
       "      <th>rank_test_score</th>\n",
       "      <th>split0_train_score</th>\n",
       "      <th>split1_train_score</th>\n",
       "      <th>split2_train_score</th>\n",
       "      <th>mean_train_score</th>\n",
       "      <th>std_train_score</th>\n",
       "    </tr>\n",
       "  </thead>\n",
       "  <tbody>\n",
       "    <tr>\n",
       "      <td>2</td>\n",
       "      <td>6.692538</td>\n",
       "      <td>0.058126</td>\n",
       "      <td>0.287932</td>\n",
       "      <td>0.005853</td>\n",
       "      <td>24</td>\n",
       "      <td>{'max_depth': 24}</td>\n",
       "      <td>0.996674</td>\n",
       "      <td>0.996821</td>\n",
       "      <td>0.996665</td>\n",
       "      <td>0.996720</td>\n",
       "      <td>0.000072</td>\n",
       "      <td>1</td>\n",
       "      <td>0.998797</td>\n",
       "      <td>0.998895</td>\n",
       "      <td>0.998683</td>\n",
       "      <td>0.998791</td>\n",
       "      <td>0.000087</td>\n",
       "    </tr>\n",
       "    <tr>\n",
       "      <td>4</td>\n",
       "      <td>6.429241</td>\n",
       "      <td>0.050514</td>\n",
       "      <td>0.278755</td>\n",
       "      <td>0.018110</td>\n",
       "      <td>22</td>\n",
       "      <td>{'max_depth': 22}</td>\n",
       "      <td>0.996565</td>\n",
       "      <td>0.996728</td>\n",
       "      <td>0.996589</td>\n",
       "      <td>0.996628</td>\n",
       "      <td>0.000072</td>\n",
       "      <td>2</td>\n",
       "      <td>0.998298</td>\n",
       "      <td>0.998460</td>\n",
       "      <td>0.998267</td>\n",
       "      <td>0.998341</td>\n",
       "      <td>0.000085</td>\n",
       "    </tr>\n",
       "    <tr>\n",
       "      <td>9</td>\n",
       "      <td>6.195675</td>\n",
       "      <td>0.097118</td>\n",
       "      <td>0.242651</td>\n",
       "      <td>0.004057</td>\n",
       "      <td>20</td>\n",
       "      <td>{'max_depth': 20}</td>\n",
       "      <td>0.996422</td>\n",
       "      <td>0.996471</td>\n",
       "      <td>0.996305</td>\n",
       "      <td>0.996399</td>\n",
       "      <td>0.000070</td>\n",
       "      <td>3</td>\n",
       "      <td>0.997621</td>\n",
       "      <td>0.997871</td>\n",
       "      <td>0.997655</td>\n",
       "      <td>0.997716</td>\n",
       "      <td>0.000110</td>\n",
       "    </tr>\n",
       "    <tr>\n",
       "      <td>7</td>\n",
       "      <td>5.954483</td>\n",
       "      <td>0.063399</td>\n",
       "      <td>0.232235</td>\n",
       "      <td>0.010704</td>\n",
       "      <td>19</td>\n",
       "      <td>{'max_depth': 19}</td>\n",
       "      <td>0.996243</td>\n",
       "      <td>0.996266</td>\n",
       "      <td>0.996136</td>\n",
       "      <td>0.996215</td>\n",
       "      <td>0.000057</td>\n",
       "      <td>4</td>\n",
       "      <td>0.997220</td>\n",
       "      <td>0.997486</td>\n",
       "      <td>0.997262</td>\n",
       "      <td>0.997322</td>\n",
       "      <td>0.000117</td>\n",
       "    </tr>\n",
       "    <tr>\n",
       "      <td>3</td>\n",
       "      <td>5.288377</td>\n",
       "      <td>0.020383</td>\n",
       "      <td>0.185214</td>\n",
       "      <td>0.001976</td>\n",
       "      <td>16</td>\n",
       "      <td>{'max_depth': 16}</td>\n",
       "      <td>0.995260</td>\n",
       "      <td>0.995335</td>\n",
       "      <td>0.995084</td>\n",
       "      <td>0.995226</td>\n",
       "      <td>0.000105</td>\n",
       "      <td>5</td>\n",
       "      <td>0.995801</td>\n",
       "      <td>0.996011</td>\n",
       "      <td>0.995727</td>\n",
       "      <td>0.995846</td>\n",
       "      <td>0.000120</td>\n",
       "    </tr>\n",
       "    <tr>\n",
       "      <td>1</td>\n",
       "      <td>4.622681</td>\n",
       "      <td>0.063880</td>\n",
       "      <td>0.161718</td>\n",
       "      <td>0.001684</td>\n",
       "      <td>13</td>\n",
       "      <td>{'max_depth': 13}</td>\n",
       "      <td>0.993740</td>\n",
       "      <td>0.993757</td>\n",
       "      <td>0.993625</td>\n",
       "      <td>0.993707</td>\n",
       "      <td>0.000059</td>\n",
       "      <td>6</td>\n",
       "      <td>0.993900</td>\n",
       "      <td>0.994017</td>\n",
       "      <td>0.993782</td>\n",
       "      <td>0.993900</td>\n",
       "      <td>0.000096</td>\n",
       "    </tr>\n",
       "    <tr>\n",
       "      <td>0</td>\n",
       "      <td>4.221127</td>\n",
       "      <td>0.150227</td>\n",
       "      <td>0.138986</td>\n",
       "      <td>0.005553</td>\n",
       "      <td>11</td>\n",
       "      <td>{'max_depth': 11}</td>\n",
       "      <td>0.992360</td>\n",
       "      <td>0.992327</td>\n",
       "      <td>0.992275</td>\n",
       "      <td>0.992321</td>\n",
       "      <td>0.000035</td>\n",
       "      <td>7</td>\n",
       "      <td>0.992431</td>\n",
       "      <td>0.992456</td>\n",
       "      <td>0.992351</td>\n",
       "      <td>0.992413</td>\n",
       "      <td>0.000045</td>\n",
       "    </tr>\n",
       "    <tr>\n",
       "      <td>6</td>\n",
       "      <td>3.540153</td>\n",
       "      <td>0.070055</td>\n",
       "      <td>0.128617</td>\n",
       "      <td>0.014162</td>\n",
       "      <td>9</td>\n",
       "      <td>{'max_depth': 9}</td>\n",
       "      <td>0.990887</td>\n",
       "      <td>0.990899</td>\n",
       "      <td>0.990818</td>\n",
       "      <td>0.990868</td>\n",
       "      <td>0.000036</td>\n",
       "      <td>8</td>\n",
       "      <td>0.990940</td>\n",
       "      <td>0.990950</td>\n",
       "      <td>0.990839</td>\n",
       "      <td>0.990910</td>\n",
       "      <td>0.000050</td>\n",
       "    </tr>\n",
       "    <tr>\n",
       "      <td>8</td>\n",
       "      <td>2.652372</td>\n",
       "      <td>0.025890</td>\n",
       "      <td>0.117199</td>\n",
       "      <td>0.003820</td>\n",
       "      <td>6</td>\n",
       "      <td>{'max_depth': 6}</td>\n",
       "      <td>0.989299</td>\n",
       "      <td>0.989232</td>\n",
       "      <td>0.989250</td>\n",
       "      <td>0.989260</td>\n",
       "      <td>0.000028</td>\n",
       "      <td>9</td>\n",
       "      <td>0.989319</td>\n",
       "      <td>0.989250</td>\n",
       "      <td>0.989241</td>\n",
       "      <td>0.989270</td>\n",
       "      <td>0.000035</td>\n",
       "    </tr>\n",
       "    <tr>\n",
       "      <td>5</td>\n",
       "      <td>2.292523</td>\n",
       "      <td>0.032247</td>\n",
       "      <td>0.112122</td>\n",
       "      <td>0.009833</td>\n",
       "      <td>5</td>\n",
       "      <td>{'max_depth': 5}</td>\n",
       "      <td>0.988899</td>\n",
       "      <td>0.988837</td>\n",
       "      <td>0.988859</td>\n",
       "      <td>0.988865</td>\n",
       "      <td>0.000026</td>\n",
       "      <td>10</td>\n",
       "      <td>0.988915</td>\n",
       "      <td>0.988846</td>\n",
       "      <td>0.988835</td>\n",
       "      <td>0.988865</td>\n",
       "      <td>0.000035</td>\n",
       "    </tr>\n",
       "  </tbody>\n",
       "</table>\n",
       "</div>"
      ],
      "text/plain": [
       "   mean_fit_time  std_fit_time  mean_score_time  std_score_time  \\\n",
       "2       6.692538      0.058126         0.287932        0.005853   \n",
       "4       6.429241      0.050514         0.278755        0.018110   \n",
       "9       6.195675      0.097118         0.242651        0.004057   \n",
       "7       5.954483      0.063399         0.232235        0.010704   \n",
       "3       5.288377      0.020383         0.185214        0.001976   \n",
       "1       4.622681      0.063880         0.161718        0.001684   \n",
       "0       4.221127      0.150227         0.138986        0.005553   \n",
       "6       3.540153      0.070055         0.128617        0.014162   \n",
       "8       2.652372      0.025890         0.117199        0.003820   \n",
       "5       2.292523      0.032247         0.112122        0.009833   \n",
       "\n",
       "  param_max_depth             params  split0_test_score  split1_test_score  \\\n",
       "2              24  {'max_depth': 24}           0.996674           0.996821   \n",
       "4              22  {'max_depth': 22}           0.996565           0.996728   \n",
       "9              20  {'max_depth': 20}           0.996422           0.996471   \n",
       "7              19  {'max_depth': 19}           0.996243           0.996266   \n",
       "3              16  {'max_depth': 16}           0.995260           0.995335   \n",
       "1              13  {'max_depth': 13}           0.993740           0.993757   \n",
       "0              11  {'max_depth': 11}           0.992360           0.992327   \n",
       "6               9   {'max_depth': 9}           0.990887           0.990899   \n",
       "8               6   {'max_depth': 6}           0.989299           0.989232   \n",
       "5               5   {'max_depth': 5}           0.988899           0.988837   \n",
       "\n",
       "   split2_test_score  mean_test_score  std_test_score  rank_test_score  \\\n",
       "2           0.996665         0.996720        0.000072                1   \n",
       "4           0.996589         0.996628        0.000072                2   \n",
       "9           0.996305         0.996399        0.000070                3   \n",
       "7           0.996136         0.996215        0.000057                4   \n",
       "3           0.995084         0.995226        0.000105                5   \n",
       "1           0.993625         0.993707        0.000059                6   \n",
       "0           0.992275         0.992321        0.000035                7   \n",
       "6           0.990818         0.990868        0.000036                8   \n",
       "8           0.989250         0.989260        0.000028                9   \n",
       "5           0.988859         0.988865        0.000026               10   \n",
       "\n",
       "   split0_train_score  split1_train_score  split2_train_score  \\\n",
       "2            0.998797            0.998895            0.998683   \n",
       "4            0.998298            0.998460            0.998267   \n",
       "9            0.997621            0.997871            0.997655   \n",
       "7            0.997220            0.997486            0.997262   \n",
       "3            0.995801            0.996011            0.995727   \n",
       "1            0.993900            0.994017            0.993782   \n",
       "0            0.992431            0.992456            0.992351   \n",
       "6            0.990940            0.990950            0.990839   \n",
       "8            0.989319            0.989250            0.989241   \n",
       "5            0.988915            0.988846            0.988835   \n",
       "\n",
       "   mean_train_score  std_train_score  \n",
       "2          0.998791         0.000087  \n",
       "4          0.998341         0.000085  \n",
       "9          0.997716         0.000110  \n",
       "7          0.997322         0.000117  \n",
       "3          0.995846         0.000120  \n",
       "1          0.993900         0.000096  \n",
       "0          0.992413         0.000045  \n",
       "6          0.990910         0.000050  \n",
       "8          0.989270         0.000035  \n",
       "5          0.988865         0.000035  "
      ]
     },
     "execution_count": 197,
     "metadata": {},
     "output_type": "execute_result"
    }
   ],
   "source": [
    "model_cv_results = pd.DataFrame(model_tuned.cv_results_).sort_values(by='mean_test_score' , ascending=False)\n",
    "model_cv_results"
   ]
  },
  {
   "cell_type": "code",
   "execution_count": 198,
   "metadata": {},
   "outputs": [
    {
     "data": {
      "image/png": "[encoded data removed]",
      "text/plain": [
       "<Figure size 432x288 with 1 Axes>"
      ]
     },
     "metadata": {
      "needs_background": "light"
     },
     "output_type": "display_data"
    }
   ],
   "source": [
    "model_cv_results.set_index('param_max_depth')['mean_test_score'].plot(color='g',legend=True)\n",
    "model_cv_results.set_index('param_max_depth')['mean_train_score'].plot(color='r' , legend=True)\n",
    "plt.grid(True)\n",
    "plt.show()"
   ]
  },
  {
   "cell_type": "markdown",
   "metadata": {},
   "source": [
    "# XGBoost"
   ]
  },
  {
   "cell_type": "code",
   "execution_count": 199,
   "metadata": {},
   "outputs": [],
   "source": [
    "import xgboost as xgb"
   ]
  },
  {
   "cell_type": "code",
   "execution_count": 200,
   "metadata": {},
   "outputs": [
    {
     "name": "stderr",
     "output_type": "stream",
     "text": [
      "C:\\Users\\ashok\\Anaconda3\\lib\\site-packages\\xgboost\\core.py:587: FutureWarning: Series.base is deprecated and will be removed in a future version\n",
      "  if getattr(data, 'base', None) is not None and \\\n"
     ]
    }
   ],
   "source": [
    "dtrain = xgb.DMatrix(X_train,y_train)\n",
    "dvalidate = xgb.DMatrix(X_val[X_train.columns],y_val)\n",
    "params = {'eta' : 1,'max_depth' : 5,'objecive' : 'reg:linear'}\n",
    "model_xg = xgb.train(params, dtrain , 5)\n",
    "y_pred_xg = model_xg.predict(dvalidate)\n",
    "y_pred_xg = np.exp(y_pred_xg)-1"
   ]
  },
  {
   "cell_type": "code",
   "execution_count": 201,
   "metadata": {},
   "outputs": [
    {
     "data": {
      "text/plain": [
       "array([-5.0068319e-02, -1.1340499e-02,  6.4891250e+03, ...,\n",
       "        1.2644985e+04,  7.4894692e+03,  6.6371123e+03], dtype=float32)"
      ]
     },
     "execution_count": 201,
     "metadata": {},
     "output_type": "execute_result"
    }
   ],
   "source": [
    "y_pred_xg"
   ]
  },
  {
   "cell_type": "code",
   "execution_count": 202,
   "metadata": {},
   "outputs": [],
   "source": [
    "#rmspe(y_val,y_pred_xg)"
   ]
  },
  {
   "cell_type": "code",
   "execution_count": 203,
   "metadata": {},
   "outputs": [],
   "source": [
    "test_pred = dt.predict(test_model_open[X_train.columns])\n",
    "test_pred_inv = np.exp(test_pred)-1"
   ]
  },
  {
   "cell_type": "code",
   "execution_count": 204,
   "metadata": {},
   "outputs": [
    {
     "data": {
      "text/plain": [
       "array([ 7413.15347714,  6098.66222666,  7210.06059065, ...,\n",
       "        5790.9428882 , 21658.22306126,  5029.38708966])"
      ]
     },
     "execution_count": 204,
     "metadata": {},
     "output_type": "execute_result"
    }
   ],
   "source": [
    "test_pred_inv"
   ]
  },
  {
   "cell_type": "code",
   "execution_count": 207,
   "metadata": {},
   "outputs": [
    {
     "data": {
      "text/html": [
       "<div>\n",
       "<style scoped>\n",
       "    .dataframe tbody tr th:only-of-type {\n",
       "        vertical-align: middle;\n",
       "    }\n",
       "\n",
       "    .dataframe tbody tr th {\n",
       "        vertical-align: top;\n",
       "    }\n",
       "\n",
       "    .dataframe thead th {\n",
       "        text-align: right;\n",
       "    }\n",
       "</style>\n",
       "<table border=\"1\" class=\"dataframe\">\n",
       "  <thead>\n",
       "    <tr style=\"text-align: right;\">\n",
       "      <th></th>\n",
       "      <th>id</th>\n",
       "      <th>Sales</th>\n",
       "    </tr>\n",
       "  </thead>\n",
       "  <tbody>\n",
       "    <tr>\n",
       "      <td>0</td>\n",
       "      <td>1</td>\n",
       "      <td>7413</td>\n",
       "    </tr>\n",
       "    <tr>\n",
       "      <td>1</td>\n",
       "      <td>2</td>\n",
       "      <td>6098</td>\n",
       "    </tr>\n",
       "    <tr>\n",
       "      <td>2</td>\n",
       "      <td>3</td>\n",
       "      <td>7210</td>\n",
       "    </tr>\n",
       "    <tr>\n",
       "      <td>3</td>\n",
       "      <td>4</td>\n",
       "      <td>6789</td>\n",
       "    </tr>\n",
       "    <tr>\n",
       "      <td>4</td>\n",
       "      <td>5</td>\n",
       "      <td>6889</td>\n",
       "    </tr>\n",
       "  </tbody>\n",
       "</table>\n",
       "</div>"
      ],
      "text/plain": [
       "   id  Sales\n",
       "0   1   7413\n",
       "1   2   6098\n",
       "2   3   7210\n",
       "3   4   6789\n",
       "4   5   6889"
      ]
     },
     "execution_count": 207,
     "metadata": {},
     "output_type": "execute_result"
    }
   ],
   "source": [
    "submission1 = pd.DataFrame({ \"id\" : test_model_open.index , 'Sales' : test_pred_inv})\n",
    "submission1['Sales'] = submission1['Sales'].astype(int)\n",
    "submission1['id']= submission1.index\n",
    "submission1['id'] = submission1['id']+1\n",
    "submission1.head()"
   ]
  },
  {
   "cell_type": "code",
   "execution_count": 208,
   "metadata": {},
   "outputs": [
    {
     "data": {
      "text/plain": [
       "(35104, 2)"
      ]
     },
     "execution_count": 208,
     "metadata": {},
     "output_type": "execute_result"
    }
   ],
   "source": [
    "submission1.shape"
   ]
  },
  {
   "cell_type": "code",
   "execution_count": 209,
   "metadata": {},
   "outputs": [
    {
     "data": {
      "text/html": [
       "<div>\n",
       "<style scoped>\n",
       "    .dataframe tbody tr th:only-of-type {\n",
       "        vertical-align: middle;\n",
       "    }\n",
       "\n",
       "    .dataframe tbody tr th {\n",
       "        vertical-align: top;\n",
       "    }\n",
       "\n",
       "    .dataframe thead th {\n",
       "        text-align: right;\n",
       "    }\n",
       "</style>\n",
       "<table border=\"1\" class=\"dataframe\">\n",
       "  <thead>\n",
       "    <tr style=\"text-align: right;\">\n",
       "      <th></th>\n",
       "      <th>id</th>\n",
       "      <th>Sales</th>\n",
       "    </tr>\n",
       "  </thead>\n",
       "  <tbody>\n",
       "    <tr>\n",
       "      <td>0</td>\n",
       "      <td>1</td>\n",
       "      <td>7413</td>\n",
       "    </tr>\n",
       "    <tr>\n",
       "      <td>1</td>\n",
       "      <td>2</td>\n",
       "      <td>6098</td>\n",
       "    </tr>\n",
       "    <tr>\n",
       "      <td>2</td>\n",
       "      <td>3</td>\n",
       "      <td>7210</td>\n",
       "    </tr>\n",
       "    <tr>\n",
       "      <td>3</td>\n",
       "      <td>4</td>\n",
       "      <td>6789</td>\n",
       "    </tr>\n",
       "    <tr>\n",
       "      <td>4</td>\n",
       "      <td>5</td>\n",
       "      <td>6889</td>\n",
       "    </tr>\n",
       "    <tr>\n",
       "      <td>...</td>\n",
       "      <td>...</td>\n",
       "      <td>...</td>\n",
       "    </tr>\n",
       "    <tr>\n",
       "      <td>35099</td>\n",
       "      <td>35100</td>\n",
       "      <td>4341</td>\n",
       "    </tr>\n",
       "    <tr>\n",
       "      <td>35100</td>\n",
       "      <td>35101</td>\n",
       "      <td>8282</td>\n",
       "    </tr>\n",
       "    <tr>\n",
       "      <td>35101</td>\n",
       "      <td>35102</td>\n",
       "      <td>5790</td>\n",
       "    </tr>\n",
       "    <tr>\n",
       "      <td>35102</td>\n",
       "      <td>35103</td>\n",
       "      <td>21658</td>\n",
       "    </tr>\n",
       "    <tr>\n",
       "      <td>35103</td>\n",
       "      <td>35104</td>\n",
       "      <td>5029</td>\n",
       "    </tr>\n",
       "  </tbody>\n",
       "</table>\n",
       "<p>35104 rows × 2 columns</p>\n",
       "</div>"
      ],
      "text/plain": [
       "          id  Sales\n",
       "0          1   7413\n",
       "1          2   6098\n",
       "2          3   7210\n",
       "3          4   6789\n",
       "4          5   6889\n",
       "...      ...    ...\n",
       "35099  35100   4341\n",
       "35100  35101   8282\n",
       "35101  35102   5790\n",
       "35102  35103  21658\n",
       "35103  35104   5029\n",
       "\n",
       "[35104 rows x 2 columns]"
      ]
     },
     "execution_count": 209,
     "metadata": {},
     "output_type": "execute_result"
    }
   ],
   "source": [
    "submission1"
   ]
  },
  {
   "cell_type": "code",
   "execution_count": 210,
   "metadata": {},
   "outputs": [],
   "source": [
    "submission1.to_csv('sumbission1.csv',index=False)"
   ]
  },
  {
   "cell_type": "code",
   "execution_count": null,
   "metadata": {},
   "outputs": [],
   "source": []
  }
 ],
 "metadata": {
  "kernelspec": {
   "display_name": "Python 3",
   "language": "python",
   "name": "python3"
  },
  "language_info": {
   "codemirror_mode": {
    "name": "ipython",
    "version": 3
   },
   "file_extension": ".py",
   "mimetype": "text/x-python",
   "name": "python",
   "nbconvert_exporter": "python",
   "pygments_lexer": "ipython3",
   "version": "3.7.4"
  }
 },
 "nbformat": 4,
 "nbformat_minor": 2
}
